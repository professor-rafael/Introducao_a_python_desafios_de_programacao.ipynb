{
  "nbformat": 4,
  "nbformat_minor": 0,
  "metadata": {
    "colab": {
      "provenance": [],
      "authorship_tag": "ABX9TyMr5/v920VBlibsyvGfpQ4c",
      "include_colab_link": true
    },
    "kernelspec": {
      "name": "python3",
      "display_name": "Python 3"
    },
    "language_info": {
      "name": "python"
    }
  },
  "cells": [
    {
      "cell_type": "markdown",
      "metadata": {
        "id": "view-in-github",
        "colab_type": "text"
      },
      "source": [
        "<a href=\"https://colab.research.google.com/github/professor-rafael/--Pagina-de-captura-de-leads/blob/main/Introdu%C3%A7%C3%A3o_a_python_desafios_de_programa%C3%A7%C3%A3o.ipynb\" target=\"_parent\"><img src=\"https://colab.research.google.com/assets/colab-badge.svg\" alt=\"Open In Colab\"/></a>"
      ]
    },
    {
      "cell_type": "markdown",
      "source": [
        "## aula I"
      ],
      "metadata": {
        "id": "ZhhTJo0Lra5t"
      }
    },
    {
      "cell_type": "code",
      "source": [
        "print(\"I Competição de Programação da Start\")"
      ],
      "metadata": {
        "colab": {
          "base_uri": "https://localhost:8080/"
        },
        "id": "XX6qbri8o0-Y",
        "outputId": "e81b5bc2-1222-4062-bdc0-5528b81d2d2b"
      },
      "execution_count": 5,
      "outputs": [
        {
          "output_type": "stream",
          "name": "stdout",
          "text": [
            "I Competição de Programação da Start\n"
          ]
        }
      ]
    },
    {
      "cell_type": "code",
      "source": [
        "ano = \"II\"\n",
        "\n",
        "print(ano, \"Competição de Programação da Start\")"
      ],
      "metadata": {
        "colab": {
          "base_uri": "https://localhost:8080/"
        },
        "id": "s7fy2xZMqQII",
        "outputId": "b9ea26de-a407-4d42-b66e-0854d9641840"
      },
      "execution_count": 6,
      "outputs": [
        {
          "output_type": "stream",
          "name": "stdout",
          "text": [
            "II Competição de Programação da Start\n"
          ]
        }
      ]
    },
    {
      "cell_type": "code",
      "source": [
        "print(f\"{ano} Competição de Programação da Start\")"
      ],
      "metadata": {
        "colab": {
          "base_uri": "https://localhost:8080/"
        },
        "id": "6aSXRjPTq79o",
        "outputId": "4bc5620b-1984-488f-8c17-797c106b5413"
      },
      "execution_count": 7,
      "outputs": [
        {
          "output_type": "stream",
          "name": "stdout",
          "text": [
            "II Competição de Programação da Start\n"
          ]
        }
      ]
    },
    {
      "cell_type": "code",
      "source": [],
      "metadata": {
        "id": "6GD5stasq913"
      },
      "execution_count": null,
      "outputs": []
    },
    {
      "cell_type": "code",
      "source": [
        "def main():\n",
        "    ano = input(\"Digite o ano da competição: \")\n",
        "    tema = input(\"Digite o tema da competição: \")\n",
        "    local = \"São Paulo\"\n",
        "\n",
        "    titulo = f\"{ano} - Competição de programação da start - {local}: Tema: {tema}\"\n",
        "\n",
        "    # Imprimir com destaque\n",
        "    print(\"=\" * len(titulo))\n",
        "    print(titulo)\n",
        "    print(\"=\" * len(titulo))\n",
        "\n",
        "if __name__ == \"__main__\":\n",
        "    main()"
      ],
      "metadata": {
        "colab": {
          "base_uri": "https://localhost:8080/"
        },
        "id": "nwawPqz-zouj",
        "outputId": "a3772b9a-69d3-45c2-da2e-f242b57ea435"
      },
      "execution_count": 14,
      "outputs": [
        {
          "output_type": "stream",
          "name": "stdout",
          "text": [
            "Digite o ano da competição: 2023\n",
            "Digite o tema da competição: inovação\n",
            "=====================================================================\n",
            "2023 - Competição de programação da start - São Paulo: Tema: inovação\n",
            "=====================================================================\n"
          ]
        }
      ]
    },
    {
      "cell_type": "markdown",
      "source": [
        "Contexto:\n",
        "\n",
        "Uma escola está promovendo uma campanha de incentivo à leitura, em que cada estudante recebe pontos ao concluir livros. Esses pontos podem ser trocados por diferentes premios da escola. As categorias de livros têm valores de pontos diferentes:\n",
        "\n",
        "* Livro de ficção: 10 pontos\n",
        "* Livro de não-ficção: 8 pontos\n",
        "* Livro infantil: 6 pontos\n",
        "\n",
        "**Problema:**\n",
        "\n",
        "Rafael leu um livro de cada categoria. Agora ele quer saber quantos pontos acumulou com sua leitura.\n",
        "\n",
        "Nosso objetivo é criar um programa em Python que:\n",
        "\n",
        "* Armazene a pontuação de cada categoria de livro em uma variável.\n",
        "* Calcule o total de pontos acumulados por Rafael.\n",
        "* Mostre na tela o total de pontos acumulados por Rafael."
      ],
      "metadata": {
        "id": "ET2CQtZdr573"
      }
    },
    {
      "cell_type": "code",
      "source": [
        "livro_ficcao = 10\n",
        "livro_nficcao = 8\n",
        "livro_infantil = 6\n",
        "\n",
        "pontos_rafael = livro_ficcao + livro_nficcao + livro_infantil\n",
        "\n",
        "print(f\"Os pontos totais do Rafael são: {pontos_rafael}\")"
      ],
      "metadata": {
        "colab": {
          "base_uri": "https://localhost:8080/"
        },
        "id": "KIzuvpBhsW80",
        "outputId": "d95a30ec-e189-48a3-9e0e-2ee632907777"
      },
      "execution_count": 10,
      "outputs": [
        {
          "output_type": "stream",
          "name": "stdout",
          "text": [
            "Os pontos totais do Rafael são: 24\n"
          ]
        }
      ]
    },
    {
      "cell_type": "markdown",
      "source": [
        "### Desafio\n",
        "\n",
        "Ana também participou da campanha e leu 2 livros de ficção e 5 livros infantis.\n",
        "\n",
        "Como podemos calcular o total de pontos de Ana? Será que é possível calcular o total de pontos acumulados por Rafael e Ana juntos?"
      ],
      "metadata": {
        "id": "ECLIjM2wutWD"
      }
    },
    {
      "cell_type": "code",
      "source": [
        "# Pontos por tipo de livro\n",
        "PONTOS_FICCAO = 5\n",
        "PONTOS_INFANTIL = 3\n",
        "\n",
        "# Livros lidos por Ana\n",
        "livros_ficcao_ana = 2\n",
        "livros_infantil_ana = 5\n",
        "\n",
        "# Cálculo dos pontos de Ana\n",
        "pontos_ficcao_ana = livros_ficcao_ana * PONTOS_FICCAO\n",
        "pontos_infantil_ana = livros_infantil_ana * PONTOS_INFANTIL\n",
        "total_ana = pontos_ficcao_ana + pontos_infantil_ana\n",
        "\n",
        "# Livros lidos por Rafael (do desafio anterior)\n",
        "livros_ficcao_rafael = 3\n",
        "livros_infantil_rafael = 4\n",
        "\n",
        "# Cálculo dos pontos de Rafael\n",
        "pontos_ficcao_rafael = livros_ficcao_rafael * PONTOS_FICCAO\n",
        "pontos_infantil_rafael = livros_infantil_rafael * PONTOS_INFANTIL\n",
        "total_rafael = pontos_ficcao_rafael + pontos_infantil_rafael\n",
        "\n",
        "# Total de pontos de Ana e Rafael juntos\n",
        "total_ambos = total_ana + total_rafael\n",
        "\n",
        "# Exibindo os resultados\n",
        "print(f\"Total de pontos de Ana: {total_ana}\")\n",
        "print(f\"Total de pontos de Rafael: {total_rafael}\")\n",
        "print(f\"Total de pontos de Ana e Rafael juntos: {total_ambos}\")"
      ],
      "metadata": {
        "colab": {
          "base_uri": "https://localhost:8080/"
        },
        "id": "NeZ2O-_evnCD",
        "outputId": "53cb29d5-94e6-4c2e-b087-d0cb806815c0"
      },
      "execution_count": 11,
      "outputs": [
        {
          "output_type": "stream",
          "name": "stdout",
          "text": [
            "Total de pontos de Ana: 25\n",
            "Total de pontos de Rafael: 27\n",
            "Total de pontos de Ana e Rafael juntos: 52\n"
          ]
        }
      ]
    },
    {
      "cell_type": "markdown",
      "source": [
        "## Aula 3"
      ],
      "metadata": {
        "id": "CjThx84Tw-Lu"
      }
    },
    {
      "cell_type": "markdown",
      "source": [
        "Divisão do tesouro: https://olimpiada.ic.unicamp.br/passadas/OBI2020/fase1/programacao-b/\n",
        "\n",
        "A turma do 2º ano encontrou um envelope cheio de figurinhas. Para garantir uma divisão justa, todos concordaram com a sugestão de João, o dono do envelope:\n",
        "\n",
        "Cada amigo, exceto João, deve receber exatamente o mesmo número de figurinhas. João deve receber o dobro da quantidade que cada amigo recebe. Pode ser que o fato de João ser o dono do envelope tenha ajudado a convencer os amigos, mas também contribuiu o fato de que, do jeito proposto, a divisão era exata, sem sobrar nem faltar figurinhas.\n",
        "\n",
        "**Problema:**\n",
        "\n",
        "Crie um programa que determine a quantidade de figurinhas que João recebeu, dado o número total de figurinhas no envelope e o número de amigos de João.\n",
        "\n",
        "**Entrada:**\n",
        "\n",
        "* A primeira linha contém um número inteiro `total_figurinhas`, que representa o número de figurinhas no envelope.\n",
        "* A segunda linha contém um número inteiro `numero_amigos`, que representa a quantidade de amigos de João (excluindo o próprio João)."
      ],
      "metadata": {
        "id": "kD21Quy-xGqG"
      }
    },
    {
      "cell_type": "code",
      "source": [
        "total_figurinhas = int(input(\"Digite o total de figurinhas: \"))\n",
        "numero_amigos = int(input(\"Digite o número de amigos: \"))\n",
        "\n",
        "figurinhas_amigos = total_figurinhas // (numero_amigos + 2)\n",
        "figurinhas_joao = 2 * figurinhas_amigos\n",
        "\n",
        "print(f\"João recebeu {figurinhas_joao} figurinhas.\")"
      ],
      "metadata": {
        "colab": {
          "base_uri": "https://localhost:8080/"
        },
        "id": "OGqVMERexNc2",
        "outputId": "c687317b-3f5d-431b-f788-7cb0c94fc928"
      },
      "execution_count": 12,
      "outputs": [
        {
          "output_type": "stream",
          "name": "stdout",
          "text": [
            "Digite o total de figurinhas: 40\n",
            "Digite o número de amigos: 10\n",
            "João recebeu 6 figurinhas.\n"
          ]
        }
      ]
    },
    {
      "cell_type": "markdown",
      "source": [
        "Depois de dividir as figurinhas no recreio, João percebeu que ainda havia algumas figurinhas extras em sua mochila. Ele decidiu que essas figurinhas extras também devem ser distribuídas de forma justa entre ele e seus amigos, mantendo a mesma regra:\n",
        "\n",
        "Cada amigo recebe uma quantidade igual de figurinhas.\n",
        "João recebe o dobro da quantidade de figurinhas que cada amigo recebe.\n",
        "Ajude João a distribuir todas as figurinhas, incluindo as extras, de maneira justa, sem deixar nenhuma figurinha sobrando.\n",
        "\n",
        "Entrada\n",
        "\n",
        "* número total de figurinhas no envelope.\n",
        "* número de amigos de João (excluindo o próprio João).\n",
        "* número de figurinhas extras encontradas na mochila de João.\n",
        "* calcular a nova quantidade total de figurinhas, somando as extras.\n",
        "* dividir as figurinhas entre João e seus amigos, garantindo que João receba o dobro de figurinhas que cada amigo.\n",
        "exibir a quantidade de figurinhas que João recebeu."
      ],
      "metadata": {
        "id": "TdONrU9UxghS"
      }
    },
    {
      "cell_type": "markdown",
      "source": [
        "## Desafio"
      ],
      "metadata": {
        "id": "MAt7dWBtxeBb"
      }
    },
    {
      "cell_type": "code",
      "source": [
        "def main():\n",
        "    # Entrada de dados\n",
        "    figurinhas_envelope = int(input(\"Digite o número total de figurinhas no envelope: \"))\n",
        "    num_amigos = int(input(\"Digite o número de amigos de João (excluindo ele): \"))\n",
        "    figurinhas_extras = int(input(\"Digite o número de figurinhas extras: \"))\n",
        "\n",
        "    # Calcular o novo total\n",
        "    total_figurinhas = figurinhas_envelope + figurinhas_extras\n",
        "\n",
        "    # Calcular a quantidade que cada amigo recebe (x)\n",
        "    # Total de pessoas: num_amigos (amigos) + 1 (João)\n",
        "    # Mas a distribuição é: cada amigo recebe x, João recebe 2x\n",
        "    # Portanto: total_figurinhas = x * num_amigos + 2x = x * (num_amigos + 2)\n",
        "    x = total_figurinhas // (num_amigos + 2)\n",
        "\n",
        "    # João recebe 2x\n",
        "    joao_recebe = 2 * x\n",
        "\n",
        "    # Exibir o resultado\n",
        "    print(f\"João recebeu {joao_recebe} figurinhas.\")\n",
        "\n",
        "if __name__ == \"__main__\":\n",
        "    main()"
      ],
      "metadata": {
        "colab": {
          "base_uri": "https://localhost:8080/"
        },
        "id": "3zuXvHFVzFUM",
        "outputId": "bc585dca-63ab-46e7-8db1-d476e0248004"
      },
      "execution_count": 13,
      "outputs": [
        {
          "output_type": "stream",
          "name": "stdout",
          "text": [
            "Digite o número total de figurinhas no envelope: 2\n",
            "Digite o número de amigos de João (excluindo ele): 7\n",
            "Digite o número de figurinhas extras: 99\n",
            "João recebeu 22 figurinhas.\n"
          ]
        }
      ]
    },
    {
      "cell_type": "markdown",
      "source": [
        "## Aula 4"
      ],
      "metadata": {
        "id": "lAqvdaNH4ENV"
      }
    },
    {
      "cell_type": "markdown",
      "source": [
        "Bondinho - link: https://olimpiada.ic.unicamp.br/pratique/pj/2017/f1/bondinho/\n",
        "\n",
        "\n",
        "A turma de um colégio está organizando uma excursão para a serra e, para chegar ao pico da montanha, todos os alunos e monitores devem usar um bondinho. No entanto, a cabine do bondinho tem uma capacidade máxima de 50 pessoas por viagem.\n",
        "\n",
        "Você precisa criar um programa que verifique se todos os alunos e monitores podem ser transportados em apenas uma viagem.\n",
        "\n",
        "**Entrada**\n",
        "\n",
        "* Um número inteiro `numero_alunos`, representando a quantidade de alunos na excursão.\n",
        "* Um número inteiro `numero_monitores`, representando a quantidade de monitores na excursão."
      ],
      "metadata": {
        "id": "Xjy-eN8x4JaO"
      }
    },
    {
      "cell_type": "code",
      "source": [
        "numero_alunos = int(input(\"Digite a quantidade de alunos: \"))\n",
        "numero_monitores = int(input(\"Digite a quantidade de monitores: \"))\n",
        "resposta_positiva = \"Pode ir\"\n",
        "resposta_negativa = \"Não pode ir\"\n",
        "\n",
        "if numero_alunos + numero_monitores <= 50:\n",
        "  print(resposta_positiva)\n",
        "else:\n",
        "  print(resposta_negativa)"
      ],
      "metadata": {
        "colab": {
          "base_uri": "https://localhost:8080/"
        },
        "id": "vygQmHOi4QSV",
        "outputId": "733d95d1-8b21-4340-fdf6-460338856a6a"
      },
      "execution_count": 15,
      "outputs": [
        {
          "output_type": "stream",
          "name": "stdout",
          "text": [
            "Digite a quantidade de alunos: 2\n",
            "Digite a quantidade de monitores: 22\n",
            "Pode ir\n"
          ]
        }
      ]
    },
    {
      "cell_type": "code",
      "source": [
        "def main():\n",
        "    alunos = int(input(\"Digite o número de alunos: \"))\n",
        "\n",
        "    # Cálculo de monitores com arredondamento para cima\n",
        "    if alunos % 10 == 0:\n",
        "        monitores = alunos // 10\n",
        "    else:\n",
        "        monitores = (alunos // 10) + 1\n",
        "\n",
        "    professores = 8\n",
        "    total_pessoas = alunos + monitores + professores\n",
        "\n",
        "    if total_pessoas <= 30:\n",
        "        print(\"É possível levar todos em uma única viagem.\")\n",
        "    else:\n",
        "        print(\"Não é possível levar todos em uma única viagem.\")\n",
        "\n",
        "    print(f\"Alunos: {alunos}, Monitores: {monitores}, Professores: {professores}, Total: {total_pessoas}\")\n",
        "\n",
        "if __name__ == \"__main__\":\n",
        "    main()"
      ],
      "metadata": {
        "colab": {
          "base_uri": "https://localhost:8080/"
        },
        "id": "h2f8BoeY4-ld",
        "outputId": "043ac2e3-53ba-4d60-8fba-e1d26aa8c6e9"
      },
      "execution_count": 16,
      "outputs": [
        {
          "output_type": "stream",
          "name": "stdout",
          "text": [
            "Digite o número de alunos: 3\n",
            "É possível levar todos em uma única viagem.\n",
            "Alunos: 3, Monitores: 1, Professores: 8, Total: 12\n"
          ]
        }
      ]
    },
    {
      "cell_type": "markdown",
      "source": [
        "## Aula 5"
      ],
      "metadata": {
        "id": "lM1Y_RTs5tmw"
      }
    },
    {
      "cell_type": "markdown",
      "source": [
        "**Flíper:** https://olimpiada.ic.unicamp.br/pratique/pj/2014/f1/fliper/\n",
        "\n",
        "\n",
        "Flíper é um jogo em que uma bolinha de metal cai por um labirinto até chegar à parte de baixo. O jogador ganha pontos dependendo do caminho que a bolinha percorre. Ele pode controlar o trajeto da bolinha movendo algumas portinhas no labirinto. Cada portinha pode estar em duas posições: 0 (virada para a esquerda) ou 1 (virada para a direita).\n",
        "\n",
        "No flíper mostrado na imagem, há duas portinhas. A portinha P está na posição 1 (virada para a direita) e a portinha R está na posição 0 (virada para a esquerda). Isso faz com que a bolinha caia no caminho B.\n",
        "\n",
        "O programa que você deve escrever precisa, dado o valor das posições de P e R, informar por qual dos três caminhos (A, B ou C) a bolinha vai cair.\n",
        "\n",
        "**Entrada**\n",
        "\n",
        "As entradas correspondem a um valor inteiro P (0 ou 1) e um valor inteiro R (0 ou 1) que indicam as posições das portinhas do flíper."
      ],
      "metadata": {
        "id": "k_x5kioT50dj"
      }
    },
    {
      "cell_type": "markdown",
      "source": [
        "![image.png](data:image/png;base64,iVBORw0KGgoAAAANSUhEUgAAAvIAAAHjCAIAAADOm2y4AAAQAElEQVR4Aey9B1gVWbb2393mLOaAKCBg6jEiipgwYsSEqJgxdZz4zH/uN/HOnXvnm5nuaVu7zQoYUBET5pwzZsWAmDOYFQz0/H8f63bdcxERlHM459TiWc9216pdu/Z+q2qvt951POejm/qnCCgCikAeIXA9B39Xrlyh1d27d69evRofH//999+HhYW1bdu2Vq1axYsX/+DNf4UKFapSpUqzZs1CQkL+9Kc/bd68+fLly7cy/vJo+DcZWK4st+fNVec01v4BIRtTfLIBh11mw0fm+xErhZoioAgoAnmCQOG3/RUpUqRYsWK04nRUPDw8goODf/nLX44ZM6Zv377+/v4ff/yxl5eXm8UfbVxdXb29vRs3btyzZ89x48b99Kc/HTFiRP369aFBWMGCBelWTRGwGgLasSMh8FFR/VMEFAFFII8QgKlkb5xHGsBFqENuSpcuXbt27d69e3/yySdfffXVP//5z3/84x+//e1vv/zyy/Hjx8NgfvWrX/3tb39D1JkyZQr1bt26QWjKlCkjh//www90UiCP/hhVriy3p81V5zTW/gEhG1N8sgGHXWbDR+b7kfyjpSKgCCgC+YgAS3D16tWRZFq1atWpUydUGVScPn36QHeod+jQASGnSZMm7u7uFSpU4M0RTuPYpqNXBBQB6yCgtCYfV3I9tSKgCGRGAH6DVapUiTQUKk6tWrWqVq1arlw5JJlXr1598MEHH3300Yf6pwgoAorAGxD4iBVETRFQBJwAAeeYgrAWoS/UqWBUMPJNlJhzzFRnoQgoAtZA4COWDDVFQBFQBPIXAd67jAFAXKjjsTSchQsXNjxsGmY4taIIKAKKgNIa1k+1NyGgfkXA1ggYi7KtT6znUwQUAadAQGmNU1xGnYQioAgoAoqAIqAIfPCBzT98Z7yLaUURUAQUgR8RYDX+sZr1vzTAjH3U1RQBRUAReB0BVWtex0Q9ioAioAgoAopA/iGgZ34PBJTWvAd4eqgioAgoAoqAIqAI2BMCSmvs6WroWBQBRUARsA4C2qsiYBIElNaY5ELrNBUBRUARUAQUAedHQGmN819jnaEiYB0EnLBX4yPJOazkFoIcdms00/4NKLKsKD5ZwmI4zYaPzFdpjeCgpSKgCCgCioAioAg4PAJKaxz+EjrVBHQyioAioAgoAorAeyCgtOY9wNNDFQFFQBFQBBQBRcCeEHB+WmNPaOtYFAFFQBFQBBQBRcCKCCitsSK42rUioAgoAoqAImD/CDjTCJXWONPV1LkoAoqAIqAIKAKmRkBpjakvv05eEVAEFAHrIKC9KgL5g4DSmvzBXc+qCCgCb0XgXz/+SctXr15JRUtFQBFQBN6EgNKaNyGjfkVAEcg3BOAzP/zwQ2Ji4o4dO548eSLjKFiwoFS0VAQUAUXgTQgorXkTMupXBBSB/EQAWnP8+PHY2Ng7d+7k5zj03IqAIuBQCCitcajLpYPNawS0P7tFAMHm+vXrJ06cePz4MYPUDBQgqCkCisBbEVBa81aItIEioAjkDwIwm5cvX8q5C2oGSoDQUhFQBLJFQGlNtvC8y049RhFQBN4XgQ8//PD1LmA5rzvVowgoAoqAJQJKayzR0LoioAgoAoqAIqAIWBsBK/avtMaK4GrXioAioAgoAoqAImBLBJTW2BJtPZcioAgoAoqAdRDQXhWBDASU1mTAoIUioAgoAoqAIqAIOD4CSmsc/xrqDBQBRcA6CGivioAi4HAIKK1xuEumA1YEFAFFQBFQBBSBrBFQWpM1LupVBKyDgPaqCCgCioAiYEUElNZYEVztWhFQBBQBRUARUARsiYDSGluibZ1zaa+KgCKgCCgCioAikIGA0poMGLRQBBQBRUARUAQUAcdHIGta4/jz0hkoAoqAIqAIKAKKgOkQUFpjukuuE1YEFAFFQBF4fwS0B/tEQGmNfV4XHZUioAgoAoqAIqAI5BoBpTW5hkwPUAQUAUXAOghor4qAIvC+CCiteV8E9XhFQBFQBBQBRUARsBMElNbYyYXQYSgC1kFAe1UEFAFFwEwIKK0x09XWuSoCioAioAgoAk6NgNIap7681pmc9qoIKAKKgCKgCNgnAkpr7PO66KgUAXtE4F8Zfy9evODfV69e/fDDD8YoqeMxNh2lwkQwRxmtjlMRUATeioCd0Jq3jlMbKAKKQP4j8GHGX+HChfm3YMGCH330PwuIZT3/B/q2ERgMjIlgb2uu+xUBRcBhEPifVclhhqwDVQQUgfxDIDU19cyZMwsWLJiZ8bdw4cKjR48+fvyYEUF0KO3fEJauX7++cuXKjBnMjIyM3L1795MnT/Db/+B1hCZGQKeeIwSU1uQIJm2kCCgCIEC+5unTpwcPHvzjH//485///Be/+MWf//zn1atXp6SksNdRjCTagQMHJk2a9OWXX/7mN7/59a9/DUtLTEx0lPHrOBUBRSAbBJTWZAOO7lIEFIGsEUhLS0OhwR49eoTIgWXdzi69jDY9Pf1Zxl9ycjL/ojMVLVrUjNkou7xAOihF4H0QUFrzPujpsYqAIvA/CKDl/M+GHdegNXY8Oh2aIqAIvBcCSmveCz49WBFQBDIhYP+bjkK/7B9JHaEiYIcIKK2xw4uiQ1IEFAFFQBFQBBSBd0FAac27oKbH2BYBPZsioAgoAoqAIpAjBJTW5AgmbaQIKAKKgCKgCCgC9o+AWWmN/V8ZHaEioAgoAoqAIqAI5BIBpTW5BEybKwKKgCKgCCgCZkDAMeeotMYxr5uOWhFQBBQBRUARUAReQ0BpzWuQqEMRUAQUAUXAOghor4qAtRFQWmNthLV/RUARUAQUAUVAEbARAkprbAS0nkYRUASsg4D2qggoAorA/yCgtOZ/sNCaIqAI2DMC7/+bTfr9wvZ8fXVsikCeIKC0Jk9g1E6cCwGdjSKgCCgCioBjIqC0xjGvm45aEVAEFAFFQBFQBF5DQGnNa5BYx6G9KgKKgCKgCCgCioC1EVBaY22EtX9FQBFQBBQBRUAReDsCedJCaU2ewKidKAKKgCKgCCgCikD+I6C0Jv+vgY5AEVAEskTgXxl/We5SpyKQMwS0lekQUFpjukuuE1YEFAFFQBFQBJwVAaU1znpldV6KgMMgkCHK/OuHH3548eLF06dP2bQcumy+fPnyyZMnlK9evaKlZQNb1/V8ioAiYMcIKK2x44ujQ1MEzIHAhxl/qampGzdu3LNnT1pamlAZSiw9PR0ek5CQsGLFilu3bn2U8WcOYHSWioAikGsElNbkGjI9QBHIcwS0Q+gLtAZOs2HDhuTkZEtAihQpArPZu3fvpk2bHjx4AKux3Kt1RUARUAQsEVBaY4mG1hUBRSDfEICvlChR4vHjx+fOnTMGgY5D4unOnTs3btygXqhQIWOXVhQBRUAReB0BpTWvY+IcHp2FIuBICEBZSpUqVbdu3eLFix87duzmzZuMHiclGaiTJ08+e/bsJz/5SZkyZfBgqDuUaoqAIqAIZEJAaU0mQHRTEVAE8gcB1BpPT8+SJUseP3781atXDAJag6HWXL58+enTp3Xq1IH64MfwU6opAoqAIpAJgdzQmkyH6qYioAgoAnmHQIECBWrXru3i4oJUQ8qJjiE6ONPS0hITE5FnfHx8ID341RQBRUAReBMCSmvehIz6FQFFwKYIkGwqXLhwlSpVypYte/v27RcvXkBlsKtXrz5+/LhEiRIVK1a06YD0ZIrAOyCgh+Q3Akpr8vsK6PkVAUUgAwHyShi0pnr16pcuXYLNFCtW7M6dO+fPn6fi7e1dsGDBjIZaKAKKgCLwRgSU1rwRGt2hCCgCtkQAToNVq1bN3d09ISHh7t27bKLTnDx5Ev3Gy8sLLceW47Gfc+lIFAFFIOcIKK3JOVbaUhFQBKyLwEcffVQr4+/69evXrl179erVixcvLly44OLigloDy+H0pKUo1RQBRUARyBIBpTVZwqJORcC5EbDH2UFiGFahQoUqVqxYoECBlJSUhw8fpqWlPXjwoFKlSuXLlxdaQxtMyQ0gqCkCisDrCCiteR0T9SgCikA+ICAfnYG7QGKqV68OrTl37hybNWvWxFO0aFHhPXgYnJRU1BQBRUARsERAaY0lGlp/DwT0UEUgjxAoXbp03bp1nz59Kumnjz/+uFy5cvSNhEOppggoAopANggorckGHN2lCCgCtkYAGQZa07Bhw8ePH585c6ZIkSLNmzevVq0a42AXpZoioAgoAtkgYNe0Jptx6y5FQBFwVgRQZapWrfry5cuUlBR0GpJQxYsXd9bJ6rwUAUUgbxFQWpO3eGpvioAikAcIwGbc3d2rV69eKeNPaU0eYKpdOCkCOq1MCCityQSIbioCikA+I/DRRx8VLVoUWuPr6+vm5la2bFlNP+XzJdHTKwKOg4DSGse5VjpSRcA0CBQuXNjDw6NTp06tWrVycXExzbztZKI6DEXAgRFQWuPAF0+Hrgg4JQJoMwUKFIDW+Pn5NW3alLpTTlMnpQgoAtZAQGmNNVDVPhUBReB/I5DLLZhNpUqVGjZs6O3tXaRIkVwerc0VAUXAvAgorTHvtdeZKwKKgCKgCCgCToaA0honu6Ammo5OVRFQBBQBRUARyISA0ppMgOimIqAIKAKKgCKgCDgqAkprLK+c1hUBRUARUAQUAUXAgRFQWuPAF0+HrggoAoqAIqAI2BYBez+b0hp7v0I6PkVAEVAEFAFFQBHIIQJKa3IIlDZTBBQBRUARsA4C2qsikHcIKK3JOyy1J0VAEVAEFAFFQBHIVwSU1uQr/HpyRUARsA4C2qsioAiYEwGlNea87jprRUARUAQUAUXACRFQWuOEF1WnZB0EtFdFQBFQBBQBe0dAaY29XyEdnyKgCCgCioAioAjkEAGlNTkEyjrNtFdFQBFQBBQBRUARyDsElNbkHZbakyKgCCgCioAioAjkLQK57E1pTS4B0+aKgCKgCCgCioAiYK8IKK2x1yuj41IEFAFFQBGwDgLaqxMjoLTGiS+uTk0RUAQUAUVAETAXAkprzHW9dbaKgCJgHQS0V0VAEbALBJTW2MVl0EEoAoqAIqAIKAKKwPsjoLTm/THUHhQB6yCgvSoCioAioAjkEgGlNbkETJsrAoqAIqAIKAKKgL0ioLTGXq+MdcalvSoCioAioAgoAk6MgNIaJ764OjVFQBFQBBQBRcBcCLw/rTEXXjpbRUARUAQUAUVAEbBbBJTW2O2l0YEpAoqAIqAIOAcCOgvbIaC0xnZY65kUAUVAEVAEFAFFwKoIKK2xKrzauSKgCCgC1kFAe1UEFIGsEFBakxUq6lMEFAFFQBFQBBQBB0RAaY0DXjQdsiJgHQS0V0VAEVAEHB0BpTWOfgV1/IqAIqAIKAKKgCLw3wgorflvIPQf6yCgvSoCioAioAgoArZDQGmN7bDWMykCioAioAgoAoqAVRFwQFpjVTy0c0VAEVAEFAFFQBFwWASU1jjspdOBKwKKgCKgCCgCznv5zgAAEABJREFUWSJgYqfSGhNffJ26IqAIKAKKgCLgXAgorXGu66mzUQQUAUXAOghor4qAQyCgtMYhLpMOUhFQBBQBRUARUATejoDSmrdjpC0UAUXAOghor4qAIqAI5DECSmvyGFDtThFQBBQBRUARUATyCwGlNfmFvJ7XOghor4qAIqAIKAImRkBpjYkvvk5dEVAEFAFFQBFwLgSU1rz9emoLRUARUAQUAUVAEXAIBJTWOMRl0kEqAoqAIqAIKAL2i4D9jExpjf1cCx2JIqAIKAKKgCKgCLwXAkpr3gs+PVgRUAQUAUXAOghor4rAuyCgtOZdUNNjFAFFQBFQBBQBRcAOEVBaY4cXRYekCCgC1kFAe1UEFAFnR0BpjbNfYZ2fyRB49erV06dPHz9+nJqa+ujRI8offvjhXxl/JkMif6YL/saJX758CfDGplYUAUXABggorbEByHoKZ0bAruZGEL179+727dsXLFjw9ddfT5kyZe3atVeuXHnx4sWHH35oV0N11sEULFgQKnngwIFly5bFx8fDL511pjovRcA+EVBaY5/XRUelCOQagWfPnu3bt2/mzJlTp06dOHHi5MmTJ02a9NVXX82YMWPnzp0aX3MN6Dsd8MMPP1y+fHn+/PnffvttXFxccnLyO3WjBykCisA7IqC05h2Bs+Zh2rcikGsEiKZnz56dNWsWIs3q1atRaMiGPHjwYP/+/bCcuXPnnjx5EhUh1/3qATlGIC0tjaxfYmLi1q1bV65cuWvXLurKJnOMnzZUBPIGAaU1eYOj9qII5CMC5J5u3rxJ1mP37t0PHz4sVapU+/btQ0NDO3ToULZsWWItURauk56eDvt553HKsZTPnz9/507y98APP8wiEwf/+zDj7+XLl7kaHrDTnsNB+Pz584cOHQJk5DGkMmglu+i1QIECVNQUAUUgrxF4Y39Ka94Ije5QBOwfAYnExNc7d+7s2bPn3LlzcJo2bdqMHTt23LhxI0eO7NevX5kyZdAMzpw5g2Aj7d9nXgUz/t6nB3s7lgkBIFaoUKFcjQ3WQnvKhIQEdLL/+I//+Otf/0riCdkMv5oioAjkCwJKa/IFdj2pIpCXCLx48eLGjRtXr14lNlevXr1Zs2atW7du0KBBx44dO3XqVK5cOfyXLl2C2ZAoye2JOTaHh+S8ZQ47tFIziEge9sys79+/D2U8fvz4xYsXyfQZ9IhdWB6eS7uyLgLau1MgoLTGKS6jTsKsCJDjIHA+efIkJSWF9BABu0iRIpUqVcIPJMWLF69Zs2axYsVoc/fuXVSE91FrPvroI05x7dq1Cxcu0LnjGihZDh5MmNT169epWPpzUgdYUntVq1YNDAzs2bNnSEgIPLJu3bo5OVbbKAKKgDUQUFpjDVS1T0XARghANTgTCsGzZ8+ePn1KvUSJEtAaEivUMZQDyA0VjGbysRiCMZtvNZphRjPqSD4rV66MiopCGRI//IlzEdpfvXoF6RGnnZfQGmDBZJxgsnPnzvnz5+/fvx/dS5w5LOkKHlm/fv3w8PDf/e53f/7zn8eOHevr6+vi4kIP//rXvwCNipoioAjYDAGlNTaDWk+kCOQ9AhI14RNklyg5AdGaQEvFMDaJvgRs4T2G/60VjsJoxllQMi5fvhyb8Sefh8XP3jJlyri7u1NCboRj4bdzAyL0FXJzjF+Gita1YcOGOXPmHDlyBCTFmfOSuZcuXbpatWqVK1eGU1asWDHnx2pLRUARyFsElNbkLZ7amyJgbQSy6B+94dGjR+wgTqPWlCxZkrphRHHqtEGtgaBQpxll9kZLMZrBh86fPz9v3rzIyMijR4/iwSAx9erV69evH+IEFAGPoxgKk4+PT3BwcPv27YsWLcqwmenNmzdXrVrFBPfu3ct8cebWBFVUKxikHEu3mNS1VAQUAdsgoLTGNjjrWRQBqyAgUZNQamgMkBjkGVFu5JRkiKSZbGZfGi0J0mJ4kpKS1q9fP3v27NOnT8vhMIM6deqEhYWNHj26Ro0ayBWMQXbZfwkhg4f17dt3/PjxzZs3FxbINJOTk5csWbJgwYIDBw68A7MBLpk7XUlFS0VAEbA9AkprbI+5/Z1RR+SwCBChGXvhwoURaahg0AsSRuJnE0OkoSTWQncoqWdjmWIz9OjcuXMrVqyYPHnyxYsX5UA69/LyGj58OFINORfOjh9mYxzLpv0biAUGBn755Zd+fn5oNoIMzIY8W0RExKFDh0QAk4nIXqlrqQgoAvaMgNIae746OjZF4C0IwGBoUaxYsbJly1LB8JBvEoYhFEeEh+LFi9NG/DTLJk7LLlrSFZwmJiZm4cKFly5dgrhwIJyGDM6oUaPgNLVr10YcwulwxuwwNJs2bdqMHDkyICAAfJg49uDBg02bNiFNkW579uyZTI3GUtFSEVAE7ByBj6w0Pu1WEVAEbICAsArEBiiLiDFE4sePH8NIODtEhApGvVSpUi4uLtKe4I0ne6MN8oxwGsk9kcyC0zRo0ACdZsCAAZ6entn3YP97ISvly5fv2rUrLK1t27YwG8aM8+bNm3FxcfJ/o8ATp5oioAg4CgJKaxzlSuk4FYEsECBJRBhGrSlTpkzJkiXhIjdu3EBiESpDSE5KSkKtkTZQnwIF3v5d/jTm8MTExOXLl0dGRp45cwYPJ+L0UBkIDVarVi02Mc5IKUYzqThQyZhhe0FBQcOGDWvWrBlIMlMmhWZDNgqZyjIbhR/LyezoVpoZFdnUUhGwREDr1kBAaY01UNU+FQEbISBREw3G3d0dqsEmSsP27dvRVx4+fHjw4MFt27Yh3uAnYdSiRQvYj4wMj1SkNKI1FeI6Os2CBQumTJly5coVNnEWLly4Tp06o0ePHjx4sKurqxxFST/sxag7ljFmMYZdunTpjh07fvbZZzAb2KFM6t69e0uXLpX/9Q2YNMOPGUfhydJoI36jIptaKgKKgA0QUFpjA5D1FIqAtRCQwEluqFy5co0aNapZs2ZqaioCwx//+MfPP//8P//zPzds2PDo0SNCNUKLh4cHaakshyL9ELDZe+HChUWLFkVHR1+6dAnZBg976ZncU3BwsJubGxQHp2HsxYxNR6kwZksjG9W+ffsvvvgiICCAdB6zAA35PpuIiIijR4/CDnFichSVLI29XA6MvWlpaXRCxYamp1IEzI6A0hqz3wE6fydAgCBKVCaT0qZNG4SHu3fvbt68ee7cuZs2bbp27Rq5J3Z16tSpVKlSBF3mKyUVw169ekUdYYYElnCas2fP4sHo/OOPPyZHg07j4+PzJmJES4c2MKlQoQJAMVOYTYkSJWQ6qF+rVq0CzAMHDpDUE6eUr1MWPCD5POOPNqholGqKgCJgSwSU1tgSbT2XImAVBAjJsI3GjRsPGjSof//+ZIvIE1WqVKlKlSowEkSIAQMG+Pn5vSnKEow5nDIpKWn58uWIEwkJCQyUbhFmPD09OXzEiBE1atTAiYmEQ8X5rHjx4t26dQsPDydhV7RoUTDB0GyWLFmycOHCI0eOZGI2mRAAMWQzYK9bt66XlxcSF1QyUxvdVAQUAasioLTGqvBq54qAjRAgoCIwtG7d+ve///0333zz85///Kc//emf//znv//973/7298CAwPJQ2UairATSiJ3eno68syCBQumTZt25coVaQnXIXU1duxYBIxq1aqJk/JN9Ihdjm7AiNyFsvXJJ59ABGE2zAh8SOQtXbp05syZ8fHxDx8+BDT8NKbMZO7u7mTrUHeWLFnCVYBfZmqgm4qAImBVBJTWWBVe7TxrBNRrDQRIfyA2uLm5tW3bNiQkZMiQIX369GnXrp2Hhwd5qNfPKOyEkgPPnz9P7glB4vLlyxKzyT3Vrl175MiRwcHBxOYsQ/jrfTqBh5m6uLiA4ZgxY0jqAalM6v79++vXr581a9axY8eMn0eQXZYluFWvXh3o6tWrB27IXZZ7ta4IKALWRkBpjbUR1v4VARshgLgiZ0JjILLCb8qXL59NWBX68sMPPyQmJgqnOXPmDJt0Qmxu0KDB0KFDBw8eTIRmk2CP3yTGZMklBQUFwerghQhdCDY4b926tWrVqvnz5x84cODJkycCoCUmtJFN2meqyKaWioAiYG0EnIbWWBso7V8RcDwE4CjY6+OWoFugQAFUB3JPa9asiYyMPHfunLREv/Hx8QkNDR04cKDknqS97DVJCUFBs+nSpQvcrmXLlmg2guS9e/fk+2wOHz78+udsOAp8aCkVE+LG9NUUgfxFQGlN/uKvZ1cE8gYBiaOWfRFTUVkwKpjlLrJOspmUlBQTE0Ni5eLFiwRjnHAaT0/PUaNGEc7JoUi3UrLXVMasSd517Nhx7Nixfn5+MBuBEWazZMmSGTNmxMfHP8r44fRMsIC5eOgBk7qWioAdIGCKISitMcVl1kmaEAEjoFLBLBGAuxChL1y4sHjx4ujoaHJPspd4TMpp2LBhvXr1gtNkk8CS9k5fghuJPPJQMBt/f/9ixYrJlO/fv7958+aIiIgjR46QjRKnloqAImAPCCitsYeroGNQBGyEgHwcBGHm9OnTcBrMktM0aNAgLOPPw8PDRgOy+9MIs+natevo0aPbZvxuFIwQ561bt1avXj137tz9+/enpqYa82CvUTdFRSepCNgZAkpr7OyC6HAUAWsigE4Dp0lISIiLiyP3dOrUKRQaTojfx8dn4MCBgwcPrlGjhvHpY3apQWLIRvXs2XP48OGNGjVCxAJDYEGzWbp06cKFCw8fPmwwG6U1IKOmCOQjAkpr8hF8PbUiYCMEJNZSYuSelixZMnny5IsXL3J6InSRIkXgNMTs0NDQmjVr4sxfs8+zFy9evFOnTl9++aX8r2+QxB48eLB8+XII4oEDBx4/fiwfWsJvn1PQUSkCZkBAaY0ZrrLO0ewISKAl6J47dw51Abt+/bqAglpDyonUU//+/amgTIjftKVglWn6OEGmXLlygYGBo0aNatWqFVxQ2qSkpMh/JTt27JhoNrSUXVoqAoqA7RFQWmN7zPWMtkfA1GckJMNdKJFnYmJiFixYcObMGTyAQimfpxkwYICnpyceExrIWM5aSEkmpzRgF8yma9euI0aMMD5nQ8s7d+6sWrUKYNFsnj59Ko0p2SVGXU0RUARsg4DSGtvgrGdRBPITAYLr2bNnV65cOXfuXCoMhdxT4cKFyT0NHDgQqcbd3R2nWlpaGjrW1atXjf/fBHQYhIYSo1K2bNmgoCCYTcuWLcFQQEtOTia1hwx26NAhslHi1FIRUARsj4DSmnfFXI9TBBwBASIxJp+nmT59elJSEpsMvECBAt7e3iNHjhw2bJibmxvRGqfZDCgwZg3Jo3zx4sX58+e//fbb3//+95s3b3748CFOkMGkGZsYmzCbTp06jRs3rnXr1qVKlWIvBrOJi4uDOKLZZGI27OVANUVAEbABAkprbACynkIRyE8Erly5gpAQHR1NzH716hVDITCTcho6dGivXr0qVePAR/8AABAASURBVKqEx5wGDhicg2Qc5Y0bN2JjY5dl/EVFRR09etT4HmGaWULEpnyfzZgxY/z9/YsWLSp7yUatW7du/vz58n02NBO/UZFNLRUBsyCQH/NUWpMfqOs5FQHrI0CcTk9PP3fuXEREBBLC6dOnCd5YwYIFGzRogEgzYMAALy8vI41i/RHZ6RnABLXmxIkTAAUjEfInH/61HDHUBDM81CtWrNitW7fhw4e3a9cOzYZdYH7r1q01a9YsWLBg//79ZLJohrFLTRFQBGyDgNIa2+CsZ1EEbIcAwZWTUV6+fBn5gVB95swZPARvSAy5p9DQ0CFDhri6ukrEFQmHBua0ly9fJiYmLly4cNasWVQKFSrUtm3bQYMGNWrUqHjx4m/CBHjZBZvp0aMHzKZ58+ZFihQRPNFsgD0mJubw4cOZslEcovaeCOjhikD2CCityR4f3asIOAwCBjtBpElLS7tw4QKEZubMmVQgNEwDWaJmzZojRowICwtzc3NDtpEwXKBAAfbalUEaDLPqwMDq2rVrM2bMIOtEEgpq0qVLF2hK9+7doSzZnFqgo0HJkiU7d+48fvz4li1bUpdhp6SkQGuQf+R/fYO/+C1LjlVTBBSBPEdAaU2eQ6odKgL5gwA0RU5MEL169Wp0dDSpkIsXLxJK8aPT+Pj4jB49ul+/fnAaKI4RmI0KzfLRGKdhthkGQJGkmzJlysqVK69fv44206lTJ3SswMDA8uXLA9Fbh8GAQc/FxaV9+/Zjx4718/MzPmdz//799evXT58+/ciRI8+ePaPlW3vTBoqAIvD+CCiteX8MtQdFIN8QsAyWL168YBxkPZBnSKlE//gblsRd9Bhvb++hQ4cOHDjQI+P3niwP5Kj8NQaTyWwwHjhNQkICghZYQW6KFSuG3AJEHTt2rFChQq4GAMLlypULCgoaOXKk8X+j6OHmzZvG70bBbGiGE2OylGqKgCJgDQSU1lgDVe3T9AjkBwBETUI18syaNWvmzJkjn6dhIIUKFapVq1afPn1CQkJcXV3xSFilxNi0thlnMSpZnpHBG0ZLjGaUt3/8u3PnzpMnT4S9set9jITd2bNnITSxsbG3bt1CYoHNwGk6dOiQK04D5jIMKqVLlyZ1BbNp1qwZySxGjj18+JBsFBTzsMXvRskhWioCioA1EFBaYw1UtU9FwKYIvHz5kvMhyVy+fHnRokXfffcdFTwYmRRPT0/yI+Hh4dWrV2cTJzFYSiqEXurWM/rnLMJXqHAiPBgeCEpaWhqBPzk5+fTp07t372bY7GKQtMRoDJUhQ0QqZ968eUuXLoWxxcfHo4Kw652NUyclJUVFRS1YsEB0GjgNdKR3795lypR5524ZMMymc+fOEyZM8Pf3l4/mpKen37t3b8WKFbNnz96zZw9TppmcgpkaJh4tFQFF4P0RUFrz/hjaqAc9jSLwOgLERZzoMYTPs2fPzp07d/ny5Qg2RG78RFA4TVhYWHBwcI0aNURCwC9HUcFoQ5lXRs+ZTHqGqWBSlzPevXt3586dkydP/v3vf/+rX/1q4sSJcXFx0BomQkvaYLSnfP78OSINmgr60/bt25njjh07nlr8RgHNcm4gA5WJiIgAKMgNXJC0EToNJaTE+HxSzjs0WjJxRks26vXP2aSkpKxbtw5mduDAgUePHjFHGhsHakURUATyEAGlNXkIpnalCNgaARgAAZLAf+rUqWXLlhE4kT1kEOyqX7/+8OHDhw0bVrNmTSIuJrusVDISTGI2FeMs1A0znPCSGxl/z549IweETEKCrGzZsgzbaEOlePHiLVu27NKlC1yhVatWderUIaHm4uJi8A96RqwiT3X+/Hn645BMRgMx/KmpqSdPniT3hKYFSSpRokTXrl3Bp127drnKPdHVmwyQ6UqyUVAlNBs5O7LTqlWruED79u1jGJmm+abe1K8IKAK5QoDGSmsAQU0RcEgEiJdoD69evUpMTNy4cSMhk9BOWMWImug0oaGhxGzoAjqNzJBdVCgxKnlujEdGJRX6lxM9fvyYfBO78MBCKOErXl5e5H1++ctf/u1vf/vjH/9I7qZRo0YoT8wIow3HwngaNGgQEBAA/+jVq9eYMWM+//xz6IIxI5phggB6z/79+yE3qDs4Mc5o0CwGcOXKlZiYGPJBly5dKly4MFSpb9++gYGB8lXLjJlD3tkYLcdyRkrYTM+ePUlsNWvWjBnhwdBsyEbFxsYeO3YMJopHTRFQBPIcAaU1eQ6pdqgIWB0BiZ2cBopARF+6dOnUqVPhNHjYRXxFpxkxYsTAgQPJPeG0jXFeToRuFB8fjxgDtWIwVBCQdu/enZycjIcGhHlaVq5cuWnTphAUb29vSADCCUyFBuxCicFoyeE0xg8FYRcVWE6xjD/2GsYh9ABrWbt27R/+8IcpU6YcPnz4YcYvOkGPgIgBkPA6fvx4ZGQknOb69et01a1bN2hHnz59SBtJV5xCKu9cMmAGI4eXzPg+G7hamzZt4HDswtBsENXmzJkDIGg2NBaTQ7S0SwR0UA6GgNIaB7tgOlxFAAQIkJTE7KSkJN7+SakgP7CJkzCJCoJO069fP/m/3DhtY4yKsI0gAb1gMIgfMK2IiIhvvvlmz549d+/etRwG44SywCSoYJa7jPqb/EYDqdCJu7s7iSpmDU+6f/8+JG/x4sUPHjzgFIwEdWTatGl///vfcaLlQJI6deo0ePDgDh06kPzicOnn/UtjwEBBHcKEIDRq1ChGBRmjf/zQO/BBWoP8wWxwqikCikAeIqC0Jg/B1K4UAVsgQGgkElNCZeA0CxcuRI0g1cK58f/kJz8ZOnRoSEgI5IbIitMGxmAwBJL169czGKK1fCUM6sjBgwcLFCgA7ShbtqyMhJaY1POkZNaoNQhUqFPjxo0jXVW9enXmjkn/165dW7du3apVqy5cuICIApuR79yD00gDK5UMoHz58t27d0c5E82GEzH327dvMxgIH2wPrHCqKQKKQF4hoLQmr5DUfhQB2yFAaDx79iy6CLyBCuETD9G9Xr16gwYNgtPUrl2bTdsMCDlEBgCV2bx5c7Vq1RAnLl68iCaBmOTv7//FF19AI0Q6ojFDzcOBcWqjN3pGIEGJ+T//5/8gxsBaXrx4Qcrp6tWr0D6yVOSwGFtYWBgiCoTDODDPK4yKwWBUSpcuHRQUNGzYsBYtWhjJNbSrJUuWLFiw4NChQ8+ePTMGwCFGXSuKgCLwDggorXkH0PQQRSDfECDswQygMkTE77//PjExUYYCiWnQoAEBG8UCnUacxFSpWLXk1IwK6Wjv3r1Pnz4leH/88cdVqlTp1q1beHh4jx49IDQkg2QMNJYKh2BSz6uSzrEiRYogySARPXr06MyZM3Pnzl25ciV1PK6urm3btkU+qVixIjmyvDrvm/oR/ClhNuTIxo8f36pVqxIlSkj7x48fQ0ynT58ObtRxAgiNKTE21RQBReAdEFBa8w6g6SGKQH4igBASk/FHhXHAcoiFyDPoNH369KlVqxZOGxtayP79+3fu3BkQEODr61ujRg1yYbCZ8+fPL1u27PDhwy9fvpRQzVAxqw4P8QPaFx0d/de//vXbb79dunQpag0nheswTkYikgkEyKrDoHOZMiVnR0ZCIho7dmzLli0RjWTvvXv3SNvNnz8fiGCENMNPiVFRUwQUgXdAQGnNO4BmkkN0mvaFANGRqAxRWJjxhw4h4yM8o9OMGDEiNDTU29sbJy0pbWbwqpMnTx45cqRs2bJt2rSpWrUqg9yxY8e2bduOHTtGtgWZxBiMDQI2p+Msp06dQqdB0wKo4sWLN834w8+oyI49fPjQGJK1K5yUU1CS9kKzGTp0KORPNBuuVHJyclxcHEPdt28faTJaGsZeo64VRUARyCECSmtyCJQ2UwTyGQGC3OXLl5csWUIITEhIkNEQwn18fEg8wWlEp7FBbkVOLSWjgiJAFK5fv+7v70+25eDBgwwSBQJi0aRJkyFDhjRs2NBIQslR1igZiXQLJtSx1Iy/woULk3uqV69e3bp1gejatWvLly+/efOmACWlHGi9ksFgMBuYHykwOGizZs2KFSsGJeWkMBvUN8hqfHx8JmbDXjVFQBHIFQK2pTW5Gpo2VgQUgQ8+IBwCA9HuwoULcIWZM2dCbvBgxG9yTyNHjoQ6uLu748EkUlKxtiHScAqYAzID6SfqqBGkfv7xj3+cPn2a4P3rX/+6d+/ejJCcC6MiqNMGo2IYm3lioITRFTQFrQiRhtxTSkoK+abGjRvXqVMH0CBeXl5eiEnwrY0bN964cYP2DIzSGiZzlJ6NOpeMbFS3bt1+9rOfwQJhNjLsx48fM+DZs2eTjaIu2HKUHK6lIqAI5BwBpTU5x0pbKgK2RoDwhr148eLq1aswBqL1xYsXJdoRIJEfRo0aBXVwc3OzHJk0sPRYow5jgENcunRp0aJFMAkEJPQG2IOvry80q0ePHj/5yU8qV67MYCRyW2MMRp+chcG8fPkyKSkJ5odcxEhI9HTt2jU8PPzzzz8fMGBAhQoVrly5gjTy4MGDlStXIo0Yh9uywlDRbFq3bj169GiyUSTIODsQ3b9/H9GLwZO5YyI41UyKgE77/RBQWvN++OnRioB1ECDOQWgoidboNDAGaM2ZM2c4GzEPTtOgQQPYA9EaBYJm+G1snBQ5ZPv27Tt27Hj27Bmh2sXFpWPHjmFhYagRFStWtPF4AOrkyZNz5sxZvHgxNKtMmTKBgYFQh/79+8sX1ZCna9SokYeHBxmxQ4cObdiw4dy5c1BGW46TQXI6mA1YgRJKW5s2baBfOLFbt27Bt+bNm0ciDxmMC41TTRFQBHKFgNKaXMGljRUBGyFA5EMOgb4QesmYEK2F03B68iaenp5Ea0x+wxKn7e358+cIHoytdOnSKDTDhg37zW9+g3TEkBgMg6cUYy5SsV759OnTs2fPxsTEkKcju8SQkEOGDh0KaYBvQRBhOdS/+OKLsWPHdurUCXJz5MiRLVu2wB6sN6ose4YO4gcTBomYxCBbtGiBZoMfu3fvHlITshzYknmkZZ6YdqIImAcBpTXmudY6UwdDgDd7OM3SpUu/++47ck8y+sKFC9erVw8OgVQDuYHiiN/GJQH45s2bp0+fLlmy5M9//vN///d/79WrV61atdhkSOy1HE+mTctdeVJHcbl27VpkZCSaFrknIILBIIR07ty5XLlynAJ5BhpBSVIM5eaXv/zlb3/722bNmgHviRMnjN/FpKW1jWEYp6AOs+nSpcu4ceNatmwJs2EXWMFsYmNjZ82aBfGy5dg4u5oi4AQIKK1xgouoU3AqBAhszIfy0qVLyA+8uBN98WAEQqjMwIEDyT25u7uziTOf7IP09HQSYRCsnj171q1bVwiEDCbTwDJtSpu8KlFi4HyoWcuWLaMCOUCMGTFiREBAAKQh01kYSdGiRd3c3GA8Y8aMoWQTSSxTM9tscokZD7i1b9+eZBnMpkgMUigJAAAQAElEQVSRIpwaP9k9ZLCIiAiYDUIUTjVFQBHIIQJKa3IIlDZTBKyOAPGMc7zM+OY6qExUVJRwGknooIJAI8LCwgYPHuzl5UXL/DUXFxcicceOHStUqMAIoRe2Hw8nTUhIQKch9wSnId/UvXv3UaNGodYwKkhDlkPCX6JEiY8//rhdu3awQwZPM7qitL0xmPLlywcFBTFs+A0DkzGQSpPfjdq3b58ls+EmEZNmWioCikAmBJTWZAJEN/MPAdOfmQgHBuRKLly4sGTJEkK1fJ6GiEtixcfHJzQ0FE5DrodmliYHWnpsUCcYlypVihNxdkzIAZs2M/hfUlJSdHT03Llzr1+/jjYDTenXrx/kgLFlPwyYATk+UEUskZHDGrM/JE/2AhQmXUmFkVCBkJHFI3HWpEkTBCSc2N27d5HrmODhw4c1GyWgaakIvBUBpTVvhUgbKAJWR4AYxjkItFTOnz+PSEMCwvi9J4iOt7c36R5oTc2aNYmCNM5fy/cxQPUgf99++y2alnAaMkrDhw8nA0UeKifDg8dgtMSAHTylpGIz44ycXU6HToP09cUXX/j7+1MXJ2wmNjZ2xowZ8fHx1MUpJcdiUtdSEVAEDAScnNYY89SKImD/CCA/kElZuHAhtIaYLQMm7NWuXXvIkCH9+/f38PBgU/xmLtPT08k9TZ06NS4uDk5TpEgROA06FmoNqTFYYG7BAVWx3B74nu05qfQAQaHO4JGaRo8e3apVK8iZ7Hr48OGGDRvkE8Rko2gmfiqY1LVUBBQBAwGlNQYUWlEEbI0AwUxOSXyifunSJRJPixYtOnv2LJvsQk6Qz9OEhIRAbvCowWmOHz8eGRlJdubq1atkkXr27CmchlQOe3MCEYBnava6J1MDG2wyBqbTvXt3slEBAQFoNtwGOO/cubNq1Sp0qf379wuzwWmD8egpTIKAk01TaY2TXVCdjmMgQLiyHCibZ86cWbFixcyZM6nIpz1QHeTzNGFhYe7u7pbtTVsn94ROg5oF+SPYI2m0adNm4MCBlGXKlGGvQOdw+AhN4TagUrp06aCgIHKOzZs3L1q0KKlJpvPgwQOyUSh5+jkb0FBTBLJBQGlNNuDoLkXAWggQvQhXhDEMgYGUE5xm2rRpyA8FChRApIHTIM8MHToUTuPq6kp7aw3FzvoFEJBhUHAUSjGcVF68eHH+/Pk5c+bMnTsXTlOyZMkuXbqQsunUqRN12jgop2FqGOOXq0wJs2Fq48aNa9asGdSNXRjMZtmyZREREYcOHbL7b+pjQmqKQP4goLQmf3DXs5oWAeKTzB3uQvwmeF++fHnx4sWkVJKSktj7MuM/eHt6ekJo+vbtW6NGDVrKIU5fggYIyHwNjgJKRHp2odPA/BAtbt++XaBAgc6dO48YMcLf35/AT2M5ynEhYo4yeBCgXr58+Q4dOnz66aetWrUqXLgwu3CmpKSsXr0aVnfw4EGyUTjVFAFFIBMCSmsyAaKbioAtECB0cRp0msTExKiMv+PHjxObcRKe69atO2TIEGiNt7c3wQynSQyy8uTJE+jLnj17NmX8xcfH37hx49mzZydPniTxNH/+/CtXrpQrV07+OzQhnzq4AZrTQCRXnLJChQrdu3cnGxUQECDZKG4bZKq4uDhwkM/ZOM2sdSKKQF4hoLQmr5DUfhSBHCFAuKIdkgycBp2GELVw4cKzZ8/iRJBgL1QmNOP7aUyVe2L6AAJl2bBhA2rExIkT/5DxN3nyZCBav349zpkzZyJXlClTpmXLltC+tm3bwmk40PkM+oIxL5JrPXr0INHGlMlL4uEOSU5OJmVJQurEiRNGNkra00BNETA5AkprTH4DmHr6Np48yRQ5IxEIWeLChQvknmbMmEFF/ESs2rVrDx8+HFrj4eHhTAqETDCbEnBOnz791Vdf/e53v5s9e/batWuJ2djSpUv/67/+6xe/+EVkZCThvHTGx2m/+OKLdu3aEfJBMps+HXcXdwLG+CmhcWSjJkyY0Lp1a0OzkW/qmz59+oEDB5CywAGjPaVhbKopAiZEQGmNCS+6Tjl/EDBoCiH8QganIaty6dIlGQ0BrE6dOqNGjerbt+/r3yMsbZyvRKBiUug06FVTpkxZtWoVWbnbt28//vHv0aNHV69evXjx4r179+A0BHhyc0gXcBoOdHqDo3BjVKpUqU2bNmPGjCHpVrhwYTz4yUahbM2ZM+fQoUOgBYaAid/pMdEJKgLZI6C0Jnt8crtX2ysC/wuB18MMnIbIvXjxYnJPp06dIhRhMJ4GDRoMHTp04MCBXl5exK3/1YvzbhQsWBCIIC7r1q0j2QTJA403TbdEiRL+/v4NGzYsVaqUeSACDSYLs+natSust3379sWKFeMuwnnjxg1AIz23f//+1NRUJECctMdAlVJNETAhAkprTHjRdcq2QyBTdGEzISFhzZo1pFTQJ9hkKIQiT0/PAQMG9O/f393dnU2cZjCm//Lly9TU1HPnzm3ZsgX5AQ9E501zL1SoEOKN8WkSgMLe1Ng5/DJBYKFStmzZXr16wWyaNm1qZKMQsWA2MTExR48eBUnnmLXOwtkRsO78lNZYF1/tXREAAcISJSH8/PnzBKHJkycbskSRIkXIPY0cORKpxjy5J9DACNUwFbIq169fJyqDD85s1Jr79+8jS1y7do1mpjKAklsIvYo03Oeff+7n51e8eHFAwA8dXL58eURExL59+54/f05jjF1qioA5EVBaY87rrrO2HQKSL0hPT7948SKJp6ioqKSkJDk94cfNzS0sLCw4ONjV1ZUYL35TleDz7Nmzx48fE6GzmTh70Wmgg0RxDqElHjHqTm/cKsyRsly5coGBgePHj2/btq3BbJKTk9euXTtv3rz4+HhQoqXpTCesCPyIgNKaH5HQfxUBKyDwUcYf79DHjh1btmwZtIYkFPoEgZk99evXHzZs2ODBg728vLJJvlhhXPbV5YuMv7eOCTkHdghQQAehoT1hHqNiHmO+5cuX79GjB3dOq1atyEYxd9C4ffv26tWr0Wx279795MkTIMKvpgiYEAGlNSa86DplmyJAJEan2bFjx/Tp04XTcHriUO3atdFpSD9Vr16dUI0TrkNpNiNOw/Ow7CdOMxoAkVQoMTzWM3vumWxU165dR4wYERAQIAyGO+ru3btLliyBOqPZPHr0yJ7Hr2NTBKyHgNIa62GrPSsCHxBsEhMTY2Jipk6dSu6JSIwwgeqATjNmzBh0GjiNkXuS+GQq1IACTMpk/GUzcdrIXirIEk+fPoXfiMdUJbeTGDiAWadOncaOHStf4QMO7Hr48CGiIJrNoR9/Nwonu9QUAfMgoLTGPNdaZ2ojBF69eiWxJC0t7dy5c0uXLuUF+uz/+x7h/8dyCEje3t5DhgwJDg6uUaOGjcZkr6cRSgdcoldlOUx20QArUKDAjRs3Vq1atX79ephNlo2d28nNIwYaVCpUqACngR+3bNmySJEiMvd79+6RjZL/9c0dSDMayy4tFQEzIKC0xgxXWedoOwQIIYRhzkfl6tWrixcvnjdv3unTp/FgxJh69eqReAoJCSEJhcecqgMTF0O7Onr06P79+wnG4nm9hCaKk0pqauqmTZtmzZq1Zs2alJQU8Zu25HaC2XTv3p1sVJs2bUqWLMldhyUnJ0P+FixYALDCbEwLkU7chAgorXHwi67Dt1cELl68uHz58vnz5xucBmXCy8srNDR00KBBHh4eMnATJp5k4pRQuuPHj8+cORPy9+DBAzxZGhCVLVuWnAtRHHv+/PmuXbs4aufOnaZlNuAAVjAYKrCZnj17jho1ytfX19BsQIbbz2A2NBbjEKloqQg4KwJKa5z1yuq88gEB5ATO+vLly8uXL0dGRk6fPj0pKQk2Q+whgeLu7j4s48/V1ZVmJjewgtPMmDEDXeHu3buCBkCVLl3axcWlxI9/xGxPT08ECbItpUqVkqj86NGj3bt3f//999u2bTNnNgq4gAK4qFCCUqdOnT755BN/f/+iRYuyCwNVEqDchwcOHHjy5AktcdKYEmNTTRFwSgSyoDVOOU+dlCJgVQQQHuif9BOVS5cuzZ07NyYmJjExEYpD/EZvEE7Tr1+/GjVqsEljMxsoHTlyBMVl9erVN27cAArCbeHChYnKv/71r7/55pvf/va3v8j4o/KnP/1pwoQJEMLevXtDegjJAEhu5eDBg7NnzyYbZU5mA2LghgEI9XLlyrVv337MmDFgCJLiR7PZsGFDREQEaD979oxm+CkxKmqKgFMioLTGKS+rTsrWCKSnpxNdIDHkniA00JqEhAQZBDG4Xr16QzP+fHx8NKLA8+Lj46OiogDq+vXr4AZQxYsX9/PzCwsLGzFiBFB9bvFHzq5Vq1ZdunQhzxIUFFSxYkVYEYeQt0KtIWavX7+eOh5zmtxRlDAb8AEly2/qgzWih4lmQ/7OnBBZY9bap90ioLTGbi+NDsyRECDTRLQm5RQXFzdr1qzz588TZhBvyD3J52mGDBlC7gmnI83KCmOFkZw8eZIou3jx4jt37nAGMCHj5O3tTTxGj6latSpOPBUy/qA7bGJ4IDfh4eFoEqLZ4ExNTSUbNW3atO3bt5uZ2UANMZAsW7YsGI4ePbpJkybyORv8ycnJsbGxCxYsQLNRZsNto+bcCCitce7rq7OzOgIoNJyD4IFOQ+T45z//SUU8hPDatWuPHDkSEcLT0xPZBr85DSiYOJrW0aNHyTEtX75cOA1Ooq+vr++XX37ZuXNnOA2xGcP/ukETmzdvPnbsWCI3zIYGwP748eM9e/ZMmTJly5Yt8gkS/I5p7z5qEMM4HkDgfx07dgRPWKCQQpzyfTYzZsw4cOCAMBuc0p6KGJtqioATIKC0xgkuok4hPxFApyEqJCYmIj8sWrTo6tWrbDIgwgycBgWiV69eNUz//TRQOtQsck9z5sxZu3YtuScgwgoXLgynIevUtWvXKlWq4BH0KMXwGAaksJmWLVvSHmZTpkwZdkGYnj17hmYzc+ZMeka/wWlmAyWyUWha3Hswm6JFi4IGzpSUlNUZv65w8OBBuODr8NJMTRFwAgSU1jjBRdQp5A8Chk5z5swZOA1SzdmM79xjNETxjz/+GJ1mwIABpFfw5I/ZzVnRaQ4fPhwVFYVOc//+fRlXsWLF/Pz84ChBQUGVK1cGNPwEYKOkkskgMSgQROthw4b16NGjYsWKNMCJTrNt2zb6X7dunZmzUaCBgSHMBny4A1u3bg1iQASPQSEjSTp37tx9+/Y9+t+/rsBeDlRTBJwAAaU1TnARdQr5g4DoNHAaQgUiBJyGcMJQCM/oNIMGDRoyZEjNmjXZFD+7zGnE1GPHjhFNV6xYcePGDegggJQqVcrHx2fEiBHdunUj9/Q6MrTBDD9xF8NDb/AhslEc26lTJ9FsaEZuZceOHd99912mz9lwFHtNYuAjM6WCsgW2w4cPhztyr+LHmZycvGzZMlj4kSNHzPk/yMBBE+QemwAAEABJREFUzbkRUFrj3Nc372dn8h4JySBAPoVgSXw9d+4c8gPpjwsXLuAvkPFXt25d9P/BgwcTreE0+GlMaU578eLFgQMHYBtk6OA0gAYO4NS4ceOf/vSnHTt2rFatGp63GiEZoxmQUoEVNWvWbPTo0X379i1btiwedpFbQYf45z//uWHDhocPH+IBeXZRUjePMV+MicNsunTpMn78+ICAABADfPwwG25alC2yUXBBmmHmAUdn6vQIKK1x+kusE8xLBOStt2DBgvCb8+fPE6oRIahwDmIGqRYPDw+yKsHBwa6urgRv/JhpwwaYxMfHR0REwDPu3r3LJmgUKVLE398fRtK1a9caNWq8GzgcBZtBs4E+9unTx4jZKBCHDh2aNWsW2ShYDqfDaExJRKc0gzFfjPlSli9fPjAwcMyYMWg28jkb/CkpKRs3boTZcHXS0tLMgInO0TwI2AOtMQ/aOlOHR+DVq1fMgcAAlVm6dOnChQuN76chhNSrV4/cE+bm5sYmRmPTGiSGqBkdHU2S7tatWxJToXroNKTnevXqVa5cufeEqGTJki1btqQ3si3yORvQhtns3LmTmA2Xsvypqfc8Fz07ojHrChUq9OjRg5xd69at4X8yC5Sz1atXkzzdvXv3kydP0MDEr6Ui4OgIKK1x9Cuo47cpAkRlsiqnT59eu3YtIUE4DSEBf506dQYOHAinIasiIRyF36aDs6eTwWmOHj0Kt4D8EUGhg6gCxYsXb9KkydixY4OCgsqUKSPSV65GTZDO1J4+mzZtihqB9oMyIQ041549e6ZNmwa/QZmAhmKZDnT6TYFCJg6b6d2798iRI8nccXPixMhGxcbGwjthn5k+Qez04DjgBHXIOUVAaU1OkdJ2pkWAAGA59ytXrixfvpyQmZiYaPg9PT2HDx8eFhbm7e0NxSGiYGRbjAamqsD8jh07Nn36dJJ0cBqZO7AQUz/99NNOnTpJ7glgMdn7DqUcC84wJNjSsGHD0GyKFSsmXT148ABm891338n32dBM/KYqgciYeIkSJTp37iy/GwUXBAf2Pnz4kJuZLCGZO7igOCnVFAHHRUBpjeNeOx25rRFIT0+/cOHC4sWLecFNSkoiKjACwgacZtSoUX379nV3d0e5wcMuMRqYzdBp4DQzZswg93T3x9+whNP4+/vD/Iisrj/+0idAYe+Mj3EsFZgNnCk0NLRfv36lS5cGfC7Es2fPDh48iKi2Zs0a43M273w6RzwQZGTYAEKdrF/79u3RbFq1aoVm80HGPvJ04DN37twDBw7AbGhG44w9WigCDomA0hqHvGw6aFsiIKs85cWLF5EfFixYcOrUKYI3YyAGNGjQgGgdEhLi5eWFBz8tqZjT0GnIaJB7QgO4detWwYIFQYNkE5xmxIgR5ImqZvw2Qp6Dw4WA2XCWYcOGkeGq+OPvRqFGbNu2LTIyct26dcTvPD+vY3UISjAb43M2aDZcHQz2uWrVKm5sg9k41rx0tIqAJQJKayzR0LoikDUCLP0JCQkrVqxArqcijdADateuLZ+nqVmzJk44DU4q5rQffvjh9OnTqCOxsbE3b94EjVevXpEVatSo0ejRo2Eb1apVA0n81sCHmA2zadq0KcoZmoRoNpwIBYJsFOrRzp07MzEbBkMDMxjgME3mSwWUyNbB//z8/GCc+LGUlJRly5YZzAaPGIdIRUtFwFEQUFrjKFdKx5kPCBCVOSsrOzoNKZWpU6eSe5KoTDzw9vZGgRg6dKibm5uwGSk5xIT2/PlzdJopU6bExMSg0xA+AaFAgQK+vr7h4eHknkSnAUx2UbI3D006pGf5X99jxowJDg4uVaoUp2DXo0eP9u/fP2nSpO3btxu/roCf9jQwiRnzZdYwG8vvs2EXhmYDH509e/bevXufPHkCLDhpTImxqaYIOAQCSmsc4jKZeZD5OXfJoVy9enXhwoVz585NTEwUTsNa7+npCaHp27evq6srzWSUrP6Y1E1VpqenHz9+nIgI+UtOTgYEDFhatmw5ePDg7t27C6cBE6AzSip5ZdItvVEhZsOlQkND5ftscGIwGzSbmRa/G0VL/IyT0gwm82WmTJl6hQoV0LTgf2g28tl2/Gg2GzduJGcHQ3327BnNaE+JUVFTBBwCAaU1DnGZdJC2RsDQaciqREVFzZs379SpUyLGsMQ3aNAATiP/70mcth6fPZ0PrI4cOUJ6btWqVbdv3xZA0GmIl+SD+vfvX716dWO8oIcZm3leITbTJxkof39/rlGPHj0qV64sTnSaLVu2zJo1a+3atQ8ePKCZOU3wp4TZgA+Ko/F9NgBF9nD16tWQ+H379qHAmRMinbVDI2BKWuPQV0wHbxMEUBpY4uE0hMDo6OiEhATCAFJNoUKFfHx8UAIImdWqVZMQTkubDMoeTwImJ0+e5P0enebatWtsYkWLFm3cuPHw4cMDAwPLly//8uVLnLYcPRcLZoNmQ/4LTUKyUQwgLS1t69at33//PdkoYTa0xG82447FmHvJkiV79eo1cuTIpk2bWmo2ZBK57Q8dOmQwG9qbDSWdr4MioLTGQS+cDjvvEZDQy/KNUT9z5szSpUunTp164cIFAgBOOI2Hhwdvt4MGDUKBgPrIINhrVKhbmvidtSTmodMYn6cBEOYO1WvWrNlnn31GvHRzcwNJcMOZKxBAO1ftX2/MSGA2jIQ8C7lC4jdtcKLZ7Nq1a+LEiZs3bzbn//oWHIBCKiDTuXPnCRMmNG/evESJEjgBH2S4+WfMmHHw4EG4oDilZK8Ym2rOjIDDzk1pjcNeOh14XiMgoZflnkh89uzZJUuWLFq06OLFiyRZWMfxu7u7815LjKxVq5Y0zushOFJ/oHT06NGZM2cuW7aM3BNDT09PB6VWrVrB/IiUlSpVwkkzyvc08Bd7az8MAJNmVGA2ROvBgwdbfp8NbOzAgQPE7HXr1j19+lQam7MEVVBCUUNXGzduXIsWLVDa8IDG/fv3169fz/WF2cByuI4YfjVFwM4RUFpj5xdIh2c7BFjiORnluXPn4DQLFy48lfH9NHhY6OvVqxcWFhYSElK7dm02Tb7EwwyIdnPnzoXTJCcnAwiZJiIiHAKUunXrVrVqVXCD6CDhgGpOjB5evHghLelQKlKyKSabuSpRI/z9/YdlfAexfJ8NXcFmduzYQe4s0+9G5apnp2kMIDAbrhp8tG3btnBBpoYTtkpukasMC0TlsqTyXFza5Na0vSJgAwSU1tgAZD2FYyDAOk4YRqch1BHwSELJuMmheHl5DRw4cMiQITVr1qQZnMZyiZdm5imZ/smTJyMiIiB/RD4iHAan8fHxCQ8PJzrCaZC4gCjnnIYeUlJSbt26lZCQcOzYsdMWf5yLi3L16lXOxalzhTPdYuRWyEaNHj26Q4cOxGw8dAIz271797Rp0yj1+2y4q8uWLUveEGbTtGlT+aY+UEKzWbFiBbIlyhzMBo+aImDnCCitsfMLpMOzBQLoBJwGTnP58uVVq1ZNnDiR3JNE0MKFC5NyGjp06PDhwz08PAjVtJSSigkNvnLkyJHp06ej09y9e1cQKFasGLHwiy++6NSpU7WM79yD0Ah7kAbZlDTDoCyrV6/+8ssv0cPgH0g+YE7KD5Vl7NixP/3pT//yl78gG8A1EVpo/2OHOfqXmF2qVCmUpDFjxhj/65vr++DBg507d37zzTdbt26lW+mLzmkvdZOUMl9KUOrYseP48ePBimsKFCDAVeZaw2LR55DTaIbhV1ME7BMBpTX2eV10VDZFAD2GFRw9YN68eTNnzjQ4Dcs3VIYo279/f6I1gZBmNh2ZnZ0MBHhrnzFjBm/wRDsZHQwGTgMR6dq1q6urK5wP3NglJZWcGD1funQJjQZtJj4+HuZ0+PBhch/U9+7du379+sWLF8+ePfvvf//7vn373kE2YDDoNETrwYMH9+3bl/jNqHA+e/aMs9Cz8TkbnOwy4YVmysydbFT79u0nTJjQqlWrIkWK4MQQ0tauXYuEyXVB5QIfNUXAbhFQWmO3l0YHZgsERKdh4UYGiI6OjomJOXv2rJyYJb5BgwZEawKhu7s7wdsI2NLAbCU6DVQDyYR3d+E0cBHUrJYtWyKrwPyqVKkCaO8MC8fSIWXJkiWrV6/+8ccf161bt06dOmQAYSRkQ8hPkfaKi4s7f/48skGuTsQlpnN6ls/ZBAUFVahQASedPHnyZNu2bTAbInembBR7zWbgD7Pp0qUL17RNmzZko0AAoMgPrly5EpRgmXBBngX8aoqAHSKgtMYOL4oOyXYIiE5z9uxZMiAs2UgFnJslm2jt4+MzcOBAUiGVK1dmE7+ZDU5w7NgxpKyFCxfeuXOHTQxYGjZsSHque/fuZcqUIYtHUHxnlAoUKED45HC6RVaBJ5EzwrgE5LZIBeInoBJWkXDgWLR8qzEeTJpRYczG52wCAwNFs2Ev3e7YsWPq1Knbt28XZkNj/JgMiYrTm0yZ+VKB//Xo0SM8PNzPzw/NhrnjR7NZtGjR/PnzwR8uiFNNEbBDBJTW2OKi6DnsFgHUmgsXLpBSIaQlJibKOImvJFNGjBgxbNgwNzc3oikLvewyZ0negezDtGnTVq1aBacRECB/vr6+ZCvgHBUrVoQgImjJrvcsy5Yt27ZtWzgl6b9Ro0bBbP785z+HhITQP8H1ypUrpAshKDk/C0dJY8bMpYTNMHJidp8+fWBjsos4vWfPnkmTJsFvjCQXB9JeGpihNOYLUDCbjh07fvbZZwEBAahl4MDex48fo9XNmTOH++HBgwd4zACLztGxEFBa41jXS0ebBwjwoi/LcVpa2qVLlxYvXhwVFQW5ka5Zvkk5jR07tn///jVq1BCnmUs0GPk8DTmI69evCxSEPbI55Cm6desGBWRT/O9ZynXhEpQrV45UCNEUikO2qHbt2j4+PnhogGYggkrOz0WHlo3ZdHFxIXdGerF3796cgr04YTMHDx5EkYK9wXLESclJKc1ggGBMkzootWvXjmcBrCD3sgvw161bB7NBvTM+Zy27tFQE3geBvDpWaU1eIan9OAYChChe+hkrFV76EdXhNKdPn8aDsZTXq1ePrAcBz9PTE4/JDZ3m0KFDc+fOjYuLk8/TAEjRokWJc6hZPXv2JEOXh5yGi0L/mQzxDA9nwajklaFGtGrVKiwsLCgoiFnIqWEzmzdvnjVr1vr164nfeXUuB+2HxwFm07lzZ54INBv5nA1O+ZxNdHT04cOHeTcwZicYGptaUQTyBQGlNfkCu540/xG4ePHi8uXLp0+ffjbjM8Is1qRRvLy8QkNDCXWq03CFSPSczPh+mmXLlsFp2MQJG/D29iY91KNHj0qVKiF94cxbIzpCKVBlHj169ODBg/v371+5cgU5jTqXCc2mXLlyuT0jB2KZjpLP2cDP2rdvL5oNDYjTu3bt4sbYuXMnw8BjHMjA2DSVMXfydGhyKHNNM343SkAAmZiYGJhNfHy8HWs2piFrp4YAABAASURBVLpWOtn/RkBpzX8Dof+YAQGJwS9fvrx8+XJkZCShC8FGJo6EQ+5p+PDhBLlatWqJ08wlJOb48ePkGsg93bhxQ6AApY8//vhXv/pV165dUThw4qHME+OMEjLhMSQ4tm3bRjII6rlgwYL/+3//75IlSx4+fAj1dHNzIyclEs47n1dORMyGzTRv3hyWRjaKnJd0SJzesWPHd999t3379mfPnomTQ2gvdVOVzBqUOnbsOGHCBFQ6NBugAAEuEwncGTNmwGxQ9fCoKQL2gIDSGnu4CjoGqyNAyOQcxGAqly5dIqtCmDQ+I8zCXbNmzVGjRvXr169ChQq0NLmBErkncjErVqyA0xQpUgQuCJNo3bp1eHh427ZtkUzyHCJyTFwIQiYxcsuWLVOnTv3qq6/gFgRO+M25c+fYi75CZG3SpAmJsPcZAF3J4VRQI3x9fVHp+vTpYzAbNJs9e/ZwarJR8p/Jackh//rXvyjNZswdZS4wMJCr7+fnB/jcDIAAswGf2bNnHzhwAGktPT2dy4dfTRHIRwSU1uQj+Hpq2yEgCy6xmdwT4jm0Rj5Pw3qN+fj4kHgaNGgQSSiWbNsNyy7PJJwmKioqNjb21q1bjBHciP2tWrUaOnRocHAwGTrjA6TszSvjQiDG0BuUAjnt6NGjhw8fhl0hGkGtiKPoNEFBQcgqdevWpTEt39OIwRidwGZgS9wD3bt3N3gtmg1qDTF7zZo1jx8/ppmZDcBhNuBPNgp2y2MCdDhv374dFxfH3bJ//36ULTwGSjQw6lpRBGyGgNIam0GtJ8pPBIiXZKDgNLz3I0KcP3+e9RfxBvP09ORNfciQIRUrVsRp+1Ha1RnhNNAIaN/SpUtv3rwJaAwP9GASZOi6devm4uKCx6pGOKxatSoUk0vj7e3NqRs1akRAhXf+4he/QC3g7IyT8v2Nc4nBbJo1a0YKslOnTtTpmZshNTV169atEydOJCMmzAYn7dlrQmPuZKOglTCbhg0bouHJVUCzQdXjbYE7B6XNhMjolO0KAaU1dnU5dDB5jwBKA50SiuA0CxYs+Prrr5OSkvCwRmPknlijhw0b5uHhUaxYMfxmNrItRKZp06YtX74cTgMUJIZgfsT7sWPHEu95X8dpJSNGIqpxUVBluCiTJ09euHBhREQEesmcOXNISH366af169eXz3YwsPcfBueiHzHqKFJ+fn6jR48mG1WyZEnuGQwFAsUIZrNu3TqYDZ73P69D9wAy3AlffPFFQEAAdQDBkpOT0Wy4WPv27SMbxUOHk2lKSUVNEbAZAkprbAa1LU+k5/ofBFAaWFsTExMXL15MmDQ+I4yzVq1ahM+QkBB3d3diG8cQ2yjNabCKYxnfI8yb97Vr1wQEUj9kHEaNGtWlSxdXV1fwwWSXNUouCt1yLbg0KDTQKXJDLVq0oF67dm0GgEJAAyuNgW7RaXx9fZGF+vXrB8vhXBjZKJgNIt/q1aufPHmCx8wGSuXLlw8MDOSu4OqQjRI0yEaRrUPnI3sIraEZV5NS9mqpCNgMAaU1NoNaT2RrBFhbOSVr65kzZ+A00dHR8n+5iZqstnXq1CHxRAAjXtLM5IZOEx8fP2/ePHQa4pOggS7SvHnzsLCwHj16VKtWTZzWK7lSRufQKa4RnkxmNLBShdOVKlWKaD106NDu3buTl8SDPXz4cNeuXagRaDaoEVY6u6N0y6WB2XTt2pW8JKzX0Gxu3boF8+NBO3DgACoXD5qjzEjH6UwI5JjWONOkdS7mQEB0GqjMqlWryGJAbliOmTohEyozcOBAAjZJKDwmN3Sa06dPR0ZGxsbGwmnYBCh0Cx8fHzIyRC9yT4R2W6LEGGBaDMMwW54dZoNQRMxu3749ODAGzk6cJsMyffp0+I1pmY1AARpUXFxcgoKCRowYQeZOVDT83D9Lly7lLQJ9y0CJmwdjr5oiYAMElNbYAGQ9he0QEIXm1atXLKPp6enknpYsWTJ79uyLFy8SKRlH4cKFSTkRsZDQPT09zfxCKVgBy8mTJ4Fo2bJl169fBzowwRo3bvzpp5927NixatWqgAl0GBWMSh4aAZLeZDCclzqnwGCl1A2TZsamVSucCzZDtB4zZkxwcDBqBKdjSGg2e/fu/eqrrzZu3GjmbBRQYGACs+nQocPYsWP9/f1BCSeWnJzMQ4eyRTZKmA14YuwS40CnNZ2YHSCgtMYOLoIOIe8QkFhYsGBBwuSFCxfIqsTExKDTELzlJHAaFIj+/ftXr16dRVac5izBClgOHz4Mp1mR8f00ggMRqFWrVoMHD+7cubPrj5+nwcleSoxKnht0E0Yl/48GnYZLAyvlLDgpbWbG7KjAbMjBhYaG9unTp0SJEowB1vX06VMyLDNmzFi7di36DU4TGuAYhpLXtm3b8PDwFi1aiGbDtYPZrF+/nqfv2LFjBv8zDjEhYjplWyKgtMaWaOu5rI6AREEWVnQa5AfE8OPHj3NWWVLr169P4omATXqFEIWTXaa1H374AU4zf/58sgby/54ApEyZMgEBAUOGDOnZs2cNW/3SJ+cl7wOX4rxDhw4lP8iV4u2fS8NlorS9cQthMiqG1KNHj4oVK4IYI4HZ7NixIyoqisidkpKCx6pm551z7WA2ZCpRQC0/Z8MdBVdesGAB2ai0tDQ7n4UOz5kQUFrjTFdT5/JBgQIFeNdPSEjgZXrmzJnoNICCeIMy4e3tTbyE1si3/uM3sxGhyT3xPh0bG3v16lXELdAoVqwYiTmieFBQELkn4jdOwwhgRj3PK7zoIw79/ve/nzp1KmWzZs2gFJBUS1pj1QHIjDgFZtSF2fj6+qJGtG/fXjQb9hKnd+3aNW3atJ07dxrMhsbskpKKeQzEyEZ179595MiRXDgeNzzY3bt3Fy1axKsF2SgQMw8gOtP8RUBpTf7ir2fPAwQyBZIrV66g0xAdSUJJ7zSoXr36sGHDEAOqVatWqFAh8Zu1/IBcDyIWmZSVK1dev35dcIBYEL8/++yzTp06iU5TvHhxdoEepbWNi4LBq7CyZcsyGM5IgKS0vRlThlQRnslGEa3HjBnTt29fyBbjocGDBw9gNpMnT96yZYvkWWiJn5IGJjHmK8Z8uWodOnQYP348qhv8D97MLlCC1nCnxcfHc9fRTE0RsDYCSmusjbD2bzsE0tPToTIsowsXLkxKSmJV5dxEJg8PD962BwwYUKtWLWInTjMb8QZOM2vWLHIEly5dYpNIDI3w9/dHp4HTuLm5gY+gR4W9lKayTFNmk5jdokULpL7g4GBYjqCBmrV///6IiAikQYPZsMuAjrpzG8hYGtmodu3ajR071s/PjzuKuQPFvXv3wGf27Nlkox4/fowCh5NdaoqAlRBQWmMlYE3Wbb5OV1ZJyosXLyJ6R0dHk14hWjMoOE39+vVHjRplfD8NqzB+0xqwHDt2bMGCBfL9NIAGFAgkxGykrG7durm6uuLBAAqjoiYIlCxZUpgfGbqKFSuKEzazbds2YTbEb3GatuSGgdlwF40YMSIgIADEBIpbt27BoaOiomCBICZ3neyyrItHS0XgPRFQWvOeAOrhdoEAi2NCQgIpFQLM6dOnZUwFChTw9PQcPHgwIgRJKHGauYTTnDlzJjIycunSpbdv337x4gVxCO0BlIYPH96lS5eqVatmwocGmTwm2WTiWKbJklshGwVLDgwMBDfZ++zZsx07dkybNo1SmI0cyD0pDcxWlilTpkePHiNHjmzSpEnRokXBAQMZ7jqUVFg1iJkNE52vLRGwX1pjSxT0XA6KAII2Iyf3lJiYyOvgd999R4XgTVyB09SuXZsIBK2pXLmykXtiheUQkxiTNQyUyD0BUVxcnHxGGJRQsxo3bvzll192zvi/3AKLcQgV8WgpUICYZKPIs/Tp04f4LcigQKBDTJkyZfPmzfJNLbSnMaU0MEPJZDFmysRBhjvqk08+Qd+CC+JkV0pKCsyG7OfBgwf1E8RgomYlBJTWWAlY7dYWCBQsWJDl8tq1a7wFzp8/PynjNyzlxO7u7ijhxB7yBVAcllrxm6pk1hhTBqX4+PjZs2fDaa5fvw4gONlF1Bk8eDA6jaFm0ZJdapkQACvxUEGnad68ObgFBwfLJ4hhhzCb3bt3z5w5c+3atU+fPqUZ7aWkYgZjspjMlEqFChXQtMIzvs8GzQaIuLXQbDZt2oSkyt0ozIaWcoiW74aAHvU6AkprXsdEPQ6AgOg0LJSknFgl582bd+rUKVkiKevUqUPUwby8vFhSHWA+1hwi8tWhQ4egfbwr37lzB9kG9ICldevWpOdgfsbnaaw5Cqfqu6TF52wqVarEfUjYhs2Qh4rK+D4b4rcxYfYadaev8PTJHKnAbIKCgshGtW3bVv5XHbtuZfxu1Jw5c2CBcEE8aopA3iKgtCZv8dTebISA6DQJCQnr1q2Ljo4+c+YMJyZ+oEP4+PhAaMLCwqpVq8bair148YK95jQ4zYkTJ+A0sbGx6DTPnz+H0xCDGzZsCKch6qBmvXz5EuhoSWlOlHI4a/ARoz25FV/f//4+GxcXFyDFCbwwm0mTJlFaMht2OY7lwUgNlMjZ9e7dG2bTqFGjIkWKiB9kYmJiFmR8U5/k7PLglNqFIvAjAkprfkRC/7V7BIi7jFFWRupnz55dtmzZtGnTzp8/jx9DgUCeGTVqFJzG09MT6gOnwc96SkldjLpJDD4Hp+HNmChy8+ZNmTWwBAQETJgwofOPn6cRWCQwS90o5RAtBQFLWKiTjWrVqtX48eO7devGvYeHmxPN5siRI99++y3MJjU1lQPxU5rKmLIYgMD/Onbs+MUXX5DxpA4OOB8/frxixYrIyMijR4+CEo+z+NllGB41ReAdEFBa8w6g6SH5g4ARd1kEk5KSkB8QIQxOwzLq5uYmn6epVauWNM6fgdrHWUHp+PHjs2bNgtOg/AsghQoVIvc0fPhwIk2NjN9GIIogcVFi1hq48/ZLbkU+Z9OrVy/qTBQYUSAOHz48c+bMVatWaZ6FB7NcuXKBgYGjR4+G2QhKONFsNmzYAOeOj49HLwQ6nJRqisB7IqC05j0B1MNtgQChgtMY5blz5xYvXrxw4UKSUPhZDQnMDRo0IKsyYMCA2rVr4ySoU5rNBCJmjU5DZIX2yffTgA+5JxSFli1bImWRe6qe8UufRnsOUXs3BIoVK4ZmA1NEsyHnQiegihqxdevW2bNnE7lT9HejPvwQZiO/rgBWaDY8ntyTKIgwv3nz5sn/jQI30FNTBN4TAaU17wmgHm47BKAv6enp5J42bNgwY8aMU6dOiQKBHyozZMgQQgs6jQxIdkndbCUxA8IXFRWFoHXnzh02hdPA/MjQdcn4fhqclrCAoZilU+tvRUBgLFWqFJoNeb1OnToRs0ESP7mVPXv2TJ8+fdeuXZmYjXniN1AIhlTKlCkDn+YhBSs0G+5JnCBDKhlmc+jQoefPn0tjLRWB90FAac37oKfH2hQBOM04G6jqAAAQAElEQVTly5d5vZs4ceKVK1fIp3B6VkYvLy9yT+g0lStXNjObkWBJQD19+jQ6wdKlS3kbllABLOg0n3/+ObmAatWqgRvNaI9RV3tnBLj95NjSpUs3atRo3Lhx/fr1g+XgBFuyUTt27Jg0aZLxu1HiN45i0wwGFBizhtnAqkGpWbNmaIfchEz/7t278O+IiIgDBw48evQID0ZjDjEMj5oikEMElNYYQGnFrhFggbt69SpvdTNnzrx48SKb5OMp3d3dR44cGRwc7ObmVrBgQbueg5UHRyQgTsRnfD/NypUriRZsck7U/tatWw8aNKh9+/aurq40AzeIDhWMBmrvjwBIuri4+Pn5kePjboTlSJ9oNvv27SNmr127Vj5nQ0t2cQkoTWJMGWPKlOXLl+/QocMnn3xCNqpw4cI4MTQb8ImMjJTvIKaZSZDRaVoDAaU11kBV+8wzBERsoDsUiOjo6JiYGJJQbLIUUtavXx9Ne/DgwZAbOA2hGqdpDRJz/PjxRYsWgdKlS5cQ+UEJ5aBdu3bDhg3r1atXjRo1CBg4gYgKpVoeIgCwJUuWRBUD7e7du1eoUEE6f/r06datW4XZ3Lt3T5ymLbnxYDZko3gbgW2j2QAF0KEsxsXF8YzDy42nnl0Yh1Cq2QcCDjAKpTUOcJHMM0RWN8xyvkUyvuvi/Pnz69evJ7Fy8uRJ9kJfWOm8vb1RIOA0RGua4Ue/oTSnwWl4050/fz65p2vXrgECHt6GPT09Qalz585k6F68eCFch71qVkKgRIkSTZo0ISvaqVMnS81m+/bt01773SjGkOmGx+OsxjPL1JgvFfhfz549x4wZ07x5c+5S8ScnJ8PIFy5ceOjQIf3dKDBRezcEPnq3w/QoRcAaCLDeYSx8GFGZU6Snp8NpFi9ePGXKlMTERDwYwkzt2rV52wsJCYHT0BjDL5+2oWI2S0tLg9PMmTNn+fLlly9flumTe/L19f3ss8+IrxUrVsRJ/AA6EKZOaWl41N4BgUwYch/iIRvl7+8fHh6OQlasWDG6xYlms3fvXsvvs8Ev7amYxIz5AgjMJjAwkPvT398fTREE2IuaBbPhTj5y5AgsnGb41RSBXCGgtCZXcGljWyDAWoYhycBsLly4QFZlwYIFZFXk3OyqWbPm6NGj+/btC7khVLMasosSo2I2AyVyT+Q4YmNjr1y5ApsBAUoi69ChQ7t06eLm5iZqFn41qyLAzSn9E7PRIdDJuEuJ2dyZ3M+pqalkWGZafJ+NtGevHOX0pTFfKgBCno4MKZqNn5+f3KJAkZKSsm7dOpjN0aNH0Wxo6fSw6ATzFgGlNXmLp/aWBwiQKKEXFjjkGXQa0u0JCQniZI37+OOPidb9+vXz8vKSZpSmMpAx5ouaxXstKC1btgwNH5TIxBUtWrRlxvfToPO7uroajc1TsYeZko2CWQ4bNqxbt27Eb9gno3ry5MmWLVtIp27YsAFlAo+Zjce5fPnyPXr0GD58eOvWreF/oMHtfePGjZUrV86dO/fAgQOPHz/GqaYI5BwBpTU5x0pbWhEB1jJMTkCihGidlJQUFxcXGRlJEkr8CDPIM/3794fWSO6JUME7H4ujNDBbyfQhfPPnz0enuXnzJptgyFtvnTp1RowYQTStWrXq65gAF/a6Xz3viUAmVNksU6ZMs2bNUBY7dOhAzObqcI3QbHbt2jV9+vSdO3cKs6GlnJoGUnHu0pgv06QOMmTryCk3bdoURo4THODokHVkWvQtg9ngZ6+aIpA9AkprssdH91odAZYqjNUN42TU4TQXL14k9zRt2jQEG/wQHUoPD49Ro0YRsGvVqkWShZY4OcQmZhcnYcoYQyE6IsycOnVq0qRJy5cvJ0PHJgZQKARffvklcVS+Rxgn7dVshgAXyDDuTxcXF19f3/Dw8ODgYDJTMgz5nM3333+/detW9BtxchTtpW6GkvlizJRZw2w6d+48YcIEMneCErtgNtzbvNjAbAQlWiJGcoiaIpANAkprsgFHd9kCAZYqTM4kMZggTUolKioKToOfhYwGnp6eiDTEhkqVKuGE1uCkwvJHaRJjyphM+ejRozNnzlyzZg2KvUwf4YqoMHDgQDgNOg0tMdmlpc0QAHPDOCl1NBuYzaBBg/r06SMxm7v30aNHu3fvnjVr1vr169PS0qQlpVxcKk5vIIPJNKmQjWrfvv3rn7PZuHEjSwGZVrggjQsVKkSppghkg4DSmmzAsfIu7d4CASE0rOmknBYuXBgREXH27Fk2acKS5+XlBacJDQ0lCUWSRZz4qZjQkGoOHz48d+7cmJiYa9euCe1DFWjduvWwYcN69uxZpUoVQQlw0G8o1fIFAW5gjFOXLl0aFY2r06NHD3i53O3E6e3bt3Orw00fPnxIMxOa8RRTqVChQvfu3YcPHx4QECD8j1sd1r5q1SoyrQcOHAAxE0KkU84tAkprcouYtrcKAkRfAgA6DbIzr7BnzpyR07DYubu7h4SEQGtcXV0RJPATyCnNaSz0CQkJwmlu3rwJCHhKlChBYo6o2a1bt2rVqgEafjV7QIC7Wgxm06xZM7JRgYGBErMZXmpq6rZt28gkUgqzMee1E4gApGzZsjA/Es1NmjQRas4uslGxsbFkpWHzko2ipZpZEMj9PJXW5B4zPSKPEGDBkp6opKenk3Ji5ZoxY8bFixcJ1exCcEanGTt2LAEbTlO4cGFZ9PGzF2Mzk+F0Snvx4gUoAcupU6egfUuXLr17967MtFixYuQ4Pv/88y5dutSoUQMnOQ5KtXxHgJsTIi5GXbJR5Fn69u0rzAYncXr//v2TJ0/evHkzLCffx5wvAwAHw2A2Xbt2/eyzz8iowtcZD3d+SkpKXFwcbF6yUXjwqykCWSKgtCZLWNRpCwRYyOQ0ROukpKQlS5ZAayA34iQYeHp6jh49Ojg4mGgtVMY4RNqYp4TSwfzi4+PnzJmzbNky+V1upg+nadmy5ZAhQzp37ly9enU8mGlRYu72bFwXNBuiNdcLZkOdO79gwYJpaWkHDx6cPn062RbTMhvjwoFS+fLl27VrN27cOD8/P+582XXr1q21a9cKs3lPlKRDLZ0VAaU1znplHWBe8gmDZ8+eQWXkP3MiRTBuCA1Wp06dsLCw0NBQb29v5AeTv58R/3hPnTdvXkxMzO3bt0EDD5ymRYsWgwcPRrc3OA0AqtktAlw1dBr5nA0Zw4oVK/IUEMjJQO3YsWP27NlEbup2O37bDAxA5HM2ZKMCAgLQbOSGv379+urVq3kK0LdYN3Aa46GOGZtaMTMCSmvMfPXzee5CVtBp1q1bFxERcfLkSRYmXl7xe3h4hISEDBw4EJ2GNU4sn4ebf6cnFp46dSo6Oprc07Vr154/f/7y5cvixYs3bNhw6NChKPaVK1dmdKBHqZYfCOTinFwm4jR5Q5TIDh06iGbD8Wg2e/funTJlyvbt2zMxGw6hgamMR56cXc+ePUeNGmV8zgYEbt68GRMTg6x7+PBhmA0eNUUgEwJKazIBopu2QIDALKeB05BS+e677xBs8CDSwGnIPfGWNnz48Fq1arG64TehGZEMTnPs2DEyFAha6PACBUChz7Piw2nQaaQxJSYNtLRnBLirS5Uq1bRp0/Dw8D59+pQtW5bRcu1gM7t27fr22283bdr05MkTnBh+2lMxmzFrmA3Z1U8//RR9Cx4PFNiDBw9IWE+bNu3AgQOCEs+IgMNeTOpamhYBpTWmvfT5OfEiRYq8ePECKrNgwQJWqPPnzxujgcoMGTKkb9++bm5uKDeG32yVDz/8kAU6PT0dToPqDvlDgWcTHGB+KPOk58g9Vc34HmFaYoQB9qrZMwLGNaLi4uICN+Vu7927N/Fbho1mQ4Zl1qxZZKNEjaAlu7i+lGYz5k42KjAwEP5HvpV1A0IPibl3796WLVvkczZPnz7FKfjQHjMbSjrfTAgorckEiG7aAgHW64sXL0JooDXHjx/nlDAY1qa6deuyyoeFhfn4+LCJ38zGSn3kyJH58+fDaW7fvs16jYf8RcuWLUeOHBkSEiKcBojYRanmcAiULFmSq8kNj+pWKeN7JpkCCgR5qKioqA0bNqBM4DGzcW/DbLp164Y22aZNm2LFioEGDwLZqLi4OJ4ONBthNrRkl5oioLTGRPdAvk+VxQiRhhLhYfXq1TNnzpTvp4HToEDUrl174MCBLPGuP34/DS3zfcz5NQBeSU+fPg3tW7RoERTw1atXoIEO7+3tDafp0KEDmQvaSDqPBZ29lFh+DVjPmxMEuECYZUt4Ktkormn79u0NzSY1NXX37t3kWchJCbMxjuJCWx5uhjpz525H0xo9enSjRo2M341KSUnh1YgH5PDhw3BBM0Chc8wJAkprcoKSWdqwmGKPHz9mjUAMZ9oETsp3NpZgMaMHVqgLFy7ExMRMnTo1KSkJP5ymUKFCNWrUGDFixNChQ2vWrIkHP0ZjShMa+J86der7779n1b5x44YggHxF/Pv5z39ufD8Nfvnvr5AeLhyUEZZDHb+a/SPAo8EgucmJ2Wg2Y8aMCQ4OFmYDy3/48OGOHTsmT55MtgU1gpYYh9CeigkN/tepU6cvv/wSrMhGgQBQkI3iGZkzZw7M5tGjRzjFAEoqWpoQgfekNSZEzDmnzCqAqMsyGhkZ+e23306fPh2BF5GAYPk+E2bdEZNYC0m6fPkyb1dIx3QuPdMAKoPCPGDAgFq1ahG8xW/aEpTOnz8/e/bslStXXr16VUge9KVVq1Zk6AIDA43ck2DFtYP67N27d926dRwI1Jhp0XOgiXPny2iplC5d2s/PT343qnz58lxBbgNI6v79+4nZa9euFWZDSw7hilOazZi7i4sLOuW4cePIRqHZABEgwGzWr18fERFBOpvsNh6MxpRq5kRAaY05r/v/mjVv+fv27YPKIA9MmTLlm2+++frrrylnzZpF3vr+/fuWrd9tSSU2c+CVK1cWL15MYoX0Cgs33bL6eHl5DR48mAWdJBQemlGa1oDl2LFjQLR06VJSdeDA1YG+8IY6fPjwnj17wmnYBCWMvQDI4g6eXCyuHeSG9qDNLjXHQqBkyZIwV5KwXbt2rVixIoPn4pKB2rp1Ky8bRG7iN04zG4DAbLp16xYeHt66dWs0G54CnLyS8RrGy9KhQ4cMZiNA0UAq+VrqyW2KgNIam8JthyfjsT9z5kxUVNTEiRORB8gQ4UHO3bNnDwI470BkQ4iU7zNy4i59JiYmIhfT4blz56Q3lHZPT8+BAwciQri5ueGkGYsUFXMaQCUkJHAtIH+3bt0SKHgrbdGixbBhw1jNq1WrJsiw6+XLlyQK7969i/y+Zs0apJrdu3cnJyfjfM/rJafQ0vYIkGfx9fXlWnfu3Fk0G8ZAnN61axdvHZTCbLj6+DGeF0pTGXOH/wUFBY0ePdrf3x9mw1MDAikpKbGxsdHR0fHx8SxfeNRMi4DSGtNe+g8QBlgWCZ8rVqzYsGEDqgyrkhRAJgAAEABJREFUavv27XlfpCTfj+4N0SFevnMqSuIrJ0rK+G0ElmZyT2wCeqFChZBnUCBYxOE0KBA4WbMozWnp6ekwyO+++y4mJoa3T6Dj6sD85PcRu3Tpwhu8QEdLrhoKDXFu4cKF//Ef/0HJaz24sYujyFhRV3MIBLheYoyW+79UqVKwWHKyKHM8gzjZy8XduXMnjw9pYp5KnB988AF+2kvdVCWzhtl07Njxk08+IXPHqgUUmDAbXpzIRkHuTYWJTtYSAaU1lmiYqM4qQMhkwrzfb968mfRQmTJlAgICWE9HjBhB2b9/f9YL3nuOHj2K0EKUpTHGmkKZjdGz7KUCd6Gkc0I1CgTkRgIznXh4eCDS9OvXD06jSRPoCDij06xdu/b69esoMWAI1SMrgd7eqVOn6tWrgxIe/Ow9cuQIWtqf//znSZMmbdmyBc0Gv5ojIsCzICaDp166dOnmzZuTljU+QcwuXi3gNKQaeQORmE1L/DxflGYz5l6uXDn53ShYoMHjWc14DZs7dy5PkyVKZsPH5PNVWmPSGwB6wdKAfnvt2rUbN24QVitXrkwQJWPdqFEjsvvIvFWqVGHRpAFvP8Y74lvx4hDaSEnl/PnzixYtQhxmoeF0eDhvvXr10ISGDh2q308DIIAPTZk3bx6iy9WrV/FgvLW3bdsWlIhtrq6ueEAPWgN6z58/v3z5MrmnY8eOIdtwOC+vNHhP08PtBAEuNBeUDAtXn8dQvs+GB+rx48dQ2MjISJgN7xt2Mtr8GgYPAnm6Hj168BrGqsU7GLiBEkrn8uXLeUPYt2/fkx+/qTm/BqnnzRcElNbkC+z5f1J0FAbx8OFDXvRJ3lNHralWrZr4efuhjjyAHwEcuQWFgHrOjUWHxiRK4uLiZs6cCTFiE6N/b2/v0NBQck9Ea+I0TjMbCzEoQWiWLFkCg2QTNIoUKVKrVi3UrF69enFdcLJkw0Qx9hYtWtTT07N79+6EvYEDB3bo0IHIp0iCjKObXGhmweUmTvv6+o4cOTIwMJB7ACeGZrN161YyleSkhNnIg8YuExpzh/3zjKAuN23alPUKDyI0axqvUhhvC4KSgAO8UtHSuRFQWuPc1/eNs+ONn4ec1BLMhoWAdlCZ4sWLE1CpY6yqspgiBpC0zrlaw4osPSclJa1cuXLq1KlEazrE4DRE6+HDhxOPNfcEIGB76tQpMgtk6NBd8GBcCD8/v5///OdoZhUrVgRMnLAW0JMrRZ104RdffPGb3/zmt7/9LezH3d0dJ83UHBoBojLXUYw62Sgu9NixY3v27MnzKFMjTu/atUuSj/JUyh0ie81WghLMpnPnzvK7UaAE9QeQ+/fvk/iOiIhA0ZTXtty+mJkNSWear9IaZ7qauZiL0BcedZ55KA5H4mGBoCLGeoEqwAIB9eEdUZw5KYXWIPCwrBCtM32ehrfP/v3716xZMyddOXEbgAWokydPwmmWLl2Kci6TFU4D7WOllv/LzYXA2CslFd5KixUrBuOpXr06olq5cuXYpDd2qTkZArxpNG/efPDgwb179+bx5LaB9PA87t+/nztnzZo1ZKacbMq5mg6A8FyQjULTGjduHO8DrGP0gP/evXvr1q2D2cTHx6elpfFWgF/NDAg4Gq0xwzWx4RwhNNAaNAOWBhZQ3g4tTy7aALSGNpb+N9WJrDTGLly4gAKc5edpBg0aVLt2bU7HuvOmfszgB6sTJ07MmzfP4DS8ZcIjW7RoMXTo0G7dusFp3oQD6MkuMOTa0RWmq7Zg4nwlD2arVq3QOIOCgipUqMC1Zo6khrds2TJ79uwNGzakpKTgsTRuDMtNp6/zRMBs0LRGjBiBvlWyZEmZMm8LCMY8ZQcPHoQL8rCIX0vnRkBpjXNf37fPjhUBox1vgVKhLiarQCan7MqypAeEBJaSZcuWvenzNCSh6JBllzLLTszgZPoJCQm8R6Jm3bhxA0KDwWl+8pOfoGZ1794dDQYcDIhozyZlJg9OqCd+NB6ENzbVnAwBITHoNGg2o0aNQpOgzhVnmrxs7Ny58/vvvycnlZycjBPDjxkV6s5t8kQwXyqwGTQtUGrSpAlPE04MzsdyBLM5dOgQb1wGGuwy6k5YMfeUlNaY+vqzFkBE5AknsmJ4BBHWU95vqCMDkLFmk/qbDNWHTrDLly8vWbJk+vTpVGA59IZBZXjXJLHi5vb/vnOPTnBSOr0BiJjMVJgHZPHUqVOTJ08GqKtXr4I5lwCs0M/Hjh1L7glOAz6YHCUl/eChZJNS6pRsqjkxAsYlLlOmTOvWrSdMmEDk5nlkyux6+vTp3r17p02btn37dup4uDd4GNlrKmPizJcSZtOlS5dPP/3U19fXyEbB+dBsIiMjDxw4IDk7UKIxpRjHqjkTAkprnOlq5nouvOWzEBBTORLiQojFeNTZxHgd5OFnL68+kBs8WRrt2cuB165d461ozpw5JKFw0iGHe3l5oUCY8/M0TF9McAMlMDl58iQZutWrV9+6dQuUZBfvl0AknEY8mUr6wfN6iVPNJAgUK1ascePGAwcORM8TzYZnMy0tDWZDzN64ceOTJ0+4Q3iouc24tQzLE3zsvxPmy/TLlSvXoUMHmA2ZO544ho3z9u3ba9euZXU6evSo8D/xswujruZMCCitcaarmbu58DzDaapUqSKJDN5j7t27J0sDHT18+FA0W156ypYtC7PByV5KMepQGRZQ+sGgMmT6Cdjnz59HfqANTm9vb0Qa+TwNHoyjKE1lxpR5jQYcEk9RUVHXr18HPXAA/IYNG4JSnz59qlevjidXBv60N05BXc1ZEeAqw2b8/f3RPjt16mR8zubRo0fbtm3jdWLDhg2wHJ47bipAoCJG3TzGlGE2QUFBZKPQt1i+eEaAjuQ47xJz585Fs+FJNA8gJpyp0hoTXvT/mTIvdjAbWAuuu3fvkjmSxBOL440bNyA6+EuXLk1ahJbULY3lA/rC+yJLRlJS0vr166Ojo0mv0IaAzWri6ekZEhIyZMgQklA0xtglJRUTGlglJCSQ4zd0GtAgUEH+mjZtCqehgSUs7JVNoyKbliXgy2amY8Vp36WOLncIcBtwlV1cXGA2xOw2bdpw88gNgE5DHmrmzJm7du2SxzZ3XTtFa/BhHgBChWWtZ8+eY8aMad68OcsUfpxoNrGxsbxXHD58WJkNmDirKa1x1iv79nnx/CPSwjnc3d155q9evbply5bjx4+Tit63bx80BaKDn70sDUJ92DT6lU+KoOig0yDSTJ48GSlC9vKyWLNmzfDwcJYV+henliyvDRo0QBuvXLky8QkwAQpVjEWWPAIpvEwQcYEyeV7fpA3G+yhG5fUG6nFoBLhJDGMicol50+AuIrfbpUuXEiVK4MRgM7t37544ceLmzZthOTS2NBoYZul3sjpzBC4mRQmzIRv12WefodkgNssDcv/+fZgNujKaDS9vtFRzPgSU1jjfNc3pjHjyCbTly5eHtbi5ufGQw2m++uqrn/70p//1X/9Fqh7KApv5+OOPPTw8LDtl7WCTkAyzuXLlCm8/CxYsSExMZOHAT8CuXbs2a25wcDAyD2ehvRh7rWv23TtQuLq6hoaGAg6As5meng4yFy9enJ/xB7NB6DImQQOjnn1F+qHkcLkK2bfXvQ6NADdGmTJl0GyGDh3au3dvHmGmw40Es0GtIcUJsyEzhVOMXVJx+hJkmCPzpcJCRJ6uXbt2KFsBAQHox+zCz2vbqlWrQOnIkSOq2YCJ85nSGue7prmYEQ85a2Lnzp15rSEhTfp57dq1RFg4DSGWl0IWBd51qBidEjWJnWxyLDqNcBrJPeFkKalfvz6rbVhYmJeXF20w/JQYFROa5cR5awSWwRl/Pj4+sgv6eOLEiYULF8IOyQPmCiIuB8YVYSnP1YHa2NER4JWjbdu2xGye34oVKzId7gHEv02bNqFGUFLHaWbj+YLZdO/enRcJ1jGePh4WUCIbtXLlSvmczbNnzwyI2CVmeLTiiAgorXnLVXPu3Tz25KEaN27ct29fHn5vb29UhCpVqlSvXh3FpWvXriNGjGjatKnlOw3EhUN4+OXzNHPmzDE4DfoNMXvgwIFEbdFp6B8ApaRickPcAgHQAGfW2QEDBiCDgSdOVltgJBpBKyGL0BScOTGuBXyUDhHVuGTAzltpzg/PySm0jb0hwC3EkCjRbFq0aMHj1rFjR95PcPJgotmg1syYMYOc1IMHD7i1cBpGG6c3kDHmSB3+FxQUNHz4cLDieWEXTjLsMTExvEjEx8dbKlvsVXN0BJTWOPoVzIPx8xITGBj4l7/8hcT8r371qy+++OJPf/rT1KlTKfG7uLj827/92zfffCNRmZCJukDoRaeZPHkyuScCM8ks1guCK++Ow4YNgxXhZO2QwbGkSkVKNjOZ+J2+BCKZI8jUrFmTaISs5enpySYGJoAJpEuWLLl06RI4S+Psy8KFC//kJz/5//6//w+NjWU6ODgYaQ1+mf1RutcREeAmEeNWYfyUWLFixciwhIeH9+zZs+SP366LArF9+3ae2W3btvG0Gg8jhxsHcizGprMas8OYMgaz6dKly7hx43x9fVnuhOqlpKTwrEVERBw9ehQuaIkDB1puav2tCNhVA6U1dnU58m0wPOqVKlVq3749cZFw26tXL9ZKsiTygUSSU3/+85/JRjM+lsgrV64QQYmjhGE8rBEsHIRngjQHIh7AcvC/yWicyd7U0on9QOTm5oZgQ7YOisNM0zP+4IvR0dGxsbEwG+GR7MreuHbwSNQarhfLNz0Dr67L2YPm0Hu5vozfKLnofn5+ISEhPLyQWtmFwrpv3z70v3Xr1qWlpdGYJ5fSPDcGk8VAgylTIRvFSxrMpmXLliia4r9379769esjIyOPHTv2JONbf/BjtKdUc1AElNY46IXLs2HzAPPY0x3v/RgBknCLoM0iyMqIHytVqtS8efP+/ve/T5o0idyTcBqSJuzC6IHcE5xmyJAh5EGKFy/OsfgtjVPAfgjVR44cQf613OX0deae5Rx5z65Tp47k7GAk0gaR5sSJE8JsgBrQxP+mkgbwGPbKWbiC9IBTNvGrOTcCXGiMh67Vj78bVTHjV99xokBs2bJFmM3Dhw8dDYc8Gy8LFH1Rgky3bt2Qk1u3bs2ahhOUbty4ERcXx0vawYMHhdnQkl1qjouA0hrHvXZ5P3KeZ8MIltTlHGRP2rZtO2vWrK+//vqnP/0pC6XBadiFTsObYmhoaI0aNUh/GEfJsVLyvsj7EHoPua1du3Y9ffpU/E5fsm5mM0ew8vDwIOuPbAOMbNKYQ06ePDlnzpy1a9eeO3cue83GkkHCZjicC4cTo67m3Ahwq3DPIPNxk6DT+Pv7jx49Gk2CukycbNTWrVunTJmyc+dOYTa0l12mKgEKY+68sKEoy0cG4YI4seTkZLJRvK29no0yFUpOM1mlNU5zKd99IjztmQ4Wj5RoNiShUGtZNHmtIUtC7gk2U4lALewAABAASURBVLlyZd543N3dWSN4AULmoRM5hEomu3//PmL4999/z1vR9OnTV61axYtRpjbOtMlaKSaTsqyLxwAKJCE0aF2SjYKO0JhABaGZPHnyxo0bQZtLIEdlX3Js9g3MvteJ5s/9g3HFKSGyqHRMDv2PDAvMRv7XN36cPGi8SEz88ftsaI/hF+NmM0w8TlkyZYypUbq4uHTp0mXChAlNmzYlgYsTk8/Z8C6BZmOely4m7pSmtMYpL2seTIrnn4hLR5SsniVLlsRTr169b775hpK3Q4gO8ky/fv369u0LuSFdTQPaWxorpmyi4tAJiy+vj/Hx8ZCb1atX04Psdb4SKLAczgtwSN6heEEQoThyINBdvHiRaLR06dIrV66QWsqyN5qJX46SupbmRIB7oESJEjAb0sFoEmXKlAEHnKmpqQcOHEBkXb9+PQ+gOPFj1M1mzBrNpn379vI5G2E2PINoNmvWrGFpQrMRlMyGjNPMV2mN01xKa00EOoKmzcpIjoN6586dFy1aRPR1c3Pr37//r3/9azgNb4RZnp4VhHhMWalSpU6dOg0ePLhWrVosH3v37o2IiNi8efPdu3dpkOWxDuF80yBhG9ib9mbyAywQ1alTZ1DGHxSHTYylFmazePFimA0VpwQqExS6+Z4IcNvAbFq1aoX+17FjR5477kPs0aNH27dvJwuM/vfgwYP3PIujHw5KFSpU6N69O8pWQEAAKhcPFyjdvn0bIRlmAwsUZoNTJksFk7qWdo6A0ho7v0D5Njx5hom4165dS0pKQp6B00Bf9u/fn5aW9sUXXyDb0oY3Ql532PumgYoSTsvGjRvzEokmIcyGZD+L7LZt21hw33Ss4/pZN8VyMgWABWfaQxYRbCB/UBwOZKnFf/LkyQULFqxYscJgNoApRhuOolRTBAwEuDdgNr6+viNHjmzbti3vJLKL3ArZKFLA8n024pSSQ6RinpIHp2zZssHBwTxxH3/8Mc8gc+dFghet2NjYmJiYI0eOgBjN8Ks5FgJKa+ztetnLeHieISsQmiVLlhBQSUUht7Ambtmy5R//+Mdnn33GO826devwMGLS1ZTZLI6sGuwlUcXrUVhYGAIPSwaL7NSpU5ctW2aDbBRnZ4RYDj+nQss8MWA0LJsOwYe9rKqurq6Qvz59+kD+8GAwmxMnTsyYMQPN5urVq0wkJx1yoJo5EeBe4g6B2ZCNGjNmTO/evckgAwV3zv3793noJk+evHXrVh5AnBh+2kuFuhibZrDixYsjP3/++ef+/v6glJ7xYyZ3795FIp01axbpckGJZ1DQMBU4MmVHLJXWOOJVs+6Y5RnmCb98+TKPN8zjzp07hFWEFh8fn/Dw8KCgIJZOym+//XbKlCmUDIijZHGknqVxiLe3N4IE/SBIwGwQw/fs2QOtQRhHB8p0FCtIJk+WmzR78eJFlrssncbYChcuzCGWu+ykzqgw6KOHhwcZBMgfFRk2/gsXLkRHR0MxL126lJP52smkdBj5hQB3TqlSpVq0aCEs2dBsHj9+jOA6Z84c3kmI2TTjwaTkHsuvoebXeWXJIhvVpUsXmE3z5s0NaZkXrQ0bNkRERMjnbIBI8AEoLL8GrOe1QCC7qtKa7NAx1T6eWzF5hlFo4DSkPxBskG1u3bqF0MLLzaZNm3jno+TxZiGA0yxatAjNhjXCgCsbRYTO69evHxoaStiG4pDP2rFjx9y5c1//BDH9Gx1mU6EZTMVokJqaeuPGDXgYYzacVJgazGD79u2s6aR1IAckv4xxslfaUOaXMRGMs6PZ1KxZc9CgQZA/+ZwNoAEvw0Yh46JAN9mkpZoi8CYEuKUxNJtWrVoNGzaMl5CKP36fDc8vak1kZCSRm/j9ph6c3i+PGyXMplu3buTsAgICQIyJ83yxjKxatYqlST5nwzNIS3ZhAItRUbNPBJTW2Od1sd2ojOeTh1YMz9mzZwmfcJpTp06xib9evXqU1atX/+abb3gLRLM9dOhQYmIieaUBAwb86le/+vrrrxFvZdw4pZJlST8QGgSJXr16UeH1kcQWL0Zv/QQxI8myQ3qAhCUkJCAaQ5Lo7fjx4/ItHUb7Z8+ekSxfvnw5SxW2du1aKA7N7FP5KFasWJ06dXjPhtlQYeJiZKNmz57N4KFo9jlyA3Ct5DsCPGjcNsRpXj94J7H8Pht0GrJRvI0glwqzobEMmEOk4vSlTBkGw0xBqUePHuPGjQMreU0Ch+TkZPRRXttYOkCMZmoOgYDSGoe4TFYcpDzbnIDHWMorV64sXbqUJY8K7yg4habQsmzZsiTmR40aBd1BThg4cOAf/vAHlBsvLy8SSceOHaNxToywjQ4xYcIEZBuyUUgsmT5BLIPJ1BUDwC/LkOxiE05z8OBBXqp+97vf/exnP5s4ceLChQvhW4ZaI+1J7sDGqlatWr58eQjB+fPnoThr1qxJSUmRrqR89eoVEg7dyiYlHkrbG5MFIpiNfM5GLgRzYeQoZJBO1Wxsf1Ec5YzGDcxtw43Ene/n5zdmzJjg4GDqzIIGpIBhNryN8CaAaEoz8RsV2ojhd1ZjgkBEyQTLlCnToUMHFiWYTdGiRfHgh/OxGPLSxSuTMBueQXZh7MWoqNkbAkpr7O2K5MN45OFkOYMKIAMg0mBwGhY7STbj52FOT0//4x//2L9/f+TZJk2aDB8+vHLlyrTEWB9XrlzZsWPHnI+e0xG2oTVwI5gNSwadTM34BDHpIfbKSTmvDE96xm8sQ3jY5NWKgZUsWRIBma4YHi+mLVu2LFeuHA0MYyKNGjVCHyKP3rt37759+0IXOnfuLB92ph9acqKbN2+iQu3bt88QeziQMbDX0hgbm7SntJ6RjfL48XM2pKVkGJwUaQpaw2rLxcqSddHGeqPSnnOOQH61lPvZODubsBmYjbBk4je7uEl46LjbRf97kvGLSDxcNGYXDcxgTJZpUorxztOuXbvx48eTuZN3OfYiQpMi58VJP2cDGg5hSmsc4jLZYpCsZQgAKK5RUVGIMWwSvHnaIR/knm7fvg2PITnVokULeAwRl9caQv7p06dLly4tLze5HSWd169fn6WWVAvMhtdHJHGiNUkiWAWnQMWhT5pRYugoMCqUYXgMm4YR+yErdPLpp5+iJMFXGjZsaKxKrNS0pBNIGAkdsmnwGzhQjx49YD8yciYLaaANp2BGsbGxM2fOXLZsGQSCXUIdKBkhOKAPMXHpk9KqxuAhNKGhoczOx8dHzsVQjc/ZMEIGJn4tFYEsEeAexsizkDuWz9lUqlSJlji5mUnacreb/HM2oIGxAlSoUKFnz54jR45s3bo1iwMQYbdu3YrL+N2o1z9nw1Fq9oaA0hp7uyL5MB4eZhgMr/4rVqxAbj1z5owMAj8xFf2jbdu2M2bMgEwQ6b/44ovo6OirV6+SkOLJj4yMvH//Pu3JK71DfOUUMBsIk/EJYrJRvBjBbFhB1q9fz4IC1WBlQT06fPjw1q1boVx4OKMYPTBIOmGlphkmfkrLOs1kE07ALjEZMH4q4uellnWNzbVr15LMiomJYRjCrkhdQWvYvH79OodID9YuGTbA1q1bl3UWLcrLywuiw0kZLcxmzpw5XDKD2TAqMY6ijZqZEeAewAwEqHNvwGx8fX2h/oGBgaLZ0ADNZvv27SSdefTIueChMaWYZV08zl0yXxYBmA2LUrNmzeQFhinfuXNnyZIlLAj6ORvQsHNTWmPnF8i6wyN+cwL4CjoNeY0pU6YkJibiwXi83dzciKY/+9nPYDAoHP/+7/+OMIPgwZr4z3/+k7B64sQJ5JNnz57RHmPdpMzSXt+FB6MxJ6pdu7blJ4hZXlGM/vrXv1LK/8PiXKwpf/nLX9atW4daXrx4cQ7E6IF1B12HOkZXGBUxqdPG2KQOLaAUD8dSoZlUQIO1nszUr3/9a9JtkDZk5++//x5waIZBIBCTiAHwGzazN86CZd8mh3sZYa1atdBsYDaenp5sciCdMx7oJkOCZbKJX4y9aoqAIMCNIRXufG4PYnbz5s3Hjh1LHhYGL3c+jzB8nRQwjx76DQ8Ch9AYo2ISAygxZg1KCMCfffYZiwAJbvGnpKTwqoOydezYMeRkk8DiiNNUWuOIVy3Pxsyi9q9//YvoCKchtQSHoGuchQoVIo6OGzcOWlOxYsWwsLBJkybVqFGDvaSfWRAJpYRYZJKvvvqKFBV+jKMoszRWikx+PJg4qcBsyGoRuclG8fq4e/du1lneHVFrEG8mT558/PhxXp44tZ+fH+2NA6ljspllablX6lJaNsbDrDFSV6gjLPfkp+A3nK5r164uLi6sa+yqUqUK04frsPqnpaVZ9vB6nT6x1/3v5oG6kYQCn0GDBoEVPWM40dgQz+B8l/T7bN4NWWc/ivvEcopsErObNGnC8xsUFMQbC3txEqf37t1LzN60aZOlGspekxggiPGwU2ER4P1tzJgxsEBZ2ZBIeZ/ZuHEjKilvdCxTJkHG4aaptMbhLlneDFheyHiAz/7v/8tN7zzS3t7eyCeI1ZUrV2YTPkFMLZrxvwPY9PLy4sVu0aJFyCf46Yp+ODAnRuMsm9Et0ZqwHRISApFiyeDdiHLXrl3kngoXLszLEzSre/fuLDdZ9vD+TsaA8VLLKkYJCCTgoBHwOfxwCChX7969Ebe2bdt28+ZNlrn3P2nOe2BI9erVGzFixODBg9HMOBAwGQNSln6fDWiovQkB7l6MvTynGHVk1xYtWvC6wmPFM85dhMFsSPLOnj178+bN1GlvTgMfJk7JUsNbDdmoNm3aoNngBCX06eXLl5N8572LBQqnmr0hYBVaY2+T1PFkQoClDWWCEk6zevVqFrLTp08TNQnnPMyurq6oFMRO1js5EGWCxlKn5GlnNfzJT35CHeNAyhwa52VpyLIxp65fvz7nbdy4MQLJixcvTp06hS5CYojXSk7HGF6+fElpeThHWW7mVV26JeF1+/ZtUjyQGEBAsIFP8IKLvgWzQa7Pq9PlsB9GxdUZMmRInx9/XQE0MN4duYhr165FvAG3HPamzcyGAPePYTAbhE9YMjG7RIkSAgXZqB07dvDSsmfPHpQJbi1MdpmqZNYYWPGw9+zZc/To0b6+vjz+gICfNy7kbVRS3rjMzP9Awz5NaY19XherjIqXe+kXvYGH80rG99N8++23BGk2YRsQFA8PD/Lu6DRoFTgx/PI8y7GUPO1i1DHLOptvNc6SZRvOBXWARlCS7oHiQGLOnDmD6jt9+nSyYFAcltpMx3JUJk9ebdLznTt3YmNjEaXi4uJ4S4MxMFloFojhZ2x5da6c9wP15BqhpfGqTUXA5Brp99nkHENtCQLcyTAbMiyIoLzGGMzm0aNHMJtvvvkG5SY1NZVmNDabMWuMWVPCbDp27Dh+/Hh/f3/5VB8rA680JOIlGwVKPIA0xm9peLI33WslBJTWWAlYe+wWpUSGxUPIa/2CjD+kCDZ5egmQ1apVCw8PJ/NSq1a1GICQAAAQAElEQVQtPNKYCib1LMvs92Z5yJucxGayTkTrL7/8sl+/fjVr1uT1MSEhAb2XcZIDQigyTicryJu6en8/J+J0SEdkx/bv3/+3v/0NdnXp0qVKlSqhSDOqmJgYyvc/UW57IB0GMmTHULaocPnoATQgW7xEstpycc358QhwUMs5AtzhpUqVQrNB/4PZwHK4i1gHiNP79u1D/1u/fj0PYM47dL6WAAJKrAPt2rUbOXIkzEZy8fjv3bsHPqCEZsMLGHOnJaVaviOgtCbfL4HtBiDPHu8ZiYmJixYtior67++nYQQ8kHXr1iWLHBoaShQnUmL4DaOBUc/DCquD9EYFJYbXxKNHj7J2+Pj4sHwULly4fPny7ELC4SXy3LlzRrTGaRwoFWuULPRNmzYl49OiRQuW+4MHDy5cuBDSAMEiTbZ9+3YGTH7dGIw1xpBln8Uyfl0BWoOBlbThkhmfs0lKSjLEOdmrpQkQyPUUuXXRaVq1asWzT6q3YsWK3EX0wiqBWkPMXrduHQ8mHjMbqx/IdOvWjZxd69atRbMBEHLT6Ljz588/dOgQGjNg4lTLdwSU1uT7JbDdAHg4efB4pyetY/n9NOSYeOkfMGAAKWQqMiAaS4WSoyitalCuEydOkGa6fv06Syqpfd6BqlevjlhSp04dKAWb8DCkCFlkGRJm1SHRP1knJC5XV9eQkJCf//znHTp0uHbt2unTp3G6ubkxEgbMikZSz6ojybJzLpCXlxdvkAMHDqQCRDQjJsFs0MY3bdqE9GWwQHapKQKvI8ANw30Os/H19eXxb9++PVQeDy3RabZt2zZ16lToO7c6HsOkgbHpxBWeMmbHfKmUK1eua9eu5H/Rt3jpwomlpKSwKMFs4uPjjceNxhylll8IKK3JL+RtdF4ePBiDnIyHjZf4VatWTZo0CcHGcJJyGjVqFAGSJBRtDD91w8SZVyWjEpMOqaPosjqQgWKZIJNCcod89ldfffWXv/wFeRxBgkWWvQTs5cuX00aiOIcbFep5aAyJuSMX0T8lWn2NGjV69uz5i1/8gqUNlR4ACQm7d+8GT8Qk6piNBRKyUVw7BDaYTabvs5k4cSJ4XrlyhVFZwsK8xCyd2dV1n1MjwO3Nfc4Uyas2a9ZszJgxaJNly5bFw33y5MkTiDvMBn6DKokTwy+HUDeJyXwpYTadO3cGpZYtW8L/mD5o3Llzh3z0rFmzyJWzMtAMv5RU1GyPgNIa22Nu0zPydBUqVIhT8vih05B7WrBgAWkUPAULFmQXcRFCQ2gUTkMzdnEUpfWM/g3jLPfv34ccIHqj05ALQwwnTnfv3r1Ro0a8RMrwPDw8iNCk/CMjI1euXCk/oWA9mYThMTAx6hjkhuWepZ91PywsDMSQkRg5w16zZg05MiJEwYIFbc9s4HwMZtD//j4brjXsEGYj11omAoBcX0w2tVQEDAS4w7m9SbaS1uzdu3eZMmVkF7kVmM20adPWr19PHSctKU14FzFl5l6pUiU0LZSt5s2bo9kIFLyVbdiwgaXpyJEjotnQmF1q+YKA0pp8gd12JyWNwgPGenT58uUlS5bAaU6dOsXDyQgovb29idAsZORZCMl4MHZZ1TJ1zhsh6RKWzgoVKpDgx8aPH0+6p0qVKrSEuJAXI0E2ZMgQ8j5Mh1ci3o2gQWgkTA2jmbVNYJGSLDvDI8uOHA10DBvN5ty5c0yEYUBuKG1pnLHem7/PBqwMZkNLpiClLUeo57JbBLgfLMdGNsrf3581AUmS+C270GlQaxBKYTb6/5lBrHLlyrx0DRs2rHXr1qLZ8MJw48aNuLi4efPm7d27F8QEOi3zBQGlNfkCuxVPmmWYJxnBu/vs2bPhNJybNjycUBnyO9AF4jSchicTP3sx9lLaxmAqaB5ly5ZFbyDF06tXL9bTIkWKEH1RPigZBvSrf//+cAiUCSgayX4W2U2bNqGR2GyonEgMrIoVK1a+fPl+/fr927/9G0oJAwZh0mQMVQZMxZbGwLiaXEqUJOQ3OTUX9OTJk1x00nYk9YxcpHGVpZmWioAlAjCbpk2bwtrbtWtnqdmgSn777be8fgiz4ZazPMoMdZkyjw8VkCElzTsYWLFYMX38SMi8RURHRx88eJClCadaviDgHLQmX6Cz05PyyMnIeMyokGZKTEyE0yAjk5gg6JJMQTslp2N8Pw2PZYECBTgQ4xAbGyyBSAyhgbggzCDPCJthMIyWwVDBIDS8RBK2qUAgjGwUmg1tbGyMB9DAFjIBGxs3blzt2rUZg2BOxfbGYLimCEigRIURMgbGw0WfOXPm6tWrr169CoPEKbuoqCkC3AyGGWgQs9FsxowZExwcTF0aoECgQ0yePHnz5s3UpTE3GCZ1M5RMFjSYKSXIdOnShWcfrOCCONlLNio2NjYqKur48eOZUGIvRjM1ayOgtMbaCOdD//Lw8ODxgg6nWbRoES8QhDcYA2/wlLCH17+fhoHKgVRsZpwR5YMwTMqJpYGxFS9eHI6FnzFAa5gFLIc6YZthjxw5MiQkpG7dukRoyUatWbOGlyRmytRoZnuD3zB+mBmCE6O1/QCMM4IbEEGzkLWgWQwGw0mOj3WWFOS1a9cE2PzCyhiqVuwWAe4ZrFTG99mgRAqzYbQ8jKmpqeRbEUo3btwoMZuWmNxUtHF6Y7IyR6ZMHck2MDAQZQtmU7JkSXbhR3sGn4iIiGPHjvEChpOWhrGZf2aWMyutcdorzQN2+fJl4TSnT5+WefJ0oXYQ9liwiHyEN0x2UbKX0sYGX0FAwqgQgxkDJmNgClSQcxgkqyoNvLy8SJzBbJiFZKMI2CtXrkSzoQGNxeRAqdugZMCk2JmCMDAbnPFNp4Aj1qlTh2wUl5gKzWCKGMlHsv7Lli2D3QqY7FJTBN6EALc0cTogIADxLygoiDQrzxTOJ0+ekI2aNWuWfp8N0AFIhQoVumb8r++WLVvyYoaThej69esrVqyYn/F9NsJs8KvZDAGlNTaD2nYn4mFDvbhw4cLy5ct5tUpISMAjqxK6ApyAsMdrvQyIXVKhpA2lLY2zc1LD2Mxk8lIoQ6IZlY8//ph0Va9evaA4LBl79uyZPXv2hg0bUlJS2Gt7Y1QQBTkvtEwq+VgCIISVS0zCDg2J4TEYRgizIRsVFxd36dIlPGqKQCYEuHMww0mdON28eXMk0vbt25NzkV08ktu2beNe2r59+4MHD3DSkhKTm42K05tMmflSqVixItko+B9YgRjvNvjJRpH6563y6NGjICaA4JeKllZFQGmNVeG1defy2FDyuhATEzN16lTeztlkHEgdcBr00lGjRhnfcYKfx9LS8NjY5OxZnpRgTE6KXbwAUYoxnXr16k2YMGHYsGFUyEYdPHgQKWLVqlWWzIZmhsmBuSo5NoftGT/Do8xhexs0g11xrY3P2TA8TsqMkpKSpk2bRu6fCosvTjVFIBMC3CfczJQYFbJRvr6+LBo9evQgZktj4jTZKJYXlBv0G3FKe6mboTTmC0owm+7du3/66adNmzZF5WL67GU5IvPLS9eRI0dgOaxmtMTPXjWrIqC0xqrw2rpzeWzIPS1cuBAJFMHGeIp4cQ8PDx8wYED16tWNYdHeqOdv5fWRMHKcrAWYjI1NjCCNMR3UCBL/pFpgNvv37+fdKBOzobGYHJ6rkgNz1V4av9tRcmzelkCEICefs6FC5+CJhnfu3DluDJjNlStX7JPZMFS1fERA7mFKjGFQotP4+fmJ/gfLwQlvhs3AbNBsyEaRDsZJS0puM0ozmOV8qZcrV65t27Zjx45FsyEfDQJAkZycvH79+oiICOMTxLRkl5pVEVBaY1V4bdE5Dw+nkZIAz4t4dHQ06gVJB/w8RVjdunV5d2dh8vHxIeDhfx+Tc71PD1keyzgt/WxijBaz9EudXaRaQkJCSEgxOxZWhPHIyMi1a9feuXOHvZi0tE1p49O9dVKMRz5nM3jwYMgNCTsO4cLBEU+cOCHMBvqLB7+aIpA9AqVLl27Tpg3ZKDSbSpUqQYi5cx4/fsxDFxUVBbPJ9OsK2ffmNHsBgblIyRNXvnx543ejRLPhcUM4J/PLmhwfH0/SnPZq1kZAaY21EbZR/zxUPF1Xr17lRXzWrFnCaTh3wYIFCf+hoaHQmsqVK+OxNI6y3LTDejYj5JWRJBTMBvkXusaSwesjku9rn7Oxw2nZaEigB6EhgwD5c3d3F4LIUguzmTNnDu+RiYmJz58/586x0YD0NA6IgNwepIPRbFAjAgMDRbNhKqmpqdu3b//uu+927NghzIZbDr+pDHx4ppgycy9btizMj1x/kyZNihQpgpO9d+/eJRu1aNEislGoXDjVrIqA0hqrwmvdznlgOIGUrC/nz5+H0yALk3vCzzOGFurp6Tl8+HB0mmrVqsED8ItxFCZ1hy4hNBMmTGCOjRo14iXy0KFDMJuVK1fKIsvUmCaLDvkXjDoejAqbtGcXdTzOalx0Dw8PohHkhmwUNJeZMuuzZ89OmjRpxYoV165dS09Px6mmCGSJgLBhdqH/Ea25kUj+Er9ZYXh2Hj16tHfv3u+//x7lhlcLmpnHQAADH0xmzSbIdOzYkUXJ19dXPo0ESvfv34fZ8MIJs3n69Kk01tJKCCiteSdg7ekgnijCEjoNjw1ZGN6/jdHVqlVr2LBh/fr1c3NzK1SoEC2NXTx+mLHpuBVmgQ4RFBSEZtOgQQOE8Z07d8bExCxbtowF9969e4cPH0YEXrhwIR7WlJSM/zDFUQBCjKfC3Fl3KJ3VmCOEBsGGgMSdwCYzhdlwq8yfPx9YyEZB8nCqKQLZIMCdg06DZsNrUp8+fcr8+LtRsJn9+/fzQkU2ino2PTj9LlYSUEIXb9eu3bhx41q0aFG0aFFmjZ+1CH00IiLi6NGjJkcJQKxqSmusCq91O+dR4QSUly5dWr58OSHq9OnTbPJcYSRoSDyFhYUR9Y34Tfv3Nzp//05y2MObzmVMEzWCNt7e3n379oXAMWt63rp1K5rN9OnTp732N2PGjF27dkFuiOu05FgxOmTTiQ2IBg8ePGDAACpMmZkiVh0/fpzbZunSpRcvXhRA8KspAm9CgDunZMmSLVu2ZG3p0qVLxYoVacmzgzgqDx2RmzpOMxsowWx69uxJNiogIMDQbG7evImQPG/evAMHDmRiNmDohIjl05SU1uQT8HlxWtQXQhHv3KQSeFVKSEiQXtEhvLy8QkNDSc3UqFFDUry0lL1OU7J2gADGjJhjw4YN+/b9f8ymcePGBGxeH3//+9//5S9/WbBgAfI4yandu3cTwv+a8YeiI4vvixcvnA8ZAHndAArNBsEGZsPtAdOlDXOXz9nwns2NpJoNmKhljwDaMHG6adOmI0eORJOA5Uj71NRUXhh4jzA+ZyN+U5UsSswXjkKldOnSMBv0clYkFiicGC9UaMnyORvNRoGVNUxpjTVQtW6fPBsY56AkfUDuacqUKefPn2cTZ+HChck98ZYgWKcbGQAAEABJREFUnAaPGAGMCm3EjDoVxzJj/AybUE2Jh0UE2aZ+/fosIiy1rq6uRGjWWRYOjMrzjD/qDx8+3LNnzz/+8Q+4ID7gMjqhK2c18GFqQOTp6cm9QRIBvosHI0pBaL7//nuyUaQy8agpAm9CgGeNtyZuJLJRzZs3Dw8PJxtF/KY9u3i4YDbcS1u2bCEdjAd/3ppD9MbjxtwpQaZTp07jx48HKxBj8PjJRsXGxiInkxNnCcKplrcIKK3JWzxt0RtPC8bjQe4J1o8aIZ8R5tz44TSEdtaaSpUq4TGMlYg6DcSMOhWHM+YuY4a7YMYmUyPj5uvr6+HhgRrBZpZ2//79w4cPo5kTzo1lhZbSp3OX3AZAFBISArkBJZksAJKEio6OhiInJSUBqfi1VAQyIWA8JlTKli1LNorMZu/evS0/Z0OGZc6cOeh/lv/rh3ssU1dOv4lmDEpkozp06DB27NhmzZqh2TBroECzIVsnn7MxliB2qeUJAkpr8gRG63bCY2CcgDpG6gQqszDjO/dOnjyJhwY8QvXq1YPTDBo0iHSDPEL4xdgrFUcvmYjoK6waBGneHWXTmNetW7fIYbMXWLI0WrKUkJbizfLRo0dsYnRL6fQGIMwUNQvBBvPx8WHKCDbcUWSjoMgo5FAcmuE3h+ks3xEBbiQyUAEBAWFhYV27dpX3KO4cNBuSvFFRURs3bjSeL87BLjHqZjDWJTRyUILZdO/enReJVq1aGZrNjRs3Vq5ciWazd+9eVGSamQET28xRaY1tcM6zs8jdf+XKlaVLl/JIyPfT4CSZ4uXlBaGB1ri6usJpWEHy7Kz21BHzYrGgZFBwF0pMNqkgfaPBZJ9MAS7aX79+ffv27fAbjjKPMXeMaISqxzrbt29fNzc30AABUD19+jRvkGvXriWnqZoNmKhljwD3UokSJdBH5XM2otlwI/EY7t69e8aMGZSwHLnBsu/KmfbKfAGHSckahbLVq1cvnrhGjRoVLVqUBlhycjJvEbxLkI0CMRqr5QkCSmvyBEZbdCKPBw8DaQJ0munTpxO/2ZRzE6WGDh0KrYHTQHF4UZCHymggzZygZF7MLjU1lTQTM2UNZVIyTSlZICzVb/ZmMjQeWtIGUSctLS3T3jzYdIQuAAFJb/jw4eHh4d7e3jJkqMy5c+e+++47slHZU0Npr6WZEeAhYvo8j8RsPz8/biQit6gRPKGwGTSbb7/9lmzvs2fPaCbtOcTpjcliTJOSB40KBufr0qXLJ598QjaK9wogApAHDx6sWLGCnB3iMZoNzTD8hrGpllsElNbkFrF8a08UJ1lAsFm0aNG8efNIQvHMMBpK+RzogAEDePPGY2nstdx0mjpyFHOBwQjbM8gNm6DErpwYUTwnzZy1DQsuCl+/fv0GDhzILcQ6y0xZT0lCcY/BbKiAJ041ReB1BIy1hQoxG80mNDQ0ODi4XLly3DY8krwz7N+/f9asWRs2bCBmc4PRUvrhNpOKSUrmy9wrVqwYGBj42Wef+fv7kz1n7jyDd+/eXbNmDUv60R+/z4aWhtFGLbcIKK3JLWL50P5f//oXZ+XBuHTp0ty5c+fPn3/27Fk8PBKYfJ6GBYV3bjZ5Htjl9MZMmSOvhgg2VFgxKV+8eIHAK4yHzTcZvAeUOIT1901tzODnjgKEOnXqhISEDB48uEGDBoCJE3xIbqIIwmwuX75sBih0ju+DAPcMh8NsWrVqhWbcuXPnChUq4OEpu3//PmoN6fKNGzfeu3dPnJQYR2FUzGMAArPp1q0bKAVkfJ8Nzxog3L59e9WqVWSjDrz2fTbmAScPZ6q0Jg/BtFZXxB5efUg5IVdOmzbN+H4angd3d/f+/fsPGTKE3BPPDGatQdhZv8wUTAy5hU0GCKGB+d26dYu6YbLL2KQCbkhfcJoqVaqwieGhNJsJMtxddevWJRvVu3dvbiecoEF5+vTpyMhI3iO58Xj5Nhs4Ot8cIsDdYrQsXbo0mg33UseOHXm+5LYhA7Vr1y4Wrj179gizsTzEONa5KzxQzJoli2mSgerRo8fIkSObN2/OiwS7eElDs+EtAjty5AjKFs3U3gEBOURpjeBgpyVPAiOj5KWZO37KlCkkodjEiYZJBmHEiBHyGWEeDJzmMUBguQQEY8p4iMTTp08nS81KwXrBXugLfqONUYEPpaamwoHQyVl8aW/sMmGFm6dWrVqQYzQb74zP2YAJEJ05c+a7775btmwZtx8eQSZLPGWXliZEwPLZoY5m06JFi1GjRvXs2ZM6gHDDPHz4EGYzefLk7du3P3nyhGb4nd6YpmFMFhzYpIKBjHyfDdkoXsZ4uNgLs1m8eDHKVnx8vDIbUHpnU1rzztDZ4kAeA253ou+iRYuQKC9cuCBnxc+LNYSmX1a/9yRtnLsEAV56jDkSg3nLgdPExcWh6AIaCSmcrBdGG8sKh7NwHD9+fOrUqZSWu8xZh9nAkgcMGACz4dYCHzDEzp8/T9Jz+fLlBrNhlzkh0lnnBAFuD2I2ms3AgQODg4PlIeVGgs3s3r175syZZKOeP39OMzH6ZC+lvVqejYv5Sl/MlzrZqHbt2oWHh8NseAfDg1++zwaVlNWM1zZpr2VuEVBak1vEbNSeW5wzEZuhMguz+n6asLAwXq+JQAgSPBI0tjQOxyw9zlGXSUlpzIjNkydPgtLKlSuvXbsmSi/vQEjixYoVM5pZVkCM5MuDBw+WLl0aERFx7Ngxy73mrAOIj48P0WjQoEF16tQBBJDETpw4MXfuXICCXgM1fimpqCkCIMDTJMaNgeGB2RCtWaDItsj32eCE2aDWzJkzZ+3ateg3eMxpYMXEKWE2Xbt2JRsFv5GVisftxo0bvJvBbPbt26fMBqDewZTWvANoVj+EpYGbnvL176chscJbNbGHBLabmxvBm9HwMFCa00AJThMbG4ugBacReaZUqVIspu3bt2dtbdCggcf//mM1YRGhJcci7XAsS618CtucGBqzhtl4enrCmPv06UNaSvzcXTAbtPE1a9YkJSVBtcENk71a5hoBpz6AG0OMlwo0G7JRPIai2TBv4vTWrVsnTZoEvzGYDWsdu0xlPFMYU3ZxcenVqxfMpkmTJmg2eEAvOTmZbFR0dPThw4cRlXGKsUsqWmaPgNKa7PGx6V7Lu5Y6IQQFgsRKYmIimzIUgg3PAObq6ioeSnlCaIOxibFSYFQc3YwZZTkR9sJppkyZAi8xOA2rQ+PGjf/whz/84x//+Oabb/7zP//zl7/85aeffvrll1+S3Sc8/+Uvf6EBKhcRGuhu3rwJs6Hl6dOnszyLSZyAyUyBpXbt2uQ3hw4dCm/Gw40ESufOnfv+++/RbK5evcomTnapKQKWCHBXwIzFqKPZNM/43ai+ffuWKFFCWqLZ7N+/n2eWbJRlzJa9zlqChqUZEDFf3sE6dOjw+eeft2jRQvgfT+Ljx4/J/LJYkY1K+/G7teiB9mpvRUBpzVshsl0D464lbBA8kB/mvfb9NLz99OvXz5LTML4CBQpQcjhGxZnMmBGPeqZ5gRJvMzz5q1atunXrFjoWjVk9/fz8UL87d+6M8IBUw5LRs2dPQAsJCQkICGjTpk337t0RJJo2bQoBok96Rvhdt27d1KlTWUTwOJzlyYBBT/oBSRTB0NDQESNGoHPhx0CbfOj8+fNhNpcvX4YRSmMtFYE3IcBtg2YDsyGtyQMIy+FZI6Kj2ezduzcqKkq+z+ZNh5vED0oVKlRA0xo3bhxYyaLE3O/du7d+/XrWt0OHDsEFge7ly5f41d6KgNKat0JkuwakRTgZzzzxY+6bv5+GaE2z9PR0SjEeDKmYpGS+oAQFIcoitEABmfjz58+LFy8OWUFpCA4Orly5Ms1YCHDCAmvWrFmlShVehsCtatWqQUFBEMRGGV9kzrHEbDqhK1QfqJJ5XiKZ++sGGsSeOnXqQP4gN1AckMQDdGSjBPNLly7J7fr64epRBAwECMaoEeSCEf94nSA1zN3F3kePHm3bto2YvXbt2gcPHuAxs/F8wWzABxm+devWLFPgBiAIyXFxccSCgwcPsijxvoFT7a0IKK15K0S2a0Dk4G4mYKAcTHvD99MQnnkGaGblW9x2s87hmWTWlLRn+jA/pKwlS5ZAR8TDe2G9evVYPbt06cLqKS0FJVlJ4T20JMnC4eXKlevateuECRMaNmyIBz8xm0UEZhMREXHlyhU8TmnM/a3zkvsQACHQcETes7nrwJBj2UXWD/JHNOISqGbzVjC1AQjAbORzNkinotlwL6FA7Ny5c9asWdu3bzcts+EpAx8xVjDjcza8jPHE4U9JSVm2bBnr0qlTp4xsFH61bBBQWpMNOLbYJYGBh5yTcYtfv3599erV3377LdFanARmXpdJBxBgUB1oI0Z7aUDF6Y2Z8pDDPJgpdSLrjBkzVqxYAVyggbNIkSJIL6i4vPGAEh5wo6QxJcGYkjaUGJu8D9WoUQMCNH78eFLaNKYfGpPMottvvvmGU6BG4KG9kxmTwrKfFGjQAKBq1arFvcdLJHCxiZOrcPbsWW5Rltpr167hUVMEskeA24mYDbMZPXp0jx49ihYtKu0fPnwIs5kyZcqOHTtQI3jixG+2Up5HUIL/kT2X342ijh9LTk7m/W3mzJnx8fGoXGYD5x3ma0Na8w6jM8Ehkknlhub2JUjz7oJawHuwTB2/u7s7hIY3Zjc3N6IvzTBjr1ScuJTJggMxFVkFckOSCO16yZIlFy9eZJMG8JWWLVsOGTIEmkKmicasj7wLAgt1yiyNXTTmEOD18/OTzyfRIYSSlPbUjO+zoU2Wxzq0k0lhOZwC96eHh0f//v2hjNyK4MOxYI6mGB0dzVVISkoi05fD3rSZ2RDgbpEpUyFON2/enMwmqxl17iIeatjMrl27eEvZsGGD6KnS3lQl4Mh8qZCNCgwMHDNmDCyQlQ0/QN29e5dFidBw/Phx8u841bJBQGlNNuDYYhe3LKehPHPmDHFi8eLFxv/H4RYnq8IqQMAmohDU8YhxiAmNmGp8ngZZRRBArYWUDBo0qGfPntWrVwcf/GCFHkMle6MxzAaBB5CbWnyCGGazdOnSyMjIY/p9Nh98AOGrU6cON+HAgQOhOIAGvNyx3KgLFiwQZkNwyh5q3asIcOfwVAYEBKD/kQImfvNE4+Tm2bRpE+8qlOg3Jgfqww8/BJlu3boNHz4crOB/AMLjhjIaFxcXFRW1f/9+ZTZgko0prckGHFvs4qnm2YbTbNy4cdq0aYQKzooqg5F7IpBwc6PTGLSd+xujjUkMfGSmzPrUqVPG52nwY+XKlQMl5BZWAQgKHpSD1NRUOeT1kgaZnHiMTxA3bNgQcYIGXJHbt28TsHk9IuGCx2mM+b7DXDiKm3Do0KEhISEwbPDhctAPqTog4j0boRHk8agpApYIcOdghod6iRIl0GzCw8Pbt29PzJYbKS0tbevWrUiku3fvNiezARlLlFxcXHhPY/Fv3Eyn0HEAABAASURBVLgxOTtQwu7cuUPml7dfFGvNRhlwvV5RWvM6JrbwcI9yGkqMZArawMSJEyX3xP2NEUWQEHhFpkJLMfxisulkJVCIybyok0vC2KROBCUHv2jRIiIoagESAhSkbt26n332Gdn6ihUrggwtoYPF3vDNwuzN0ugcesTrIyltFlx6oCsiN4IQ1+Xrr7/m1AwDT5aHO7cTKP5/9u4D3Mrqyh9/8hijIFIEAVGQIsUKKCggNgQRRUFBqgpSpEnMxMxMJpOZJI/PP5PJTIwEASkqVVBAerFg6CpNkCIdREClN0F0mPw/ufvJ+Z1Bpei9cO95932W2/2ud5+3fPdaa3/3Wod7wwuqF2CQ9tlsMnx7iQYmaF/fvn0nTJjw0UcfOQRmkPCp2EYEjkOARWEztWrVevzxx5s0aSJ/YwClnM2sWbP+/Oc/v/3225gNj6NPmgTf0XrxwoULN2jQoFu3bnXq1MEFaej37t1ru6Vmh9nggkGpjZKOQKQ16WicuT4DdTOuu3HjRku1ZD5yQxOkbNmydjN2xnL+QZOEVmgLEl5WH30hsOLDL730Uur30xw7doy+du3a8gcNGzbEaWSzZAtOkKcJ1/zG1vIstpbO+gaxxI+SFs5kpEVaNUpJ2yZSSdswyiQLWCpUqNDqa7/Phg0z4HHjxukwafNFkgxUfPcTI8C1MRuOhiI3bdq0YMGCDIZ/WafffffdF154Qf4PyznxRTLyLGTSpUSJErfffnvHjh1hJWcDIm+9b98++IiHCxcuPHr0b39dC3r0UVIIRFqTguLMdVghA9Xa4I7K+ntPak8Og0FflfWvlDl85cqVKc/cY525O53GnSDw/vvvWzXtUZAMn+TJ+fPnt9uTzRIT0RG40cuyfGOexhWcPam4iDJW/J7NCYDC89htlazfZ9OmTRsUJ2CLyixfvtwcYTabN28Ow05wnXgq4QgwG2IvcfPNNz/66KMSpXYmzAYs8jQzZ84cOnSonE2sswhKmE2jRo0ee+yxW2+9VdyDG6USuT3esGHDFixYIB7SgC5KCoFIa1JQnNEO61y3bt3EiRNffPHFDz/8MNzbwizPbzespGq15ufhn3+HswlsoaQANHz48NGjRwdOQ2Nvh/l16NBB7YnPg+XEXm3RNeZUxHXC92wEkSR8z+ZUMEkfg9OwSShJIoKo2d9/2zWleVm5ciVjnjJlSpgpH6TURokIfB0BVsQ8MBt5CNmIO+64g1/TGHn48OE5c+YMGDDgnXfeOY7ZhAHGJEpUo1TreFy1atVU3rmb11eNGj9+PGbz3nvvyXLRREkhkCm0JvVCubsT3BK/RmXUngYNGrRt2zYe7qnZq9pT+/btU5yG+VI6lTRRTvLKsMJpFIAktKBkTaVUe0I4evTooerM22lOKkonLnXSYWGAuUAo77nnHrcQcN2O3kTs3LlTKiKzf5+NNz2phFkA6WWXXSahaEFCcXwKRGZt7dq1qv44qGoUJTC1USIC6QiknJEtsRDVKJnX8D0bfRoiZ4PZcDeZm9Sa7YNOpV8qs/vel3hHb43/1a9fv2fPnjVr1kx9z2bXrl1yNkOGDFG5O3jwoJFBwqdCP5ltpDVndN4ZKJuTQkS0Je2RG4uBJYEep+nUqVPz5s0lDEKCweJBf0afL3fcTNYKSuH7NJMmTfo06+890SB5tWvXlrXGaWStT/H7NKLnab0WzK3ZDRs2fOSRRzCb8HHTtGXLlunTp6NZH3zwgTGndc3MG2wuFElbtmxpOq644orwgiwZsxk5ciRms2HDhoTnGgMmsT0OgeN8xyE2c+ONN2LJasohZ2M7IWdjtbbx43SB2RjpUuKANgnifUl4U52iRYvWq1eva9eusBL6xCULhKVk2rRpcjbLli0LKBlvsPabJRnaSGvO0DwHbxTohXtWOGLEiNWrV1u/rQSsUFXFItq6dWtFKC5tMCU5Qw+Xy27j9b/+fZp8+fLVqVNHKuu+++4rVaoUr/bUADz/77+x1GF2CeSVt+RsHn74YUHEEu7KnkrS6LX4+2xgkSWmoFKlSi1atGjTpg2KQwc3jBztQ9klI8P3bOijRATSEWAnJKXhWbIR6d+zOXbsmAH79u2bMWOGyubrr78uf5Man6gOHML76mA29957r2rULbfcggvyNcuHXZ+9H49bsGBBitmEjyS2jbTmDE09o+S9dvzWxcGDB69atcqN5QAsmahMq1atrKDFixenJAYTnQQKlNSevv59mquvvlo2K/V9GsMCOKcC1KmMCVdLb5EnFKpDhw6hpO2UOGJ7NGbMGDO4Zs0amoQLZlOhQgUJm2bNmpUrVy5MilC7fPnyoUOH2keuX78elU84Spn9+t/n7RgMa3EFHbUVWwjulv49myNHjqhGSZHOnTs3MJvv5stukacFPsQrqLw3adKkffv21atXt6mjoVeNEpQU6xctWpRejXI2mRJpTY7PO789evSo4G7zKjnfv39/CZtwV5zm8ssvx76ZaZkyZRwGvexi6CSnxfC8LBfFaUQxLio1YtWkBAti0aVLF/s5tScakBpJ9NOFJki68jv3BVDM5v777w+/yNx1XNytw1/E7NWrlxoiZcLF7DDdjh07suHy5csDDSCAWrduXb9+/caNG4fKo4OUUSICxyHAWvh4EH0ZiJo1a9q9NG3atEiRIgYzJDkbzOa5556bNWtWYrMRwAkCEyipwqtGqcjjgjRQ2r1794QJE9QBli5deujQIRr6xEqkNTk+9Zz23HPPtUiPHDlSEiJ8m9JdmWnZsmXtTux0L7vsMpqUOJXqJ6QDIq749e/TqCLzXnX3hg0booDABAh8guh/o1hH8Q/irMtqjxPKIMfpv34ovLq1hETdunXDWR80m0r+lm3FsqBMcmvuWLJqFHKjE6AAvlSN3PjYsWM3bdqE1gf9KbRxSEIR4NSyETfddJOyprys9RsQlIcPH1ZhUY3idPqUSRaAFCtWrF7W342ClX0FNLibatTUqVNHjBixbNmyhKMUaQ2TyClhai6tTqzkJP3A4HRSC3P4Po3ykzR+GKZNrOAKKIJVUDY1/AthKa58+fLxWzFOMSj1955AxLG1JxDpLmOIy55g2AlO+ayzWlHDrZW0H3nkEemi8FUeMysJYcF+6aWXULFk/uow+KSEVVeqVKl11k/4no1TLF/uzZwqvGI2QKOMEhE4AQI8rkCBAnYyivKYTfHixbkwkbN5++23X3jhBcxG/wRXSMIpKGE2glK7dn/7u1EhZ8O/tm/fPmnSJJtnLFBQglsS0Pj6O0Za83VMsk2jsMLUVq9ezSEHDRoUOI0FwEoZvk8jByADwUbZny1vtt04r13I61v/eKMiXeA0NAULFrz66qtBdM8995QsWRJK6a913GE4RZmSoAntX//619D5Dq0n8alLLrnEYwgiVatW/dGPfkRjzQ7VqCFDhqA4NAkXyKtGyT62bNkSxXEIEOitXLkS+Xv99deVpWLOBiZRToAAg2E5mE2NGjVUo26//fbUmq22MnPmzD59+mjTmY2PnOCCGXYKOKk3ktmy33vssceuv/56awq95UZQejXrRzUKs6FMoERakyOTjtC4LgZjkzp58uTnn38+1J6YHbuUqLf1t2CrPTkMYnxC/NNrpotohfkNHDhw/PjxijvQAAUvDd+nufPOO5WBwnj6k0oYqXWddEn/oFlIPzxx30UMMJVyNo0aNerSpUutWrVwUHp3kfj12M8++yxapvJFY3ACxYsDRJKsdOnS9tmKhjo0oIA2QqNgp/ZvN0kTJSJwAgTYkrOFChW64YYbMBsrt2hAQ2+dXrx4sXA6e/bsL774goYwM60ByZHwvl4cs7nrrru6d+8uv6VeDwGn9mb93Sg1O/nv1O8zpE8XIzNYIq35jpN7go+xHsueAYizkordfOq7pQxReganad68ubhvsTQsJc6m+hnc8ZpBwjuuXbtWKgtQKKAlEHr8k5daGhs2bChPY7uWPj586tvaMFL7bQPowW5AEIcnFSON0WI2HgkfVRqzhFN6YOklqQih9oME/z4b4ECDWIEUVR966CFpm3LlykHJKXMavmcjG2eWA+k3OEpE4NsQYDbytTfeeKNo2axZM/0w0jo9f/58u6Bp06apUxtGH1pmpp8ECe/rTXUuvvjievXqdezYUcwM6w4c9uzZo1o3ePBgQSl8z8ZI4xMikdZk80Rb55QnXHTz5s2qKkOHDsVpgrUxrMqVK/NS66KOQ8OSLNxPpnRk1m9vk/YIUBz3fZrwXZZTx8o1d+zY8eabbwbwcUoyLOtHRzWEyNHOmjVLTVCiKNz0FFuPEapREhK2kpZwH3RHzOa1+PtsYPGDH6AsUKpSpUqbNm1at259xRVXBBIplbV8+fIRI0ZgNh999BHQDA+tTpSIwNcRYEjYTN26ddVZbCes3wyGHDx4UFlfNsJ2Ir0a9fUrJEEDJcgokbdv3/7WW28NARNKNtWTJk16+eWXFy1aFJjNWUHjrNw00ppshj0E8bVr106cOBFZtna6gZiO2djFCvQ4Tag90SdZON6aNWuQj1deeQWn4ZzQuOiiiypVqgQiXipPE5T0py5ffvmlelCvXr1+/vOf/+QnP+nZs+cTTzyh/4//+I9PPfWUlvzyl798+umnkZuVK1eioZ7kxNdPfwz9UqVKqUYJtVWrVg3MxkXi77MJGLJz1q4fspL22WXKlAkIQwngaKV99oYNGwIBMpKEATpRIgIBAY6mo73wwgtr1qwpJtx2220FCxakJEeOHLEzUdmcN29eOrNJjiFBBg5B9EXOpk2bYjbhezZwILt27Ro7duyoUaOWLFkiy5UaHDoZ3EZak82TK3ZLszOm3r17r1u3LlxdKt5a2K5dO6kanAb1CfoEtpwNRJY0e3dRady4cdu2bbMQ0oPlyiuv7Nmz5+l+nyYdRlALeS4oDbt//34bOykZ+RuHu3fvVnXWSq7IY/fv379Pnz6olaCQfoWT9o23PcJsunXrJkluIafxUsiZnM0zzzyDV3kAb3TSS2XkAIB4L4SvYsWKSlHMHsUxuZRgwfjDvKe+ZwMoADobJSLAEoKwioCGw0KFCslDPP744/fff3/Bgn9jNtyca2M2x/0+G4NTHwwfz+zWywbx4jjf3XffbS+nGpXK2WA2EyZMUDTAbERCwwASWp1MlUhrsmdmxWsXkirYuHHjmDFjpP50aAgbKleuXKdOnVq2bKnzo6x/R0OfNAnu560BsmzZshdeeAGnQQERAqcse3ZjVkGeKU9zwQUX0Bhp/GmJq6XG+zgSaftyxx13KD/LY2urV6+uzoX6yK/Mnj178eLFiE7qI6fYcYXSpUu7oE1k/J7Nt4FmBsuWLcvsZbbKly8fhplrqRoOMnr0aIVaBNc0OUWvjRIRCAgEq0j15Wxq1aol292kSROZiRBvjx49+u6774ok8n9ffPFF+EhoE2JOXjYIoHSKFi1qT9ixY8ebb775vPPOoyS2W/Dt0eruAAAQAElEQVThcSr+mA1NxkukNd93ivkPH0NWdLZs2YLTjBgxwn7dITsjVapUkaRp27atzaubpa+7DpMjoCCwwiRABCj+Fl6fB0p7tGjRonHjxpdeemnYaoRTp9uCPfURy6qSFvD/+Z//WRLoySef1NrN3HXXXcWz/k7F559/vmDBAkVoT5X61Cl2vMupf88m/alO8fqZMSxMAeNv1aqVuQgvhcp88MEHbACzSX3PJpzSngWs3DVK7kaAuxUoUOCWW255+OGHbSeKFSvmeeVsVKBmzJihsvl6gv9uFCiCQAmzEUVtJOrWrSuQWm6IzOiUKVNU/IW7JDCbSGuCPXyvNnAae1CmY+uwatUq5iU687oKFSoI6PLwpUuXdg8WJtDrJFNg8uGHHw4bNuzVV1/FaZAJQCnoqD117tyZNwa28X3AccHUx7GlEiVKyKZI0txzzz1alaNmzZqZkRtuuMGsya7t3LmTn+unPnXqHfdSW3RNQaRq/J5NGnCQSR3py9kglw888ICOQ2bAEcL3bKZOncpxEB361EdiJyLwdQRYCGbDnaVIGzRokMrZyLzOmTPn+eef16o7p3+QpaUfJqEPpcKFCwt3Fh1YhYqwF7d5s5N85ZVX3n//ffU7GgIfopNhEmnN95pQ4ZhZiNGKKZZqhV4x2qGLWikFcR7IvC677DKHlInlNDCB1fLly/v37z9x4sQdO3bQAITX2cT36NGjfv36UKLJRnGLH//4x25BeDuWo5M/f34U89ixY57HdBigNYnf7b4u62qCiFcQRMIs/+///i+2pMT27LPP4rjYm4t/51v4bF6XwO/bt29vq80pwuvAf82aNQMHDlT7V41SRAj62EYE0hHgOEEouVvBggVr166tWm0XVKhQIUpn5WwUlPv27Ttz5sxgSEbSaw1ImnhrzAbz69Spkyy4iAcKsnfv3vHjxw8ePHjRokWB/xlJnCKZhFKkNd9rNi1jzGLr1q3S6ZLq69evT9mH8I3TPPTQQ2XKlLFwfq/b5PEPoxdQCt+nmTx5slKdQ+9kteN1UEILkAOa7BV3kYZFXNIva6fCq/GqcLZkyZJFihTBPFITlz74VPqug5BJjEtIYDZhrq3ZXnP69OloHDLnOt/5+j6bAWKu8dfWrVu3adPm8ssvB5qXYhhr164dOnToa6+9Jk+ecIgAEuXrCDCVIOGUPmZTs2ZNttSkSRP9oJezeffdd1988cVp06almI1TCTQqbgUliWp7xe7du9epU8d2DhR80HYLPqpR6Tkbg4kBGSOR1nzHqbRucRjLoTyNuEzsy8OSxkSqVKlitSbZ9/tpvuNznsWPwSfcXWok9X0afILXQQ/buPnmm1GBe++9F7cII7O3dZfVq1djnGZHvFOAlxuQrLZl2bhxo+SNhVa1HilBT7/Prc24IIKcyUYgal7N1bz+tm3bJH6HDBmydOlSb02ZZOEd/KJt1o+yYwi16oArVqx4+eWXx44dy5XgA0xtlIjAtyHAs7AZqzV3u/vuu1WxjaSUjZgxY4ZsRMK/Z8PRoMGPBCU5LTFWpLXBs1rRq/7bW/K4hQsXZurvs4m0hkecnrAMgvlqP/74Y7UG6xZO4yqWLgtkhQoV7CTUnmQg2BZ9kgVK6d+nCRsp6F1zzTX8rVGjRpdeeik/zAmIuLHEzJ/+9KeePXv+POvX2Gh/+9vfzpo169ChQ9dee22zZs1s+/Lly5ct01SqVKn77rtPerxatWqB2XgAJW28ioWk/rV/TrxpXrmmia5YsaJq1AMPPCCLGR6bhWA20lqTJk1CNx0GfWwjAschwDbEWEqdC7N+n81jjz12xx13YDmUxDo9Z84ctjR37txUnYU+gQIoYQ1KmI2gVKvW3/7kCxzEXjkbu4hXX31VzgZilBkkf3uVSGv+hsIp/sdQjGQrRAZClWHUqFG9e/cWi7EZIZuUK1eOp9mRWuQcGp9YEXqOHj2K8Iky6d+nseTzsW7duincYH45is/nn38uO8111Z4wKh2tp5KqwatsYi666KLv+QBe0xW0rMKkI2pK2tWrV3dISTAbQQS7Qu+MTLiIqopQSD9Si9lwHEIpVdO3b18UcPPmzQmHKL7+tyHApwTVIPqFChWqW7du586dZXzz588fPiVnY9/Sr18/mRu7l6BMWgscKHlrHUX2u+66q2vXrsIdlmOvJShBSSJZDnvJkiVCopGU2syQSGtOYx4ZirknqhuCrzweQW7QHSyHXrwWrB966KHy5csL1qdx6YwbGjBZuXIlz5HzhBIH85YWMGUa5Tklm5zmNO5YvHjxm2666c4777z99tu1Sk6yBfQ8WWFoypQpBw4c8FTmTvt9xDW9svaSSy6RGEdtJckZjGu6uGrUW2+9Zdm2PaJJuOC1MpotWrSwiVQBFGc5FPRsD1T9bSJRHJqEoxRf/6QIcLcLLrjAHsk2skmTJlgOX/MpO5nZs2crPXO6bGA2rphnBSBQUqeT07LdEnvt6LwNPWYzbdo0pfnFixfb9dEQpzJAIq05jUkMoVYUFn9tK4cNG2bZDp9nOldeeaVaLwcTsoMyyS2slv/9bwCdye/TpGN+7rnnqjRhmU9k/XTv3v3JJ5+UJyhbtqxTy5Ytmzp1qjJitjgzAyAuhcrI2dx///1uhFEpaXskeszmtddeQ/Jsj+SQKJMsUKpcubJaLQlEExo8S25v5MiRgPr677MxIEpE4DgEOB1mIw9hpyT7m0q+YjOyNYMHD37jjTf27Nlz3KeSdgglzEY1SlCS35KzgYCg9Omnn8qjjxgxYuHChYKSYfQZIJHWnMYkWguNxmm4CpK7evVqh4xDjEZlWrZsybXkaRxSOpVY8frr16/nLcgf3iA1Agp5GnUf2Sxlmpz7Po0bpUTCDMOwQZGDxTNEPW2zZs1uu+22fPnyeUixT7ZGJ/WR79BJxQId4goMIHxZT3ocr/IYlF9++aVqlAVbqN2yZQtNwgVK+KW0FsfhPgElOZs1a9ZwrunTp2/I+rtRGYlSfKnsQoDBuJQ8DTcXfuvXr6/Po4l1+u2337aRmDt37nHMxlmfSoKEiOR9dQoWLCgA8rgbbrhBzY6SQGbChAkKUh988EEI1AEWp0InL7aR1pxk1tJn9+jRo9LjVqbevXsrQvmk0CynV65cOas1wWkoCRvSJkeglC723H369AmcBgjQAJTURbdu3c5A7ckdgwh5uJSShyXTM5gpejsVlSn1Zn3pgf379wt/zjrMFgmX8r4lS5ZEpLxyzZo1gxJEtkeTJk1S+F+xYoW7Z8sd8+5FTI26bZs2bdJ9B/9bt24diMaPH79161ag5d0XjE+e0whwNM5FeLQ8hDpLqEa5L8tRW5k5c+azzz6rGqVPSeiN10mOhPfVYjb2eF26dMFsUolk262xY8faS6R+B3GASBskzwEVac1JpowpmFqDRFtrkto/EXbDmuSsHSdfat68uQyEddTIBAocSHhxxZ2BAwdOmTJFniZonKpTp07Hjh15lMWeMkCqc+bFrU0TcWsxUbHMVIZDmmwR7+s62tT3bJT/aYgbKa9gxiDCbGiySfLqZTCbSpUqcR/kpkyZMl4DRHxNKlScDd+zMUH0USICJ0CAu1mz5Wwk/zCbwoULh8GHDx9WYRk6dOjrr78uO0tppFYc0CZKvLJ3L1as2J133imRLCiFnR79rl274AOl999/H2KGQUYbRD9vSaQ1J5kveTlTe+zYMSnxl19+ediwYVIRgefSV65cuW3btq1bt9YRoGUFTnK5TD8tkwklKc3t27d7VxAVKFBA5RtKTZs2tW7R8CKnckgwlRNf2QOYvjBTJvfIkSM0PqU98Qe/w1nXROPuvfde6XE5GxbiIl4fOFIRbGnp0qVxzQZ+lSpVWrRoEfwIRAS5wWxAhALKjAKNMkpE4AQIcDfMRs5GtLn77rslZQ1mOdKxs2bNYktvvvmmmgtlkgVKmE3jxo07dOgAK+V4aEBp27ZtEslQkrOxr6DMuxJpzUnmzhJoyteuXcsxXnjhhY0bN4rCYq5WycnOwC6zRIkSJ7lKXjx9ms8MJYTPDhutkdXkPC6g4iObJcqo6V500UWWcPogzp4xccf0e/Hk8DUp+xJL5t69e531/NpsF4RYzkbpTbLquuuuYzZugd/s3LkT+Rs8ePCaNWtoEi5gueKKK1T9H8r6V4TQABEv+/DDD1nUtGnTbCoYD32UiMAJEODpYo56d/v27evVqxdyNlwbs5kzZ86AAQO0gdkY6TpOaRMiqVfWUbN74IEH2rVrd+211wqGcCCCkmrUqFGjFi9enKeZTaQ132zS5tgJLRFSrUC///3vdRzSC7ilS5fGdh9++GEZCNRHXKZPrIAFp+nXr9+4ceNwGvgo7siIVK1a9ac//Wn4Hh9waLRBfCR0srflsZhE/vz55VcvuOACbXDacBdnCxUqhGfgWOecc87Ro0ffeecdVSFnc+h5GIabspZGjRphNkraNJ5QlkiRDlzPP//8ypUrweUZkiymqVy5cjYJfKpChQoAoTFHaF/fvn1FWwQ0MpskW8gJ3p3zBjGGu4WcjTqLnIQgQEn27ds3d+7c3r17Yzb2MzQ+YrBWPyHiZb1yeFnI2G6Jz7LpAmZQ7t27V3500KBB8+fPDygJ5uFUHmrPKK3JQ7iYfk9r+ZGeGT16tAyExY9B0JPLL7/czvLBBx+UsBF8jUyyAERF9sUXX5wyZUrgNNCwINkzWaVkg8GVchunggAzdLK9RR169OjRq1evZ555RvXHGpl+L6kaqdd///d/xyf++Mc/in3ySdn+DKkLIjH6HgCzEURQYbDQELhhNhMnTuzfv//y5ctpEi4yNIq5EjbMBlxIDIiCD44cOTIwmwCRU6ET24gABPhXEH2iL+DceOONyppq31gOQ6KUs1FhkXSfOnVq6hvE9D5igDbjJbys1/S++nZ39pzWslq1atmcB+WuXbtE8mHDhimRYzYhgvlIHpJIa75hssyuudSiMjjNiBEjlPmNYwekUqVKFstHHnlExxj6pEn6W+PyixYtGpr11wq3bNlivQHRxRdfXLt2bdtutadLL700JGl8iuQ0Vu7ujnfccQcCYZrq1KkjKU2Zui++pd6BbMmdGNOkSRO0xoOZ8dSYnOh4Bks1QKTHa9asaQl3F/fFbCzYAFy2bBlNwsUsXHXVVVYjwr9wGrjJh69YsSIwG9sMoAWLSjhW8fVPgACzkY3g/gJ1w4YNixUrJlIZj8289dZb9mDaUI2iJMZrmRbRObtyxu7urYsWLSqRHEIlLgglCOzYsWPy5Mk281ggZpP+PM6SdE0u7Eda882TYubWrVs3YcIE1F6B3/QbJ+ZKz9hKchUdh4bRh1YnaeLFP/jgA7RP3nLr1q1enwYsiIXF+7777itVqhTlGRbPYL6033ZfZ51KDQid0NLnkIR4of4Flk6dOlm8U8xGikuVc8iQIWvXrs2hu+ehy7IfvBPjlLZRlgpPDr1VCfdwPwAAEABJREFUq1YNHjxYcmvTpk1BGduIwIkRUHG2hWBL9jkFCxYMPv7FF1+oQw0cOFBNavfu3ZTkxNfJvLOpGKiD80kkt2vXTn4rbBgod+7cKarbSyxevPg4ZpP70Yi05vg5YuJ2h0KnlaZPnz7r168XUinNdMWKFR999FGcJhVtKcOp46+Socdelng5mNhJr1y50mKM/GH38jQSIdakGjVqdO3atUGDBoHTGE985MxImJFTuZeRYZhOkHCYEy0EIEPcSBBp1qxZ9+7dr7/+ehq3c3b79u0iiKoZmsj8KBMocAhvrbArhda2bVsJv/LlywelVqrGaiS5xT3ZG01KUp9NaWInDYEEdVlCEL5GihQpouxrIyFRKnELCGcPHTo0e/ZsZei33357//79htGnxACSOszUjncML64VlO66664uXbqoRsnZOEU+/fRTsX3IkCHvvvsuxOAg7GuJs9pcK5HWfMPUbNu2TeiUghNGw2kTj8q0atVKblwnKEPrVOgkofWyhE1rVV4HDRqkSLd58+awEjP622+/XaVWQuKyyy4z5qxgcrbue4ovaz9k46gKJqEl4KaYzWefffbmm29athVcTvFSGTYsfeKkshShwr80LFOmDJP76quvmJlyMMe05VC8c5hCIP2zKWXsJBABlhAkvLt+4cKF5SGEbhVn+Zugl4GYN2+eTPNf/vKXA1l/GI7e4NCGjn4GS/o76pcoUUL0xmxq167N+2iInM20adN43Pvvv//5558LVjwRJk5pc61EWvP/psaEyUBs2LDBUj18+HCpiHDOFCoZSNIQCZugDK1ToZOoFlCsfNiwYa+++qoCChBoeII8TYsWLe69996Qp8Fy6CFjgDbJEhCABtEnIGrcuHFI/J533nnAcUohb9y4cUOHDkUZj8tGGJC7JOefRgytUqWK1YhUrlw53JBRSWiJs5iNnM1XX30V9LGNCHwdAT5F6LGZ8D0b1RaZCRp6GYhZs2ZhNjNmzNCnJHxTm0Dx4piNHantVt26dfPly8fXiAg/ZcoUHrdgwYLAbIzM5fhEWvN/JsgWULh84YUXhM5wwhSiMq1atVJ+Oi5PEwYkrRUO7JgtvYHTsHsIyFteeeWVqTwNpfUmLsyQ+TaxZpcsWVKQBdrVV199/vnnGyn9oBqlpD148OB169bRJFyglPqeTaoaxbq4J4jsI+VTgZZwlOLrnwAB8SoIZlOzZk1rtvq4fviICpRsjTrLO++8k2I24VQCW4udRHJgNtWrV5dXBgKlRLLyhd3+kiVL8gRKSac1LN4CHOSjjz4aOXIkTqOqIp6aUW2FChV4Qps2bWTCaRIrFg9YkVWrVimU4O+7d+8OaECJDzz55JOq15IQlDxB8ubcc8/VD0ITJBx+Y5stynCX0GbLBbPxIulPpQ83cDVs2LB79+7VqlVzSCCM2Shp9+rVS74QNaQJko1PkocuxYowG+TPvqJs2bIh1GI2uPWAAQMABa489DrxUc8kAsHLuBXRV42Ss+ncubOV206MW1Hu3bs3/N2ouXPnWgjO5OPlwnsBBLNRIu/Ro4fKne0WlMiuXbvsYy2OixYtkrPJhU+e/khJpzWwEDfJtm3bcBoJyfXr1ytFiZsm2AaxQ4cOTZs2TcVT45MpaApMsPUXX3wRc8f8EB1QgE4tVnnO8iyHyQFiaADLiQVKBjCwc84557LLLhNEUGcwUhLmt2XLlsmTJw8aNAizMZjQJ1asSTYVzZo1Q264JNwCFFI1fNYmMlajAiCxPTECLOeCCy6Qs2nbtu0DDzxQoEABMY0PHjhwQLbGmj19+vSjR4+e+CKZfVaogVLRokXr16/fJesbxCI/B6TH/9544w1Z0sWLF+dyZpPZtOaULNDy/OGHH44aNQqnsYqYQrZuaitVqsT6W7Zsqa7v8JSulbmDmPXSpUvD92nsj0HkXVl8rVq12rVrh/lJPEBJdkHrVJRTRIC9gU6iCzW0PQrogRfI6KMgAnZEJ+hP8ZqZN8zao8oZ/JFjBjQQaNUoVX/MRqqViWbei8c3yl4EWA5mI2pJ/jVq1Mj6HULWvn37Xn/9dXu2t956C8vJ3pvmuatBqVixYo0bN7bdqlu3LsS8Av/69NNP5ektlAsXLszNzCahtMYMEYsHm16zZs2MGTPCztgaE8SmsFWrVsKobSKNaTaviRVYqT1ZPyy0W7duhRvBaa655pqQ0ZWnCeBI3igTGB8OY/uNCBxnTg5LliwpiHTq1MlWErA+BUNQY9tDhw6VjaBJsoAIsylXrhwO/eCDD+rwSkZIWCbyN23a3/5uFKKTZJTiu58UAQbDlgoVKlSjRg2Z+Hr16oWcDXc7dOiQapSFYP78+ccxG2dPeuW8POD/PTtwHHhfnSJFitivYjbXX3/9eeedR0n27NmD2VgIli1blmuZTUJpTdj+4jQ2ebL9ffr02bBhg+kkprNKlSq4PKlQoYJFmjJpwnzTRTZr4MCBEv4W2gAF+lK9evUnnnhCrjLFaUAXzuqkS1DG9jgEAsJBCS45G2AKtYJIUBqwY8eOiRMnPvPMM6m/riAuh7MJbFEZ5WDMxn7j8ssvD74p27p27VouLGeD/6UzmyRjlUDzOJVXZkLcirtZs5V9H3/8cdWoggULhs+GnA1bmjVr1hdffBGUYXzoJ6SFjzfVQqZhw4Zdu3a96aab8D9KPiWRzNeGDBmyYsWK3MlsEkprQkA0PWPGjFFYWb16tQkjLFh6RuGJ2BGaV8oEihcn4cXl+QcMGPBq1r/lFhQotTfffLOIcM8990gz0MAt1eqkPqsf5dsQgBJJndVneyDFpwVcehrt5s2bp06dqvD//vvvwxn4lIkVOZuKFSu2bt26TZs2mE3AwS7FtkRma+zYsZs2bRJ5gz7hWAUQzk6bi+8a3EprzbZao8hNmjQpXLgw5/LU2MzcuXNVo9Sk9GmM1IazOskRr+zdVaPktCSSlchDIpkP7ty5U1CCkpzN4cOHcxsmiaM1MjRhDtSeVFVwGqkIsyUCmkJl+4ezfnQchpFJbnEalVTk75NPPgGRBQNWFl20T2VangZKwfqTjFJ2vTswL7vssvA9G+V/iV+Ag1eSbPz48UotS5cuza575d3rsMPKlStbjTAbidXwIvza3hGzee211xBBh0EPvdCJbUTgOAS4mwxEnTp1bCTuvvvuokWLhgFyNm+++SZ30+7fvz8oE9tC6eKLL1Yih1LdunUhxrnEpW3btk2YMGHIkCELFy7MbcwmcbQm5GlwGmRz6NChCvPs1TyJleH7NI888ohENyUxo9pkivUA4XvppZeQP5wGCEwZp7GiPPbYY82aNZOnMYY+ySh5/e8pX0dPNUoQUdIGtWKf68PZFIQgkqpG0SdK0l+Wt8rZdO7c+aGHHkpVitkndxZnubbi8tGjR9MLUukfj/2IQECA91mna9asaTPboEGDVM7GOj1z5kyV93nz5gVmY2T4CGcMnYxvwyt7Xx3I2G6p/1avXj28uJyNErmNhAXCditXVaOSQmvMjckI7caNGydOnDho0CDkhtKciZJ2yeYMIZXZpqFPpoSVQFZfnkaNOdSeLBjQsMTy/yeffJL/29lAidCn5LjDlD52TooAywxiJBhZo2rUT3/6U4mxQMQx7y1btsjZqEZZvHNVEPHMZ1747KWXXiphQ2xIwgNAae3atc8995ycjd0kJVS1USIC6QiwiiCU3E016rbbbuvYseO9996b+lc/2Mzs2bPFwPnz53/55ZdGEp8yXichknpfb43ZyGl169YNVhLJfM3ZQ4cOTZ48WWZrwYIF+rkElmTRGqu1bdzo0aPlaVLfpzETqEyHDh1atWolPiKhNIkV3AWzef/99+VpJk2a9Omnn1pWLSH06tBoH8u26NLkfYhy0RuIGkHCM+kDGX20ZoPdIWb517/+NTAbm0iLdxiZ5JYRKhZzWwUpORuH0ADUunXrVE7Hjh378ccfgw5uQrBTUSICAQFWESR1iM0o+7Zu3VpOolChQvTM5sCBA+++++6LL744ffr0ZH7PBkqgINDQV42qV6+etVI1SuY+6K0R06ZNk7bJPTmbRNAaUxJCHk4zcuTI4cOHK8MLf2bFVImMMpBEWpsG9dEmVrz+smXLhg0bNm7cOKsC6OxU8ufPf+ONNyrPKY6UKFEigJlYiM7Mi7PMSy65pFGjRpiN8j9y6b6mA7ORQsPLUU+HlEkWpnjllVeCqEWLFmp2DqEBFqW6wGw2b97MpAN6TkWJCHwjAtwNs7n55pvt3Bo2bGj9Nowh7cv6fTb2eDNmzMByKJMsUCpevLhVQIn8lltukbMBkZV0+/btU6ZMwWwW5o7fZ5MIWhMM0QZX7en555/HaUL4E+ykZ+z2LNilS5c2zK6O0uQRh6ctefwDbBQ4aJ9ixyeffOJt4GDvYsF47LHHZGjZNHzoo+QQAgBPXVlfnUU1Sqi97rrrAvKUpiYwm/SMY+pTieoIqQDhxbYlTZs2LVeunNdnxgSzUbBTjdq6dStllIjASREQ6+zfZCPuuOMOfeMZmNrKrFmzpEjnzZsXmA2Tc4owM20SJLyy99UpUqRICEryW7ig16fHbORHx4wZY7sFMcqzKJlPayCOrMhLA71v3742uyYGrZFDEwTbZf0oQlkzjNSexck487f2yinhwFYC3qtIZ+G0x4USrOyGe/ToofZUqlSppOFz5mck3DE1KUqijNP2sUuXLqpRZsQ0OWuCLNj9+vVbuXKlw9SnQichrRcHiJfVSrVajZAbxTuuTQkoXq+CwJ43bdokCFBGiQgchwArCiLWEWs2ZtOxY0fVqIJZv8/GWTkb2RrLB34TqlEuQm+8TkIk9b7eGkpWhM6dO1erVg2zcYp89tlnEjZDhgz54IMPDp/4X33nMGSZT2vMwbZt2yZMmCBvv2HDBugTa3aZMmUkaZo3b27ZCKu1kTmMdq67vFcm4bHC33uS0FIrhY9VwakaNWrI0zRo0KBYsWIOw8jY5jQCoA7iRjps9a677rJmq0ZZwinZsBIhq+7fv7+SNg0xUpscSX/fc889V2arWbNmFiQd+MCBDUtovfzyy5gNuGhIOKUTJSIAAVYURJ/oFy5cGLORxW/SpEmK2Xz++efz58/HkhP7+2wgAx/Cg/TV6awL3bp1q127dthI0O/du3fatGmW2mXLlqX4n4+cYclkWgNlcW39+vXyNIqjAhxNwNferm3bttYJ5ZWwTgR9MluwLF68WO1JClH0BxopUKAAe23Tps0DDzxgB6yMmkxwzuJbix3h7jrItyIgozUpqSBisuRsBBGJX5MYBie2zZcv39VXX82pGa0UY/BrlmzvOHLkSLa9efNmh4nFJ7NfPFvejhMRl1KBsoVgS6otdnQ09NZsOZvBgwcn/PfZCEcA0WI2jRs3htLNN9+cP39+Sv6lGjVu3Lhhw4YtXLjwbDGbTKY1UFZywmkGDRq0atUqhyHSWSEwcZNRunTpoGGyzryUamMAABAASURBVCZTvHv4Po24L60VQLBwQql169b2K8Grgz62ZwUBwUIQQS4lfh999NGrrrrKBHkSc7dz506pCKw9WHhQ0uskULgzu1WNYrqVKlWCAA30MBurkUzkxo0bZSITiw9AopwYAbYRBLOpWbNmu3bt6tevn8rZHDp0aPbs2Sr18+bN279/v0txTG3SJEDk3SGD2cjoy28petA4JSiNGDHCXsJ266xUozKQ1oCVkWk/+ugj4Pbp0yf8fhpKMe6KK67o1KmT8lP58uVNAyUxGdoEyldffYXTWBRt+j/J+o4wEOTzr7/++p49e+I0llKaKGcXAXbrAVipNbtRo0YSv9WrV3dIaQZtjyzYCv8ffvihJZwyycJ6bVfsWzAbxbtzzjkHemCRrO3Xrx87FxYEh1OAKA5JHAJ8irUE0VeNqlWrFpYsEspeg4PlyNnMmTOHLWE2R44cYVqUTiVKgEO8srZIkSKqUY8//njdunVTKB08eNB2S0JhyZIl6ndGnknJNFrzP1k/Yr1tmZo6kahPmZ1VAftu3rw5TsN2zyTQufBeYFm+fDnLk9BKocRMwx5FyaNEiRLnnHOOYbnw4ZP2SGaBmJ1SpUrdddddzFiSnA1TgsL0jR8/vn///kraDhMumE2FChUeeughm0i83MIDEO26devsIFn7pk2bvvz7L1hzKkpE4BsR4G5yNvIQyppq8fqG8Th5GsxmwIABqlEJNyRoiELFixe/44475AtgFb6uQL9nz55p06bZM595ZpM5tEbYQmmgSXCaV199VaomlZlnjpUrV5aksY2TnTYTBlMmVjA/GcLhw4ePGzdO7YkDwy1fvnw4Tdu2be+//37rQeA0TiUWpWx+8e93uTARTPfSSy81QYy5du3aDk0ckWxj80OHDl26dOmZ3x59vzfL/k+Dhb9L2FiQUBw3oBEiVKMCs4nfs4FJlJMiwLPUWTgad7vnnnsuvvhiH6HEbGbMmPHiiy9qw7/6pk+scC57YPjYbsnZXHjhhaDgbp9++umkSZMkFxYtWnQmg1Lm0BrIKiqRtWvXvvXWW8OGDZOTBy6hFNrEuEcffTTkaXAaSqcSJbwxvK+OnPyQIUPGjBmzY8cO9keD00BJLtGSWbJkSSOto1DV6kc5uwiYoPAApoPpmiBBRHq8atWqYXvkrCDyyiuvmFbJG4dJFnAx3YoVK9pB2smUK1cucHR6GUo7yDfeeGP9+vUJ32on2UJO690xG3kI7la/fv2Qs/Fx6/TMmTOff/75+fPnYzlMi9AnSoQj7+vFdQoXLty4ceP27dtff/31ISjR7969W4lcitSOAmIGnwHJHFoDLGRF4Xzy5Ml9+vQRs2BKKbqVLVsWoSGK7g4pLQzaDJDTegWWh8EI5bLx9hmvvfba1q1bjx49ChOnqlWr1r17dwUOS+ZpXTYOPgMImKDUXfQt0nI29erV69mzpyDiVLB2JFU1qlevXsg9ZWIFRN6dYUs6Ppz1w/cVpyiPHTsGnL59+wIK/xM0KAnX0EaJCHwdAeYUmA2W3LRpU31jeNzBgwdxmueee04rrhoW9KlWJwkSXlyL2TRs2LBr1641atRI/dso2y20ZvDgwapR4d9GgS5HYckQWhNik2JK2K3K0yiyBOBwGvnD5mm/nybok9myPKzZDkOeZvv27Q7hwMhClvXee++1DOB81gP6KLkZAXNUpkwZzAZfr1Onzo9//GPzaM3esmXL9OnT+/XrF79nY/oYs6KzTK3SKmYDIkoMZsOGDaNGjRJtbYRoCDy1USIC6QiECEmjo7aiRq+smfqeDZvZu3fve++9Z5f4+uuvHz58mIEZGcZrEyXh3YsVKyYoyfrXqlUr5Gy4G2YzderU4cOHC0qB/4UlO4fw+TqtyaEb5exlbV5XrVoFNaK8krqZiGarhtZUqVKFCab0yexY85YuXQqi8H0aIDA4lsf+oIT5WSaDTzoVJfcjwKRN2X333YfZCLjnn3++ZxZcJOFGjx4t1C5cuFAQoUyssHAoVa5c2WqkGnXFFVcEKMCC3wdmI3kTlKm9UDiMbUQghQC3IgWyfpsXd1MCLl68uLWZct++fW+++abK5l/+8hfVqNRHktmxglx88cWCUrt27Y77fTYKKUOHDsUC8T/7jZzDJ8/TGmELOnLvixYtGjly5IoVK0QxyGrLly8vkFmw7dIcGpZwUeaUeH/11Vcte7wRdDhNxYoV0T55GrZIAyKntFFyFQJM+hufh75UqVJ33323SaxatWpgNvirVNyErB+T/o0fTIgSPqya+7Pzjh074u6iQXh3+pUrVw4ZMmTevHmfZP12g1ClCmdjGxGAAPshOkRHbMRsbrjhhg4dOtxxxx0XXHABPXc7cODA7NmzbSQ2b95sDGVodZIj8PGyXlxHNQqzwf+qVavG++i5Gy9TJZg0adKmTZscUuaQ5HlaY9cFGqz5yJEjoW7nUEJeMSXszypUqHBO/FfKP/gBa/v8888Vg2HFD6HE+K699toePXrUr1/f0kjD/gzTiZLLETBNJDykebzkkktuu+02QeSqq64KSq0t0aFDh1JOQZNMgY8XZ9uhHo3/2fA4BKD0zNGjRwGlb0xodaJEBNIRSBkGs2FOBQsWrFGjBkOSswkbCQOEVsKWwpJkWPoVEtKHQ3hxLWbTqFGj7t27wyqgBATgQInTRVoDjW8V+QZQXnjhhRi0rRgSA69LL73UzkyqxhaNIX7rh5N0gp2pesrKNG7c+KKLLsL8brjhhvbt2+PU5cqVS6UEDUsSKnn1XU0TST29NAPLv+uuuzp16nTTTTc5ZYpNtOmWhEsNS2YHGuHFhQLF6NatW1uQ2LxD/EaUqF69epEiRcKYs9nGe+dWBFImFB7QYaFCherUqWMjEb5nI34q5QunqLNddBiWwBYy4a0tyvqCjz0zZqMaJUahg/LKVhzBCmJhZE60eT5bAzu5B7RGsku9qVmzZg0aNBCqWrRocfXVV8POhiwngMuL14RSvXr1rHxNmjRhbYK7DgoIpbz4OvGZ0xEQNSzV999/v2nFb5o2bSrI3nnnnXLm6cMS3kdlJLTkcS1ItpI2Qi1btsTv8+XLBxnBRBslInBSBJiKbIQUKXezf+B37dq1a9iwobR3DKcp9KBUvHhx4HA3rbikU7duXaQwNSYnOnme1gCFGYEPR65UqVLLli1/8YtfCOhYs1PEWS3BH4lOkgUCNWvW/NnPftazZ092htNAgzIlDoGpjZK3EDCD1uySJUtarZ966qmf/OQnNWvW9Ar02sRKyphDRwUWSpK4jz322E9/+lOZm8qVK8v40icWovjip4IA+yHpIx3aMwinnTt35nHSNqmcX8KdDkrA0cJBB/+TNrbo2FHXrl3b7tqpHJVMoDUAAp9WwLruuutuvfVWOS5FFhp6sKYLZQIFDkFAgf9deeWViHOZMmUo1ewSCEiGvbJ5NLOEC8jZ2A+ZYqu116R0luhHCZscmJQuXVrCsmrVqiFQBH3EJyJwiggEh2JIKvtyNgpSyr68L3ycPnSS3IIo4KAtWrQoiCw6KI5Dp3IUmQyhNZACE6sKoh80oXWYcIFDSgJE6e3pgBPH5kYETG54LB2ipKImZYr16bVEJ0pEICKQLQhEhzopjCeA6ASnTnrZUxmQIbTGq0LqOKGMcioIpON2KuPjmLyCgJnNK48anzMiEBGICGQLArmA1mTLe2RdRBBPSZYiNhGBiEBEICIQEYgIJAiBjKI1CZq3+KoRgYhARCAikBwE4pueMgKR1pwyVHFgRCAiEBGICEQEIgK5G4FIa3L3/MSniwhEBCICOYNAvGpEICMRiLQmI6c1vlREICIQEYgIRASSiECkNTk766nfcfx51s/Bgwdp/ud//if+pZ6cxT1e/ewg8H/u+te//vXQoUNs/jhh/EGj8+WXXx49epRTGPx/PhwPIgIRgdNEgB/9b9YPbyLWHI62b9++HTt2fPLJJw6Dx1mAjDLgNC+fZ4ZHWpOzU3Xuuee6AcMaMWLEf2T9/PrXv/7jH/+4ceNG+igRgUxFQNDcvn37hAkT/vNrP08//TRX4AXPPvvssGHD5s6de+DAATj4iJaEjpY4jBIRiAicGAGeQiw34bdVHT58eNmyZa+++ipf+8UvfvHzn//8X//1X5966il+N2bMmFWrVmE2P/zhD098zbx7NtKaHJw7dubq9qPLly8fNGhQnz59Bg4c2LdvX+2CBQsQZ2ejnASBeDpvImA7uHnz5tdee+3Pf/4zmz+BcI2XX375vffeCx7Ba0jefOn41BGBs4PAD3/4N47CcaRk1q9fP3bs2D/96U+9evXq169f//79bR5eeumlAQMG9O7dmz/qTJs2Tf5GdufsPG4O3zXSmpwFmJ19/PHH77zzzpYtW+RsyP79+/fu3bt06VJ6jCdnbx+vHhE4ewjYOAqy0uAMPl1UpnjBzp07BVaOIAT/4Q9/GDJkyIoVK8TZH/7whz7oqXWITpSIQETgpAhIwFhu1JtGjhz5zDPPjB49evXq1bYKnIhDEbkcbmhHPXz4cAPeeOMNbnjSy+bFAUmkNWd4nljSokWLhHLmxfLcnTEtWbJEEGdnDqNEBDIPgWPHjqW/FOMvUqRI+fLlS//9p0SJEuedd56kjpHbtm2bPn36rFmzPvvss+Aj6Z+N/YhAROCkCJxzzjn2CZMnTx41apQy05EjR44ePUrJ4apVq3bTTTddcskl559/vutYgJAbOZspU6bgPTQZJpHW5PiEbty48YMPPlDsFNnDzXDqNWvWLF682F42aGIbEchsBAoUKPDggw/+53/+5++zfmwW//u///vf/u3fbr/99osuukjwxf7nzJnDWfQzG4r4dhGBnEDAfmDhwoWSNOvWrZP1lJ4pW7Zsx44dedlvfvObX/3qV08//XSHDh0qV65sO43NSJTOnDlz7dq1BnseGwwLk05K8m4n0prsn7uUceAxkjTr16/funUrSxLZCxcunC9fPga0a9cuEXznzp3Zf/t4xYhALkAg5QXhWZCVunXrNm/evE2bNi1atNBp27Ztu3btHn30UbtJEfnAgQMrV67cvXs3rwkfiW1EICJwigjwoE8//fTdrB/9H/3oR1WqVOFrPXv25GL33XffPffc47Br1646F198scvK5agYzJ8/35bboVXpOJ+lzKMSaU32T1zKONiNlMyyZcvkAynLlStXvXr1MmXKyAQ63L59uywO1qxPsv854hUjArkGARYu2qY/DvqiLHXNNdeUKlUq6PkLTwn92GYiAvGdcgoBvmM1sTEIXqa8e8sttyA0lSpV+vGPf0xpgPwNrnPnnXdahhSk8ufPTy9LqvVYPFSbGRJpTTbPYzCO0OK/7Gz58uXuoS+CY8pVq1a94IILaKRwFi1aZJMqvjuMEhHIYATYPwYvtup8mfW7agRT28QNGzbIaHpxMRfvD/tIh1EiAhGBU0TAcsOblJNUBvRlRmVALTSXX35ZkPlXAAAKHElEQVS5xSVoEB1XcwqnkSjFeCRvrEc2FWE9MtKAzJBIa7J5HoNxhPbgwYNMbdu2bUK5DA2mXK9evVq1aqHPTO2TTz5ZsmQJWpPNTxAvFxHIfQgIuzLeE//+M2XKlFGjRg0YMOCFF15YtWoVf7nssssaNGggHJ/es8fREYGIwA9+8NVXXylC7dixgyuhKdYamwSlqHRsnHJYtGhRCZtHHnmkS5cu+E39+vVxHeuRfYWzmSGR1mT/PAb7YGcff/zxxo0bERf2ZBtaoUKFalk/JUqUoJFvd3bNmjVGOsz+54hXjAjkGgQY+dtvv92nT59evXr17dtXR9uvX7+33npr165d5cuXf/DBB5s0aaKTax45PkhEIG8gYPnAYPbs2aOipH/s2LFiWT/4isMg4U2sTeeee27x4sWvvvpqaZurrrrq0ksv9dlw1sjQyettpDU5NYNsa/HixYiLG0jVXHnllSyN3TApG1O2RY/ZqFJJ2+jjy9ooZx2B+AA5gYCE5aZNm+bMmTN79uxZs2ZpecdHH33kXqIqxi+RqZXIpIkSEYgInDoC1g7ZUBVeHWJxufDCC/Pnz6//9YtYg4IynE1vgz4D2khrsnkSg5W4KLIyd+7cPXv26BcpUuTGG2+0E2VS+jfccEPJkiWNdHbRokVGGuOUNkpEIIMRwFqC2Ed6Tf18+fKJyAsWLFCTWr58+ZdffkkfJSIQETgtBGRDZWLCR9AaG2mS0gR9aK07OhxNJ4hDYgEiOhkgkdZk/yTamDKy7du3r127Vr3zBz/4AQurUaOGYqebXXLJJXXq1KlYsaL+oUOHli5daherHyUikMEICLUNGjT4RdbPP2f9/OxnP+vRoweKX7Bgwf3790+dOnXAgAGrVq0CgmirjRIRiAicIgIYiXUnDEZZgtgwBE2qpac00o4C6Qmf4m46qTEZ0Im0JvsnkYmocQrQW7duDVdnTCtWrBg9evTw4cPHjh27cOHCA3//237GrF+/3vgwMrYRgcxDgEcUKFAArcFj0uWJJ57o2rVr1apV1aH27ds3ZcqUOXPmfP7558ZnHgjxjSICOYeA9KftQfjnTtzH+nLw4EHK9DsG+sLX7CLC9z63bNmye/fuY8eO+Uj6yLPUz7bbRlqTbVCmX4i5vPfee3hxUOIuf/jDH36e9WOT+txzzy1btiycQpwxHqWocBjbiEBGIiDC2iAiN8WKFStatKi2VKlSZcuWvffee2+77baLLrpIzEVo1KEE3JTjZCQU8aUiAtmOgGwoJypSpAg/Onr0qCrBZ599pmiQfiPchRvu2bNHiWDMmDHDhg175ZVXZs6cGYY5mz44T/cjrcnm6QvGoa6EqcjBOJTrcw995IapidpsDpuhJCK4UK5cpeMwSkQgIxGwI1SKJd6OR7B2Gt4hCl944YV2mZT6R44csdFMeYfBUSIC3x2BZHySH6E1V1xxha2CZAznsvosWbLk8OHDAOBNNDqEi3300Ufjx4/v379/3759Bw4cuGDBAmuTU5kkkdZk/2wiv9u3b9+wYYPaEzNyg5IlS5ZI+7FbpRHNmaDgjuigNbaqRkaJCGQqArhL6tVkbgRih2pP4qysePAUiXQZHRTHqSgRgYjAKSIgDYPWXHXVVSiOBUhKBl9ZvHixPm+y0ITrWG4+/PDD2bNn23jv2rXLoQRPumOGYXm9jbQmm2dQdF65cuWqVatwGpcWoxs2bPj44493Tfvp2bNnly5d5N6DtSE0ilZoEBP0kSgRgQxDgFPYOM6fP/+NN96YNWvWm2+++dZbb02bNm3ChAkvvfTSvHnz0BqvnC9fvgoVKhQvXjz4BU0ulPhIEYFciABqUrFixerVq9swezxLiUrT4MGDJ0+ebD2yzbbErF69eurUqRMnTrSLtjxhQpUqVQrf2fcRwk+1GSCR1mTzJEr3yf6tWLECa2Y35cuXv++++/7hH/4h65+A/K35l3/5F//72c9+1rZtW2cNY0zbtm1buHChnauncaiNEhHIJATU+3Ga3/3ud7/+9a//v6yfp59++je/+U3v3r3XrFnjTdWn7DVJ4cKFHUaJCEQETh0B6wjHqVGjxq233nrRRRcpPKEydg7PPfecncPIkSMRmkGDBv3Xf/3X9OnT7TGkcOwfcBpMSOo03Chjlp5Ia8KEZlt76NChdevWydaI4y5arly5atWqMThROwhaTcLG9LrrrpN1Z0wbN26UM5QS9JEoCUMgY19X6BRew+sxcnlvCZt33nnn3Xff1Sr/L1++HJU/cuQI16hcuXK3bt2uv/76mKoJiMU2InBaCKjqXnPNNa1bt77xxhsvuOACHqcUJRU6cOBAbMYuQvKG0x08eJC7FS1atEnWD3KTugtulOrn6U6kNdk5fXgJgiLXJ1i7rmzNtddeK9GH4sgKErkcwuCcLVas2NVXXx2Y8t69e+V45GzoiQFEJ0pEIO8iwB1Ye3h+9ozicAHZb+5A9IVRXmC/2LJly+7du995550Ow/jYRgQiAqeFAG8qUqRIrVq1unbtityo53I6jnbgwIHPPvtM8mb37t28z45aksYWokOHDldeeeVp3SKvDI60JjtnShzPnz+/NOAjjzzy8MMPd+7cuV69enix9AwqTexEiVsaWapUqfr167Otjh07tm/fXq0KxXaKdQbR/44SPxYRONsIsGGWb0PIwjkCI0+XTp06Pf744126dBGCtYIsf7FxlOARi8nZfvx4/4hA3kMgOF2DBg2C0yE3FiPJGzuHm2666fbbb2/cuDHX43Fa5KZAgQI+kvfe82RPHGnNyRA6nfMoC/4rRsv7Pf/88//xH/9Rp06d1Ib1uCvJ08jl/OpXv3r22Wf//Oc///KXv8SvjxsTDyMCeRQBvqCuJID26tXrd7/73Z+yfpi6w969ezP4P/7xj7///e//6Z/+qV27diKsTWT6m2I2JF0T+xGBiMCpIGBrzaEsQ/+e9fPUU09Jhdo/WGt++9vfalu0aFG6dOlwqXRak94PZ/Noe6q0Jo++3hl+bHtNdxSgpWekXi7M+oUc4rsAHcRZwnrUp7TG4MtE5/zzz5fOcTZKRCBjEGDVzFtpiS8QfabOQYg+DTGGjxz3yryDHKeMhxGBiMCpIGDPXLBgQfsKSZp77rmnVatWzZs3v+WWW6pVq3bxxRdbnk7lInl3TKQ1Z2LuBOggqZs5TPVjJyKQeQhEC8+8OY1vdFIEctUAPihzkxLb5rDxzlUPmRMPE2lNTqAarxkRSDoCQup3g8AHyXf7bPxURCAikI4AHpOS5LhVpDXpNhD7EYGIQEQgVyEQHyYiEBE4PQQirTk9vOLoiEBEICIQEYgIRARyLQKR1uTaqYkPFhHIGQTiVSMCEYGIQOYiEGlN5s5tfLOIQEQgIhARiAgkDIFIaxI24TnzuvGqEYGIQEQgIhARyA0IRFqTG2YhPkNEICIQEYgIRAQiAtmAwP8PAAD//5NNK64AAAAGSURBVAMACTjw+EbIC18AAAAASUVORK5CYII=)\n"
      ],
      "metadata": {
        "id": "HF9V45nZ6O5T"
      }
    },
    {
      "cell_type": "code",
      "source": [
        "p = int(input(\"Digite a posição da porta (0 ou 1):\"))\n",
        "r = int(input(\"Digite a posição da porta (0 ou 1):\"))\n",
        "\n",
        "if p==0 and r==0:\n",
        "  print(\"C\")\n",
        "elif p==0 and r==1:\n",
        "    print(\"C\")\n",
        "elif p==1 and r==1:\n",
        "  print(\"A\")\n",
        "else:\n",
        "  print(\"B\")"
      ],
      "metadata": {
        "colab": {
          "base_uri": "https://localhost:8080/"
        },
        "id": "p256fo_f6YwR",
        "outputId": "86ecd5ce-e401-413b-8a5e-3c91bc8eecc1"
      },
      "execution_count": 17,
      "outputs": [
        {
          "output_type": "stream",
          "name": "stdout",
          "text": [
            "Digite a posição da porta (0 ou 1):2\n",
            "Digite a posição da porta (0 ou 1):6\n",
            "B\n"
          ]
        }
      ]
    },
    {
      "cell_type": "code",
      "source": [
        "def main():\n",
        "    # Entrada das posições das portinhas\n",
        "    P = int(input(\"Digite a posição da portinha P (0 ou 1): \"))\n",
        "    R = int(input(\"Digite a posição da portinha R (0 ou 1): \"))\n",
        "    Q = int(input(\"Digite a posição da portinha Q (0 ou 1): \"))\n",
        "\n",
        "    # Definindo o caminho inicial baseado em P\n",
        "    if P == 0:\n",
        "        caminho = \"B\"\n",
        "    else:\n",
        "        caminho = \"A\"\n",
        "\n",
        "    # Ajustando o trajeto no meio baseado em R e no caminho atual\n",
        "    if caminho == \"B\":\n",
        "        if R == 0:\n",
        "            caminho += \"C\"\n",
        "        else:\n",
        "            caminho += \"D\"\n",
        "    else:  # caminho é \"A\"\n",
        "        if R == 0:\n",
        "            caminho += \"C\"\n",
        "        else:\n",
        "            caminho += \"E\"\n",
        "\n",
        "    # Verificando a portinha Q para adicionar letra extra\n",
        "    if Q == 1:\n",
        "        caminho += \"D\"\n",
        "\n",
        "    # Imprimindo o caminho completo\n",
        "    print(f\"Caminho: {caminho}\")\n",
        "\n",
        "if __name__ == \"__main__\":\n",
        "    main()"
      ],
      "metadata": {
        "colab": {
          "base_uri": "https://localhost:8080/"
        },
        "id": "0SG-YAl06zZU",
        "outputId": "0aa62aa0-0a5c-405f-f158-e57eaf9e64a6"
      },
      "execution_count": 18,
      "outputs": [
        {
          "output_type": "stream",
          "name": "stdout",
          "text": [
            "Digite a posição da portinha P (0 ou 1): 2\n",
            "Digite a posição da portinha R (0 ou 1): 1\n",
            "Digite a posição da portinha Q (0 ou 1): 0\n",
            "Caminho: AE\n"
          ]
        }
      ]
    },
    {
      "cell_type": "markdown",
      "source": [
        "## Aula 6"
      ],
      "metadata": {
        "id": "WiPRe2cP67vd"
      }
    },
    {
      "cell_type": "markdown",
      "source": [
        "**Problema:** https://olimpiada.ic.unicamp.br/pratique/pj/2019/f1/idade/\n",
        "\n",
        "Dona Mônica é mãe de três filhos com idades diferentes. Este ano, a soma das idades de seus três filhos é igual à idade dela.\n",
        "\n",
        "Você deve escrever um programa que, dada a idade de Dona Mônica e as idades conhecidas de dois de seus filhos, determine a idade do terceiro filho e identifique quem é o mais velho.\n",
        "\n",
        "**Entrada**\n",
        "\n",
        "* Um número inteiro `idade_monica` representando a idade de Dona Mônica.\n",
        "* Um número inteiro `idade_filho1` representando a idade de um dos filhos.\n",
        "* Um número inteiro `idade_filho2` representando a idade de outro filho."
      ],
      "metadata": {
        "id": "7tyvjnK06-FW"
      }
    },
    {
      "cell_type": "code",
      "source": [
        "def calcula_idade_maior(idade_monica, idade_filho1, idade_filho2):\n",
        "  idade_filho3 = idade_monica - idade_filho1 - idade_filho2\n",
        "\n",
        "  idade_maxima = max(idade_filho1, idade_filho2, idade_filho3)\n",
        "\n",
        "  return idade_filho3, idade_maxima\n",
        "\n",
        "calcula_idade_maior(68, 12, 30)"
      ],
      "metadata": {
        "colab": {
          "base_uri": "https://localhost:8080/"
        },
        "id": "DCUdVOlR7DFj",
        "outputId": "77584f50-aca6-47f2-9dbb-3f7e8c3c4fec"
      },
      "execution_count": 19,
      "outputs": [
        {
          "output_type": "execute_result",
          "data": {
            "text/plain": [
              "(26, 30)"
            ]
          },
          "metadata": {},
          "execution_count": 19
        }
      ]
    },
    {
      "cell_type": "code",
      "source": [
        "def encontrar_maior_pagina(pag1, pag2, pag3, pag4, pag5):\n",
        "    return max(pag1, pag2, pag3, pag4, pag5)\n",
        "\n",
        "def main():\n",
        "    # Recebendo as 5 quantidades de páginas\n",
        "    pag1 = int(input(\"Digite a quantidade de páginas do livro 1: \"))\n",
        "    pag2 = int(input(\"Digite a quantidade de páginas do livro 2: \"))\n",
        "    pag3 = int(input(\"Digite a quantidade de páginas do livro 3: \"))\n",
        "    pag4 = int(input(\"Digite a quantidade de páginas do livro 4: \"))\n",
        "    pag5 = int(input(\"Digite a quantidade de páginas do livro 5: \"))\n",
        "\n",
        "    # Encontrando o maior\n",
        "    maior = encontrar_maior_pagina(pag1, pag2, pag3, pag4, pag5)\n",
        "\n",
        "    print(f\"O livro com a maior quantidade de páginas tem {maior} páginas.\")\n",
        "\n",
        "if __name__ == \"__main__\":\n",
        "    main()"
      ],
      "metadata": {
        "colab": {
          "base_uri": "https://localhost:8080/"
        },
        "id": "F5_XDiVA7rO4",
        "outputId": "189d8f6c-c31c-4a4c-9627-96f6910fcfe2"
      },
      "execution_count": null,
      "outputs": [
        {
          "name": "stdout",
          "output_type": "stream",
          "text": [
            "Digite a quantidade de páginas do livro 1: 1\n",
            "Digite a quantidade de páginas do livro 2: 5\n"
          ]
        }
      ]
    },
    {
      "cell_type": "code",
      "source": [
        "def encontrar_maior_pagina(pag1, pag2, pag3, pag4, pag5):\n",
        "    maior = pag1\n",
        "    if pag2 > maior:\n",
        "        maior = pag2\n",
        "    if pag3 > maior:\n",
        "        maior = pag3\n",
        "    if pag4 > maior:\n",
        "        maior = pag4\n",
        "    if pag5 > maior:\n",
        "        maior = pag5\n",
        "    return maior\n",
        "\n",
        "def main():\n",
        "    pag1 = int(input(\"Digite a quantidade de páginas do livro 1: \"))\n",
        "    pag2 = int(input(\"Digite a quantidade de páginas do livro 2: \"))\n",
        "    pag3 = int(input(\"Digite a quantidade de páginas do livro 3: \"))\n",
        "    pag4 = int(input(\"Digite a quantidade de páginas do livro 4: \"))\n",
        "    pag5 = int(input(\"Digite a quantidade de páginas do livro 5: \"))\n",
        "\n",
        "    maior = encontrar_maior_pagina(pag1, pag2, pag3, pag4, pag5)\n",
        "    print(f\"O livro com a maior quantidade de páginas tem {maior} páginas.\")\n",
        "\n",
        "if __name__ == \"__main__\":\n",
        "    main()"
      ],
      "metadata": {
        "id": "3qIrmhDp7yfK"
      },
      "execution_count": null,
      "outputs": []
    },
    {
      "cell_type": "code",
      "source": [
        "def encontrar_maior_pagina(paginas):\n",
        "    maior = paginas[0]\n",
        "    for pagina in paginas:\n",
        "        if pagina > maior:\n",
        "            maior = pagina\n",
        "    return maior\n",
        "\n",
        "def main():\n",
        "    paginas = []\n",
        "    for i in range(5):\n",
        "        pagina = int(input(f\"Digite a quantidade de páginas do livro {i+1}: \"))\n",
        "        paginas.append(pagina)\n",
        "\n",
        "    maior = encontrar_maior_pagina(paginas)\n",
        "    print(f\"O livro com a maior quantidade de páginas tem {maior} páginas.\")\n",
        "\n",
        "if __name__ == \"__main__\":\n",
        "    main()"
      ],
      "metadata": {
        "id": "aMDJl5yP743V"
      },
      "execution_count": null,
      "outputs": []
    },
    {
      "cell_type": "markdown",
      "source": [
        "Aula 8"
      ],
      "metadata": {
        "id": "plHFObGE79X1"
      }
    },
    {
      "cell_type": "markdown",
      "source": [
        "Nós resolvemos muitos problemas nessa unidade. Para resolver esse problema nós seguimos diversos caminhos, mas o essencial que precisamos considerar na hora de resolver problemas é:\n",
        "\n",
        "1. Ler o problema com calma e atenção e entender o que ele está pedindo de fato\n",
        "2. Identificar os dados fornecido\n",
        "3. Identificar o que precisa ser descoberto\n",
        "4. Planejar a solução (vou precisar de variáveis? funções? quais parametros, quais calculos são realizados, quais as entradas, quais as saídas)\n",
        "5. Resolver o problema\n",
        "6. Rasinformatica"
      ],
      "metadata": {
        "id": "uy4JGZu27_qU"
      }
    },
    {
      "cell_type": "markdown",
      "source": [
        "## Lógica:\n",
        "Definir o número secreto (ex: 42).\n",
        "\n",
        "Usar um loop for para permitir até 5 tentativas.\n",
        "\n",
        "A cada tentativa, pedir um palpite ao usuário.\n",
        "\n",
        "Comparar o palpite com o número secreto:\n",
        "\n",
        "Se for igual: parabenizar e encerrar o jogo.\n",
        "\n",
        "Se for maior: informar que o número secreto é menor.\n",
        "\n",
        "Se for menor: informar que o número secreto é maior.\n",
        "\n",
        "Se esgotarem as 5 tentativas sem acerto, informar a derrota e mostrar o número secreto."
      ],
      "metadata": {
        "id": "gFv5rjbQ8qjy"
      }
    },
    {
      "cell_type": "code",
      "source": [
        "import random\n",
        "\n",
        "def main():\n",
        "    numero_secreto = random.randint(1, 100)  # Número aleatório entre 1 e 100\n",
        "    tentativas_maximas = 5\n",
        "\n",
        "    print(\"Bem-vindo ao jogo de adivinhação!\")\n",
        "    print(\"Tente adivinhar o número secreto entre 1 e 100. Você tem 5 tentativas.\")\n",
        "\n",
        "    for tentativa in range(1, tentativas_maximas + 1):\n",
        "        print(f\"\\nTentativa {tentativa} de {tentativas_maximas}\")\n",
        "        palpite = int(input(\"Digite seu palpite: \"))\n",
        "\n",
        "        if palpite == numero_secreto:\n",
        "            print(\"Parabéns! Você acertou o número secreto!\")\n",
        "            break\n",
        "        elif palpite > numero_secreto:\n",
        "            print(\"O número secreto é menor que\", palpite)\n",
        "        else:\n",
        "            print(\"O número secreto é maior que\", palpite)\n",
        "    else:\n",
        "        print(f\"\\nSuas {tentativas_maximas} tentativas acabaram. Você perdeu!\")\n",
        "        print(f\"O número secreto era {numero_secreto}.\")\n",
        "\n",
        "if __name__ == \"__main__\":\n",
        "    main()"
      ],
      "metadata": {
        "id": "o08IpPlz8tXU"
      },
      "execution_count": null,
      "outputs": []
    }
  ]
}